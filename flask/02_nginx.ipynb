{
 "cells": [
  {
   "cell_type": "markdown",
   "metadata": {},
   "source": [
    "## ngrok\n",
    "- 로컬 컴퓨터의 방화벽을 뚫어 주는 터널링 서비스\n",
    "- 로컬에서 서버를 실행하여 인터넷 망에서 접속할수 있도록 해주는 툴\n",
    "- install\n",
    "    - windows\n",
    "        - https://ngrok.com/download\n",
    "        - 압축 해제 후 ngrok.exe 파일이 있는 디렉토리로 이동 \n",
    "        - ngrok.exe http 5000\n",
    "    - mac\n",
    "        - brew cask install ngrok\n",
    "        - ngrok http 5000"
   ]
  },
  {
   "cell_type": "markdown",
   "metadata": {},
   "source": [
    "## nginx\n",
    "- https://www.digitalocean.com/community/tutorials/how-to-install-nginx-on-ubuntu-18-04\n",
    "- install\n",
    "```\n",
    "$ sudo apt-get update\n",
    "$ sudo apt-get install nginx  # nginx 설치\n",
    "$ sudo systemctl status nginx # 실행확인\n",
    "```"
   ]
  },
  {
   "cell_type": "markdown",
   "metadata": {},
   "source": [
    "#### 설치중 아래의 에러 발생시\n",
    "\n",
    "- Unable to lock the administration directory (/var/lib/dpkg/) is another process using it? \n",
    "- https://askubuntu.com/questions/1109982/e-could-not-get-lock-var-lib-dpkg-lock-frontend-open-11-resource-temporari\n",
    "\n",
    "해결 방법\n",
    "1. apt apt-get 프로세서 종료\n",
    "```\n",
    "sudo killall apt apt-get\n",
    "```\n",
    "\n",
    "2. apt apt-get 재설정\n",
    "```\n",
    "sudo rm /var/lib/apt/lists/lock\n",
    "sudo rm /var/cache/apt/archives/lock\n",
    "sudo rm /var/lib/dpkg/lock*\n",
    "sudo dpkg --configure -a\n",
    "sudo apt-get update\n",
    "```\n",
    "\n",
    "3. 서버 재시작"
   ]
  },
  {
   "cell_type": "markdown",
   "metadata": {},
   "source": [
    "- 서버의 80 포트 활성화\n",
    "- http://52.79.120.158/ 접속\n",
    "    -  /var/www/html/index.nginx-debian.html 파일의 html 코드가 출력\n",
    "    - 아래의 메시지 출력\n",
    "\n",
    "        ```\n",
    "        Welcome to nginx!\n",
    "        If you see this page, the nginx web server is successfully installed and working. Further configuration is required.\n",
    "\n",
    "        For online documentation and support please refer to nginx.org.\n",
    "        Commercial support is available at nginx.com.\n",
    "\n",
    "        Thank you for using nginx.\n",
    "        ```"
   ]
  },
  {
   "cell_type": "markdown",
   "metadata": {},
   "source": [
    "### nginx 디렉토리 구조\n",
    "- `/etc/nginx`\n",
    "    - nginx의 설정 디렉토리와 파일\n",
    "- `/etc/nginx/nginx.conf`\n",
    "    - 기본 nginx 설정 파일\n",
    "- `/etc/nginx/sites-available/`\n",
    "    - nginx의 설정파일들이 모여있는 디렉토리  "
   ]
  },
  {
   "cell_type": "markdown",
   "metadata": {},
   "source": [
    "### nginx 설정\n",
    "- /etc/nginx/sites-available/default 파일을 수정\n",
    "- 정적인 파일 설정\n",
    "```\n",
    "server {\n",
    "    location / {\n",
    "        root /path/to/html ; \n",
    "    }\n",
    "    location /images/ {\n",
    "        root /path/to/image ;\n",
    "    }\n",
    "}\n",
    "```\n",
    "- proxy 서버\n",
    "```\n",
    "server {\n",
    "    listen 8080;\n",
    "    listen 8081;\n",
    "    location / {\n",
    "        proxy_pass http://localhost:5000;\n",
    "    }\n",
    "}\n",
    "```"
   ]
  },
  {
   "cell_type": "markdown",
   "metadata": {},
   "source": [
    "### nginx 재시작\n",
    "```\n",
    "$ sudo systemctl restart nginx\n",
    "```"
   ]
  },
  {
   "cell_type": "markdown",
   "metadata": {},
   "source": [
    "### Flask 실행\n",
    "- hello 프로젝트 파일 서버로 이동\n",
    "- 서버에 flask 설치\n",
    "    - pip install flask\n",
    "- was 실행\n",
    "    - python hello.py \n",
    "- http://52.79.120.158:8080 로 접속\n",
    "- http://52.79.120.158:8081 로 접속"
   ]
  }
 ],
 "metadata": {
  "kernelspec": {
   "display_name": "Python 3",
   "language": "python",
   "name": "python3"
  },
  "language_info": {
   "codemirror_mode": {
    "name": "ipython",
    "version": 3
   },
   "file_extension": ".py",
   "mimetype": "text/x-python",
   "name": "python",
   "nbconvert_exporter": "python",
   "pygments_lexer": "ipython3",
   "version": "3.6.9"
  }
 },
 "nbformat": 4,
 "nbformat_minor": 2
}
