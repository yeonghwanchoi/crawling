{
 "cells": [
  {
   "cell_type": "markdown",
   "metadata": {
    "colab_type": "text",
    "id": "ZgtpT76cluVI"
   },
   "source": [
    "### Article 1\n",
    "- 모델 적용"
   ]
  },
  {
   "cell_type": "code",
   "execution_count": 18,
   "metadata": {
    "colab": {},
    "colab_type": "code",
    "id": "D6NT6DcDluVK",
    "outputId": "5be9fff8-4b0f-4280-82e9-a0aa070ac7b1"
   },
   "outputs": [
    {
     "name": "stdout",
     "output_type": "stream",
     "text": [
      "03_chatbot (1).ipynb     \u001b[1m\u001b[36marticle\u001b[m\u001b[m                  \u001b[1m\u001b[36mdatas\u001b[m\u001b[m\r\n",
      "04_article.ipynb         article_classifier.ipynb\r\n"
     ]
    }
   ],
   "source": [
    "!ls"
   ]
  },
  {
   "cell_type": "code",
   "execution_count": 19,
   "metadata": {
    "colab": {},
    "colab_type": "code",
    "id": "ja-qWKZpluVP",
    "outputId": "fc6d6f9a-b942-41de-eb45-75b272b7845b"
   },
   "outputs": [
    {
     "name": "stdout",
     "output_type": "stream",
     "text": [
      "cp: model.pkl: No such file or directory\n",
      "\u001b[01;34marticle\u001b[00m\n",
      "├── article.py\n",
      "├── \u001b[01;34mmodels\u001b[00m\n",
      "└── \u001b[01;34mtemplates\u001b[00m\n",
      "    └── index.html\n",
      "\n",
      "2 directories, 2 files\n"
     ]
    }
   ],
   "source": [
    "!rm -rf article\n",
    "!mkdir -p article/models\n",
    "!mkdir -p article/templates\n",
    "!touch article/article.py\n",
    "!touch article/templates/index.html\n",
    "!cp model.pkl article/models/\n",
    "!tree article"
   ]
  },
  {
   "cell_type": "code",
   "execution_count": 20,
   "metadata": {},
   "outputs": [],
   "source": [
    "# route"
   ]
  },
  {
   "cell_type": "code",
   "execution_count": 21,
   "metadata": {},
   "outputs": [
    {
     "name": "stdout",
     "output_type": "stream",
     "text": [
      "Overwriting article/article.py\n"
     ]
    }
   ],
   "source": [
    "%%writefile article/article.py\n",
    "import pickle\n",
    "import numpy as np\n",
    "from flask import *\n",
    "app = Flask(__name__)\n",
    "app.config.update(\n",
    "    TEMPLATES_AUTO_RELOAD=True, DEBUG=True\n",
    ")\n",
    "@app.route(\"/\")\n",
    "def index():\n",
    "    return render_template(\"index.html\")\n",
    "\n",
    "app.run()"
   ]
  },
  {
   "cell_type": "code",
   "execution_count": 22,
   "metadata": {},
   "outputs": [],
   "source": [
    "# %%writefile article/templates/index.html\n",
    "# <!DOCTYPE html>\n",
    "# <html>\n",
    "# <head>\n",
    "#     <meta charset=\"utf-8\"><title>DSS16</title>\n",
    "#     <link href='https://cdnjs.cloudflare.com/ajax/libs/twitter-bootstrap/4.6.0/css/bootstrap-grid.min.css'>\n",
    "# </head>\n",
    "# <body>\n",
    "#     <div class='container'>\n",
    "#         <div class=\"row\">\n",
    "#             <input type='text' class=\"sentence\", placegolder='문장을 입력하세요'>\n",
    "#             <button type='button' class=\"prediction\">"
   ]
  },
  {
   "cell_type": "code",
   "execution_count": 54,
   "metadata": {
    "colab": {},
    "colab_type": "code",
    "id": "K4mba2ztluVW",
    "outputId": "3355f552-b864-4ffd-b600-024be522ed72"
   },
   "outputs": [
    {
     "name": "stdout",
     "output_type": "stream",
     "text": [
      "Overwriting article/templates/index.html\n"
     ]
    }
   ],
   "source": [
    "%%writefile article/templates/index.html\n",
    "<!DOCTYPE html>\n",
    "<html lang=\"en\" dir=\"ltr\">\n",
    "    <head>\n",
    "        <meta charset=\"utf-8\">\n",
    "        <title>데사스</title>\n",
    "        <link rel=\"shortcut icon\" href=\"https://asset.fastcampus.co.kr/favicon/favicon-16x16.png\"  />\n",
    "        <link rel=\"stylesheet\" href=\"https://cdnjs.cloudflare.com/ajax/libs/twitter-bootstrap/4.5.0/css/bootstrap.min.css\">\n",
    "        <style media=\"screen\">\n",
    "            container, .highcharts-container{\n",
    "                margin: 0 auto;\n",
    "            }\n",
    "        </style>\n",
    "    </head>\n",
    "    <body>\n",
    "        <div class=\"container pt-5\">\n",
    "\n",
    "            <!-- 입력창 -->\n",
    "            <div class=\"row\">\n",
    "                <input class=\"form-control col-9 sentence\" type=\"text\" placeholder=\"type your sentence.\" \n",
    "                value=\"data science is fun hahaha.\">\n",
    "                <button type=\"button\" class=\"btn btn-danger col-3 prediction\">Prediction</button>\n",
    "            </div>\n",
    "\n",
    "            <!-- 결과창 -->\n",
    "            <div class=\"row\">\n",
    "                <div class=\"col-15 alert alert-danger mt-2\" role=\"alert\">\n",
    "                    A simple danger alert—check it out!\n",
    "                </div>\n",
    "            </div>\n",
    "\n",
    "            <!-- 차트 -->\n",
    "            <div class=\"row\">\n",
    "                <div id=\"container\" class=\"w-100\"></div>\n",
    "            </div>\n",
    "\n",
    "        </div>\n",
    "\n",
    "        <script type=\"text/javascript\" src=\"https://cdnjs.cloudflare.com/ajax/libs/jquery/3.5.1/jquery.min.js\"></script>\n",
    "        <script type=\"text/javascript\" src=\"https://cdnjs.cloudflare.com/ajax/libs/highcharts/6.1.1/highcharts.js\"></script>\n",
    "        <script type=\"text/javascript\">\n",
    "        \n",
    "            $(document).ready(function(){\n",
    "                $('.prediction').click(function(){\n",
    "                    var sentence = $('.sentence').val();\n",
    "                    console.log(sentence);\n",
    "                    var url = \"/predic?sentence=\" + sentence;\n",
    "                    console.log(url);\n",
    "                    $.getJSON(url, function(data){\n",
    "                        console.log(data);\n",
    "\n",
    "                        $('.alert').empty();\n",
    "                        for(var i=0; i<data.category.length; i++){\n",
    "                            var tag = \"<p>\" + data.category[i] + \" : \" + data.result[i] + \"%</p>\";\n",
    "                            $('.alert').append(tag);\n",
    "                        }\n",
    "\n",
    "                        var series = [];\n",
    "                        for(var i=0; i<data.category.length; i++){\n",
    "                            series.push({\n",
    "                                name: data.category[i],\n",
    "                                y: data.result[i]\n",
    "                            })\n",
    "                        }\n",
    "                        console.log(series);\n",
    "\n",
    "                        draw_chart(series);\n",
    "\n",
    "                    })\n",
    "\n",
    "                })\n",
    "            })\n",
    "\n",
    "            function draw_chart(series){\n",
    "\n",
    "                Highcharts.chart('container', {\n",
    "                    chart: {\n",
    "                        plotBackgroundColor: null,\n",
    "                        plotBorderWidth: null,\n",
    "                        plotShadow: false,\n",
    "                        type: 'pie'\n",
    "                    },\n",
    "                    title: {\n",
    "                        text: '데이터 사이언스 스쿨'\n",
    "                    },\n",
    "                    tooltip: {\n",
    "                        pointFormat: '{series.name}: <b>{point.percentage:.1f}%</b>'\n",
    "                    },\n",
    "                    plotOptions: {\n",
    "                        pie: {\n",
    "                            allowPointSelect: true,\n",
    "                            cursor: 'pointer',\n",
    "                            dataLabels: {\n",
    "                                enabled: false\n",
    "                            },\n",
    "                            showInLegend: true\n",
    "                        }\n",
    "                    },\n",
    "                    series: [{\n",
    "                        name: 'Brands',\n",
    "                        colorByPoint: true,\n",
    "                        data: series\n",
    "                    }]\n",
    "                });\n",
    "\n",
    "            }\n",
    "        </script>\n",
    "    </body>\n",
    "</html>"
   ]
  },
  {
   "cell_type": "code",
   "execution_count": 53,
   "metadata": {
    "colab": {},
    "colab_type": "code",
    "id": "RkSI7prNluVZ",
    "outputId": "05756f26-67f4-4c7e-8176-2c0b728b1fbe"
   },
   "outputs": [
    {
     "name": "stdout",
     "output_type": "stream",
     "text": [
      "Overwriting article/article.py\n"
     ]
    }
   ],
   "source": [
    "%%writefile article/article.py\n",
    "from flask import *\n",
    "import pickle\n",
    "import os\n",
    "import numpy as np\n",
    " \n",
    "app = Flask(__name__)\n",
    "app.config.update(TEMPLATES_AUTO_RELOAD=True,DEBUG=True)\n",
    "\n",
    "with open('models/model.pkl',\"rb\") as file:\n",
    "    model= pickle.load(file)\n",
    "\n",
    "models = {}\n",
    "\n",
    "def init():\n",
    "    with open(\"models/model.pkl\", \"rb\") as f:\n",
    "        models[\"category\"] = pickle.load(f)\n",
    "\n",
    "@app.route(\"/\")\n",
    "def index():\n",
    "    return render_template(\"index.html\")\n",
    "\n",
    "@app.route(\"/predic\")\n",
    "def predic():\n",
    "    result = {}\n",
    "    result[\"category\"] = [\"politics\",\"economics\",\"social\",\"life and culture\",\"world\",\"IT/science\"]\n",
    "    model = models[\"category\"]\n",
    "    \n",
    "    sentence = request.values.get(\"sentence\") \n",
    "    result[\"sentence\"] = sentence\n",
    "\n",
    "    result[\"result\"] = list(np.round_(model.predict_proba([sentence])[0] * 100, 2))\n",
    "    \n",
    "    return jsonify(result)\n",
    "    \n",
    "#     response = jsonify(result)\n",
    "#     response.headers.add('Access-Control-Allow-Origin', '*')\n",
    "    \n",
    "#      return response\n",
    "init()\n",
    "app.run()"
   ]
  },
  {
   "cell_type": "code",
   "execution_count": null,
   "metadata": {},
   "outputs": [],
   "source": []
  },
  {
   "cell_type": "code",
   "execution_count": 33,
   "metadata": {
    "colab": {},
    "colab_type": "code",
    "id": "VQLghWw2luVd",
    "outputId": "6143481e-819a-4a7f-de37-2b73daace6c3"
   },
   "outputs": [
    {
     "name": "stdout",
     "output_type": "stream",
     "text": [
      "\u001b[01;34marticle/\u001b[00m\r\n",
      "├── article.py\r\n",
      "├── model.pkl\r\n",
      "├── \u001b[01;34mmodels\u001b[00m\r\n",
      "│   └── model.pkl\r\n",
      "└── \u001b[01;34mtemplates\u001b[00m\r\n",
      "    └── index.html\r\n",
      "\r\n",
      "2 directories, 4 files\r\n"
     ]
    }
   ],
   "source": [
    "!tree article/"
   ]
  },
  {
   "cell_type": "code",
   "execution_count": null,
   "metadata": {},
   "outputs": [],
   "source": []
  },
  {
   "cell_type": "code",
   "execution_count": null,
   "metadata": {},
   "outputs": [],
   "source": []
  }
 ],
 "metadata": {
  "colab": {
   "name": "05_article_1.ipynb",
   "provenance": []
  },
  "kernelspec": {
   "display_name": "Python 3",
   "language": "python",
   "name": "python3"
  },
  "language_info": {
   "codemirror_mode": {
    "name": "ipython",
    "version": 3
   },
   "file_extension": ".py",
   "mimetype": "text/x-python",
   "name": "python",
   "nbconvert_exporter": "python",
   "pygments_lexer": "ipython3",
   "version": "3.8.5"
  },
  "toc": {
   "base_numbering": 1,
   "nav_menu": {},
   "number_sections": true,
   "sideBar": true,
   "skip_h1_title": false,
   "title_cell": "Table of Contents",
   "title_sidebar": "Contents",
   "toc_cell": false,
   "toc_position": {},
   "toc_section_display": true,
   "toc_window_display": false
  },
  "varInspector": {
   "cols": {
    "lenName": 16,
    "lenType": 16,
    "lenVar": 40
   },
   "kernels_config": {
    "python": {
     "delete_cmd_postfix": "",
     "delete_cmd_prefix": "del ",
     "library": "var_list.py",
     "varRefreshCmd": "print(var_dic_list())"
    },
    "r": {
     "delete_cmd_postfix": ") ",
     "delete_cmd_prefix": "rm(",
     "library": "var_list.r",
     "varRefreshCmd": "cat(var_dic_list()) "
    }
   },
   "types_to_exclude": [
    "module",
    "function",
    "builtin_function_or_method",
    "instance",
    "_Feature"
   ],
   "window_display": false
  }
 },
 "nbformat": 4,
 "nbformat_minor": 1
}
