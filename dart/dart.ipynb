{
 "cells": [
  {
   "cell_type": "code",
   "execution_count": 121,
   "id": "hollow-rover",
   "metadata": {},
   "outputs": [],
   "source": [
    "from selenium import webdriver\n",
    "import requests\n",
    "from bs4 import BeautifulSoup\n",
    "import time\n",
    "import re"
   ]
  },
  {
   "cell_type": "code",
   "execution_count": 3,
   "id": "racial-bikini",
   "metadata": {},
   "outputs": [],
   "source": [
    "df=pd.read_excel('raw_20142020.xlsx')\n",
    "df['new']=df['stock'].astype(str).apply(lambda x : '0'*(6-len(x))+x )\n",
    "name_list=list(df['new'].unique())"
   ]
  },
  {
   "cell_type": "code",
   "execution_count": 11,
   "id": "prompt-category",
   "metadata": {},
   "outputs": [],
   "source": [
    "start_time = '20150101'\n",
    "driver = webdriver.Chrome('./chromedriver')\n",
    "driver.get('http://dart.fss.or.kr/dsaf001/main.do?rcpNo=20210309000744&dcmNo=7860941')\n",
    "time.sleep(1)\n",
    "start_date=driver.find_element_by_id(\"startDate\")\n",
    "start_date.clear()\n",
    "time.sleep(1)\n",
    "start_date.send_keys(start_time)\n",
    "\n",
    "select_type = driver.find_element_by_xpath('//*[@id=\"searchForm\"]/fieldset/p[3]/a[1]')\n",
    "select_type.click()\n",
    "time.sleep(1)\n",
    "\n",
    "select_doc = driver.find_element_by_id(\"publicType1\")\n",
    "select_doc.click()"
   ]
  },
  {
   "cell_type": "code",
   "execution_count": 15,
   "id": "sorted-batch",
   "metadata": {},
   "outputs": [],
   "source": [
    "def get_url(name_list):\n",
    "    url_dict={}\n",
    "   \n",
    "    for i in name_list:\n",
    "        company_id = driver.find_element_by_id('textCrpNm')\n",
    "        company_id.clear()\n",
    "        time.sleep(1)\n",
    "        company_id.send_keys(i)\n",
    "        \n",
    "        search=driver.find_element_by_id('searchpng')\n",
    "        search.click()\n",
    "        time.sleep(1)\n",
    "\n",
    "        html= driver.page_source\n",
    "        soup = BeautifulSoup(html, 'html.parser') \n",
    "        a=['http://dart.fss.or.kr{}'.format(i.get('href')) for i in soup.tbody.find_all(title=\"사업보고서 공시뷰어 새창\")] \n",
    "        \n",
    "        url_dict[i]=a \n",
    "    return url_dict"
   ]
  },
  {
   "cell_type": "code",
   "execution_count": 2,
   "id": "confirmed-baker",
   "metadata": {},
   "outputs": [],
   "source": [
    "driver = webdriver.Chrome('./chromedriver')"
   ]
  },
  {
   "cell_type": "code",
   "execution_count": 151,
   "id": "spiritual-republican",
   "metadata": {},
   "outputs": [],
   "source": [
    "def get_num(url):\n",
    "    driver.get(url)\n",
    "    driver.find_element_by_xpath('//*[@id=\"att\"]/option[2]').click()\n",
    "    driver.find_element_by_xpath('//*[@id=\"ext-gen10\"]/div/li[5]/div').click()\n",
    "    driver.switch_to.frame(\"ifrm\")\n",
    "    html= driver.page_source\n",
    "    soup = BeautifulSoup(html, 'html.parser') \n",
    "    a=len(list(soup.find_all('table')[5].find_all('tbody')[0].find_all('tr')))\n",
    "    return a"
   ]
  },
  {
   "cell_type": "code",
   "execution_count": 147,
   "id": "advance-three",
   "metadata": {},
   "outputs": [],
   "source": [
    "df=pd.read_csv('result.csv',index_col=0)"
   ]
  },
  {
   "cell_type": "code",
   "execution_count": 148,
   "id": "finnish-stewart",
   "metadata": {},
   "outputs": [],
   "source": [
    "b=df.head()"
   ]
  },
  {
   "cell_type": "code",
   "execution_count": 155,
   "id": "practical-champagne",
   "metadata": {},
   "outputs": [
    {
     "data": {
      "text/plain": [
       "['http://dart.fss.or.kr/dsaf001/main.do?rcpNo=20210317000578',\n",
       " 'http://dart.fss.or.kr/dsaf001/main.do?rcpNo=20200330001229',\n",
       " 'http://dart.fss.or.kr/dsaf001/main.do?rcpNo=20190401001980',\n",
       " 'http://dart.fss.or.kr/dsaf001/main.do?rcpNo=20180618000261',\n",
       " 'http://dart.fss.or.kr/dsaf001/main.do?rcpNo=20170405001320']"
      ]
     },
     "execution_count": 155,
     "metadata": {},
     "output_type": "execute_result"
    }
   ],
   "source": [
    "list(b['url'])"
   ]
  },
  {
   "cell_type": "code",
   "execution_count": 156,
   "id": "adopted-twelve",
   "metadata": {},
   "outputs": [],
   "source": [
    "soup = BeautifulSoup(html, 'html.parser')"
   ]
  },
  {
   "cell_type": "code",
   "execution_count": 160,
   "id": "golden-journal",
   "metadata": {},
   "outputs": [
    {
     "data": {
      "text/plain": [
       "<tbody>\n",
       "<tr>\n",
       "<td align=\"CENTER\" height=\"20\" width=\"154\">구  분</td>\n",
       "<td align=\"CENTER\" colspan=\"9\" height=\"20\" width=\"704\">내   역</td>\n",
       "</tr>\n",
       "<tr>\n",
       "<td align=\"CENTER\" height=\"73\" rowspan=\"2\" width=\"154\">전반감사계획<br/>(감사착수단계)</td>\n",
       "<td align=\"CENTER\" height=\"20\" width=\"186\">수행시기</td>\n",
       "<td align=\"CENTER\" colspan=\"5\" height=\"20\" width=\"206\">2020.03.09 ~ 2020.09.30</td>\n",
       "<td align=\"CENTER\" height=\"20\" width=\"32\">84</td>\n",
       "<td colspan=\"2\" height=\"20\" width=\"280\">일</td>\n",
       "</tr>\n",
       "<tr>\n",
       "<td align=\"CENTER\" height=\"43\" width=\"186\">주요내용</td>\n",
       "<td colspan=\"8\" height=\"43\" width=\"518\">회사 및 산업에 대한 전반적 이해를 바탕으로 감사위험평가 및 감사절차의 성격, 시기 및 범위 등을 결정</td>\n",
       "</tr>\n",
       "<tr>\n",
       "<td align=\"CENTER\" height=\"170\" rowspan=\"6\" width=\"154\">현장감사<br/>주요내용</td>\n",
       "<td align=\"CENTER\" colspan=\"3\" height=\"50\" rowspan=\"2\" width=\"256\">수행시기</td>\n",
       "<td align=\"CENTER\" colspan=\"4\" height=\"20\" width=\"168\">투입인원</td>\n",
       "<td align=\"CENTER\" colspan=\"2\" height=\"50\" rowspan=\"2\" width=\"280\">주요 감사업무 수행내용</td>\n",
       "</tr>\n",
       "<tr>\n",
       "<td align=\"CENTER\" colspan=\"2\" height=\"20\" width=\"87\">상주</td>\n",
       "<td align=\"CENTER\" colspan=\"2\" height=\"20\" width=\"81\">비상주</td>\n",
       "</tr>\n",
       "<tr>\n",
       "<td align=\"CENTER\" height=\"20\" width=\"186\">2020.04.09 ~ 2021.01.29</td>\n",
       "<td align=\"RIGHT\" height=\"20\" width=\"37\">120</td>\n",
       "<td align=\"CENTER\" height=\"20\" width=\"33\">일</td>\n",
       "<td align=\"RIGHT\" height=\"20\" width=\"57\">13</td>\n",
       "<td align=\"CENTER\" height=\"20\" width=\"30\">명</td>\n",
       "<td align=\"RIGHT\" height=\"20\" width=\"49\">24</td>\n",
       "<td align=\"CENTER\" height=\"20\" width=\"32\">명</td>\n",
       "<td colspan=\"2\" height=\"20\" width=\"280\">시스템 및 자동 내부통제 감사</td>\n",
       "</tr>\n",
       "<tr>\n",
       "<td align=\"CENTER\" height=\"20\" width=\"186\">2020.03.09 ~ 2020.12.31</td>\n",
       "<td align=\"RIGHT\" height=\"20\" width=\"37\">83</td>\n",
       "<td align=\"CENTER\" height=\"20\" width=\"33\">일</td>\n",
       "<td align=\"RIGHT\" height=\"20\" width=\"57\">44</td>\n",
       "<td align=\"CENTER\" height=\"20\" width=\"30\">명</td>\n",
       "<td align=\"RIGHT\" height=\"20\" width=\"49\">38</td>\n",
       "<td align=\"CENTER\" height=\"20\" width=\"32\">명</td>\n",
       "<td colspan=\"2\" height=\"20\" width=\"280\">조기입증감사(연중감사)</td>\n",
       "</tr>\n",
       "<tr>\n",
       "<td align=\"CENTER\" height=\"20\" width=\"186\">2021.01.11 ~ 2021.01.22</td>\n",
       "<td align=\"RIGHT\" height=\"20\" width=\"37\">10</td>\n",
       "<td align=\"CENTER\" height=\"20\" width=\"33\">일</td>\n",
       "<td align=\"RIGHT\" height=\"20\" width=\"57\">40</td>\n",
       "<td align=\"CENTER\" height=\"20\" width=\"30\">명</td>\n",
       "<td align=\"RIGHT\" height=\"20\" width=\"49\">6</td>\n",
       "<td align=\"CENTER\" height=\"20\" width=\"32\">명</td>\n",
       "<td colspan=\"2\" height=\"20\" width=\"280\">조회확인 등 조기입증감사절차 업데이트</td>\n",
       "</tr>\n",
       "<tr>\n",
       "<td align=\"CENTER\" height=\"20\" width=\"186\">2021.01.28 ~ 2021.02.17</td>\n",
       "<td align=\"RIGHT\" height=\"20\" width=\"37\">15</td>\n",
       "<td align=\"CENTER\" height=\"20\" width=\"33\">일</td>\n",
       "<td align=\"RIGHT\" height=\"20\" width=\"57\">40</td>\n",
       "<td align=\"CENTER\" height=\"20\" width=\"30\">명</td>\n",
       "<td align=\"RIGHT\" height=\"20\" width=\"49\">3</td>\n",
       "<td align=\"CENTER\" height=\"20\" width=\"32\">명</td>\n",
       "<td colspan=\"2\" height=\"20\" width=\"280\">재무제표 검증 및 감사종결 절차 수행</td>\n",
       "</tr>\n",
       "<tr>\n",
       "<td align=\"CENTER\" height=\"103\" rowspan=\"3\" width=\"154\">재고자산실사(입회)</td>\n",
       "<td align=\"CENTER\" height=\"43\" width=\"186\">실사(입회)시기</td>\n",
       "<td align=\"CENTER\" colspan=\"5\" height=\"43\" width=\"206\">2020.11.29 / 2020.11.30<br/>/ 2020.12.1</td>\n",
       "<td align=\"CENTER\" height=\"43\" width=\"32\">3</td>\n",
       "<td colspan=\"2\" height=\"43\" width=\"280\">일</td>\n",
       "</tr>\n",
       "<tr>\n",
       "<td align=\"CENTER\" height=\"20\" width=\"186\">실사(입회)장소</td>\n",
       "<td colspan=\"8\" height=\"20\" width=\"518\">수원, 기흥, 구미, 광주사업장 등</td>\n",
       "</tr>\n",
       "<tr>\n",
       "<td align=\"CENTER\" height=\"20\" width=\"186\">실사(입회)대상</td>\n",
       "<td colspan=\"8\" height=\"20\" width=\"518\">원재료, 재공품, 제품 등</td>\n",
       "</tr>\n",
       "<tr>\n",
       "<td align=\"CENTER\" height=\"80\" rowspan=\"3\" width=\"154\">금융자산실사(입회)</td>\n",
       "<td align=\"CENTER\" height=\"20\" width=\"186\">실사(입회)시기</td>\n",
       "<td align=\"CENTER\" colspan=\"5\" height=\"20\" width=\"206\">2021.01.05 / 2021.01.07</td>\n",
       "<td align=\"CENTER\" height=\"20\" width=\"32\">2</td>\n",
       "<td colspan=\"2\" height=\"20\" width=\"280\">일</td>\n",
       "</tr>\n",
       "<tr>\n",
       "<td align=\"CENTER\" height=\"20\" width=\"186\">실사(입회)장소</td>\n",
       "<td colspan=\"8\" height=\"20\" width=\"518\">태평로, 수원사업장 등</td>\n",
       "</tr>\n",
       "<tr>\n",
       "<td align=\"CENTER\" height=\"20\" width=\"186\">실사(입회)대상</td>\n",
       "<td colspan=\"8\" height=\"20\" width=\"518\">현금, 유가증권 등</td>\n",
       "</tr>\n",
       "<tr>\n",
       "<td align=\"CENTER\" height=\"50\" rowspan=\"2\" width=\"154\">외부조회</td>\n",
       "<td align=\"CENTER\" height=\"20\" width=\"186\">금융거래조회 </td>\n",
       "<td align=\"CENTER\" colspan=\"2\" height=\"20\" width=\"70\">O</td>\n",
       "<td align=\"CENTER\" colspan=\"3\" height=\"20\" width=\"136\">채권채무조회</td>\n",
       "<td align=\"CENTER\" height=\"20\" width=\"32\">O</td>\n",
       "<td align=\"CENTER\" height=\"20\" width=\"157\">변호사조회</td>\n",
       "<td align=\"CENTER\" height=\"20\" width=\"123\">O</td>\n",
       "</tr>\n",
       "<tr>\n",
       "<td align=\"CENTER\" height=\"20\" width=\"186\">기타조회</td>\n",
       "<td colspan=\"8\" height=\"20\" width=\"518\">타처보관재고자산</td>\n",
       "</tr>\n",
       "<tr>\n",
       "<td align=\"CENTER\" height=\"50\" rowspan=\"2\" width=\"154\">지배기구와의<br/>커뮤니케이션</td>\n",
       "<td align=\"CENTER\" height=\"20\" width=\"186\">커뮤니케이션 횟수</td>\n",
       "<td align=\"CENTER\" colspan=\"2\" height=\"20\" width=\"70\">4</td>\n",
       "<td colspan=\"6\" height=\"20\" width=\"448\">회</td>\n",
       "</tr>\n",
       "<tr>\n",
       "<td align=\"CENTER\" height=\"20\" width=\"186\">수행시기</td>\n",
       "<td colspan=\"8\" height=\"20\" width=\"518\">2020.04.27 / 2020.07.28 / 2020.10.27 / 2021.01.26</td>\n",
       "</tr>\n",
       "<tr>\n",
       "<td align=\"CENTER\" height=\"50\" rowspan=\"2\" width=\"154\">외부전문가 활용</td>\n",
       "<td align=\"CENTER\" height=\"20\" width=\"186\">감사 활용 내용</td>\n",
       "<td colspan=\"8\" height=\"20\" width=\"518\">해당사항없음</td>\n",
       "</tr>\n",
       "<tr>\n",
       "<td align=\"CENTER\" height=\"20\" width=\"186\">수행시기</td>\n",
       "<td align=\"CENTER\" colspan=\"5\" height=\"20\" width=\"206\">-</td>\n",
       "<td align=\"CENTER\" height=\"20\" width=\"32\">-</td>\n",
       "<td colspan=\"2\" height=\"20\" width=\"280\">일</td>\n",
       "</tr>\n",
       "</tbody>"
      ]
     },
     "execution_count": 160,
     "metadata": {},
     "output_type": "execute_result"
    }
   ],
   "source": [
    "soup.find_all('tbody')[4]"
   ]
  },
  {
   "cell_type": "code",
   "execution_count": 153,
   "id": "rocky-uzbekistan",
   "metadata": {},
   "outputs": [
    {
     "data": {
      "text/html": [
       "<div>\n",
       "<style scoped>\n",
       "    .dataframe tbody tr th:only-of-type {\n",
       "        vertical-align: middle;\n",
       "    }\n",
       "\n",
       "    .dataframe tbody tr th {\n",
       "        vertical-align: top;\n",
       "    }\n",
       "\n",
       "    .dataframe thead th {\n",
       "        text-align: right;\n",
       "    }\n",
       "</style>\n",
       "<table border=\"1\" class=\"dataframe\">\n",
       "  <thead>\n",
       "    <tr style=\"text-align: right;\">\n",
       "      <th></th>\n",
       "      <th>url</th>\n",
       "      <th>code</th>\n",
       "    </tr>\n",
       "  </thead>\n",
       "  <tbody>\n",
       "    <tr>\n",
       "      <th>0</th>\n",
       "      <td>http://dart.fss.or.kr/dsaf001/main.do?rcpNo=20...</td>\n",
       "      <td>20</td>\n",
       "    </tr>\n",
       "    <tr>\n",
       "      <th>1</th>\n",
       "      <td>http://dart.fss.or.kr/dsaf001/main.do?rcpNo=20...</td>\n",
       "      <td>20</td>\n",
       "    </tr>\n",
       "    <tr>\n",
       "      <th>2</th>\n",
       "      <td>http://dart.fss.or.kr/dsaf001/main.do?rcpNo=20...</td>\n",
       "      <td>20</td>\n",
       "    </tr>\n",
       "    <tr>\n",
       "      <th>3</th>\n",
       "      <td>http://dart.fss.or.kr/dsaf001/main.do?rcpNo=20...</td>\n",
       "      <td>20</td>\n",
       "    </tr>\n",
       "    <tr>\n",
       "      <th>4</th>\n",
       "      <td>http://dart.fss.or.kr/dsaf001/main.do?rcpNo=20...</td>\n",
       "      <td>20</td>\n",
       "    </tr>\n",
       "  </tbody>\n",
       "</table>\n",
       "</div>"
      ],
      "text/plain": [
       "                                                 url  code\n",
       "0  http://dart.fss.or.kr/dsaf001/main.do?rcpNo=20...    20\n",
       "1  http://dart.fss.or.kr/dsaf001/main.do?rcpNo=20...    20\n",
       "2  http://dart.fss.or.kr/dsaf001/main.do?rcpNo=20...    20\n",
       "3  http://dart.fss.or.kr/dsaf001/main.do?rcpNo=20...    20\n",
       "4  http://dart.fss.or.kr/dsaf001/main.do?rcpNo=20...    20"
      ]
     },
     "execution_count": 153,
     "metadata": {},
     "output_type": "execute_result"
    }
   ],
   "source": [
    "b"
   ]
  },
  {
   "cell_type": "code",
   "execution_count": null,
   "id": "recreational-folder",
   "metadata": {},
   "outputs": [],
   "source": []
  }
 ],
 "metadata": {
  "kernelspec": {
   "display_name": "Python 3",
   "language": "python",
   "name": "python3"
  },
  "language_info": {
   "codemirror_mode": {
    "name": "ipython",
    "version": 3
   },
   "file_extension": ".py",
   "mimetype": "text/x-python",
   "name": "python",
   "nbconvert_exporter": "python",
   "pygments_lexer": "ipython3",
   "version": "3.8.5"
  },
  "toc": {
   "base_numbering": 1,
   "nav_menu": {},
   "number_sections": true,
   "sideBar": true,
   "skip_h1_title": false,
   "title_cell": "Table of Contents",
   "title_sidebar": "Contents",
   "toc_cell": false,
   "toc_position": {},
   "toc_section_display": true,
   "toc_window_display": false
  },
  "varInspector": {
   "cols": {
    "lenName": 16,
    "lenType": 16,
    "lenVar": 40
   },
   "kernels_config": {
    "python": {
     "delete_cmd_postfix": "",
     "delete_cmd_prefix": "del ",
     "library": "var_list.py",
     "varRefreshCmd": "print(var_dic_list())"
    },
    "r": {
     "delete_cmd_postfix": ") ",
     "delete_cmd_prefix": "rm(",
     "library": "var_list.r",
     "varRefreshCmd": "cat(var_dic_list()) "
    }
   },
   "types_to_exclude": [
    "module",
    "function",
    "builtin_function_or_method",
    "instance",
    "_Feature"
   ],
   "window_display": false
  }
 },
 "nbformat": 4,
 "nbformat_minor": 5
}
