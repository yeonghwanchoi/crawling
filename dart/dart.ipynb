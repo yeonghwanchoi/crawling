{
 "cells": [
  {
   "cell_type": "code",
   "execution_count": 1,
   "id": "sticky-fitting",
   "metadata": {},
   "outputs": [],
   "source": [
    "from scrapy.http import TextResponse"
   ]
  },
  {
   "cell_type": "code",
   "execution_count": 2,
   "id": "adapted-karaoke",
   "metadata": {},
   "outputs": [],
   "source": [
    "from selenium import webdriver\n",
    "import requests\n",
    "from bs4 import BeautifulSoup\n",
    "import time"
   ]
  },
  {
   "cell_type": "code",
   "execution_count": 3,
   "id": "obvious-nebraska",
   "metadata": {},
   "outputs": [],
   "source": [
    "df=pd.read_excel('raw_20142020.xlsx')\n",
    "df['new']=df['stock'].astype(str).apply(lambda x : '0'*(6-len(x))+x )\n",
    "name_list=list(df['new'].unique())"
   ]
  },
  {
   "cell_type": "code",
   "execution_count": 11,
   "id": "crucial-thursday",
   "metadata": {},
   "outputs": [],
   "source": [
    "start_time = '20150101'\n",
    "driver = webdriver.Chrome('./chromedriver')\n",
    "\n",
    "\n",
    "\n",
    "\n",
    "driver.get('http://dart.fss.or.kr/')\n",
    "time.sleep(1)\n",
    "start_date=driver.find_element_by_id(\"startDate\")\n",
    "start_date.clear()\n",
    "time.sleep(1)\n",
    "start_date.send_keys(start_time)\n",
    "\n",
    "select_type = driver.find_element_by_xpath('//*[@id=\"searchForm\"]/fieldset/p[3]/a[1]')\n",
    "select_type.click()\n",
    "time.sleep(1)\n",
    "\n",
    "select_doc = driver.find_element_by_id(\"publicType1\")\n",
    "select_doc.click()"
   ]
  },
  {
   "cell_type": "code",
   "execution_count": 15,
   "id": "attempted-variable",
   "metadata": {},
   "outputs": [],
   "source": [
    "def get_url(name_list):\n",
    "    url_dict={}\n",
    "   \n",
    "    for i in name_list:\n",
    "        company_id = driver.find_element_by_id('textCrpNm')\n",
    "        company_id.clear()\n",
    "        time.sleep(1)\n",
    "        company_id.send_keys(i)\n",
    "        \n",
    "        search=driver.find_element_by_id('searchpng')\n",
    "        search.click()\n",
    "        time.sleep(1)\n",
    "\n",
    "        html= driver.page_source\n",
    "        soup = BeautifulSoup(html, 'html.parser') \n",
    "        a=['http://dart.fss.or.kr{}'.format(i.get('href')) for i in soup.tbody.find_all(title=\"사업보고서 공시뷰어 새창\")] \n",
    "        \n",
    "        url_dict[i]=a \n",
    "    return url_dict"
   ]
  },
  {
   "cell_type": "code",
   "execution_count": 16,
   "id": "prescription-territory",
   "metadata": {},
   "outputs": [],
   "source": [
    "url_dict=get_url(name_list)"
   ]
  },
  {
   "cell_type": "code",
   "execution_count": 39,
   "id": "electric-zoning",
   "metadata": {},
   "outputs": [],
   "source": [
    "df=pd.DataFrame(url_dict[\"000020\"])"
   ]
  },
  {
   "cell_type": "code",
   "execution_count": 40,
   "id": "final-marshall",
   "metadata": {},
   "outputs": [
    {
     "data": {
      "text/html": [
       "<div>\n",
       "<style scoped>\n",
       "    .dataframe tbody tr th:only-of-type {\n",
       "        vertical-align: middle;\n",
       "    }\n",
       "\n",
       "    .dataframe tbody tr th {\n",
       "        vertical-align: top;\n",
       "    }\n",
       "\n",
       "    .dataframe thead th {\n",
       "        text-align: right;\n",
       "    }\n",
       "</style>\n",
       "<table border=\"1\" class=\"dataframe\">\n",
       "  <thead>\n",
       "    <tr style=\"text-align: right;\">\n",
       "      <th></th>\n",
       "      <th>0</th>\n",
       "    </tr>\n",
       "  </thead>\n",
       "  <tbody>\n",
       "    <tr>\n",
       "      <th>0</th>\n",
       "      <td>http://dart.fss.or.kr/dsaf001/main.do?rcpNo=20...</td>\n",
       "    </tr>\n",
       "    <tr>\n",
       "      <th>1</th>\n",
       "      <td>http://dart.fss.or.kr/dsaf001/main.do?rcpNo=20...</td>\n",
       "    </tr>\n",
       "    <tr>\n",
       "      <th>2</th>\n",
       "      <td>http://dart.fss.or.kr/dsaf001/main.do?rcpNo=20...</td>\n",
       "    </tr>\n",
       "    <tr>\n",
       "      <th>3</th>\n",
       "      <td>http://dart.fss.or.kr/dsaf001/main.do?rcpNo=20...</td>\n",
       "    </tr>\n",
       "    <tr>\n",
       "      <th>4</th>\n",
       "      <td>http://dart.fss.or.kr/dsaf001/main.do?rcpNo=20...</td>\n",
       "    </tr>\n",
       "    <tr>\n",
       "      <th>5</th>\n",
       "      <td>http://dart.fss.or.kr/dsaf001/main.do?rcpNo=20...</td>\n",
       "    </tr>\n",
       "    <tr>\n",
       "      <th>6</th>\n",
       "      <td>http://dart.fss.or.kr/dsaf001/main.do?rcpNo=20...</td>\n",
       "    </tr>\n",
       "  </tbody>\n",
       "</table>\n",
       "</div>"
      ],
      "text/plain": [
       "                                                   0\n",
       "0  http://dart.fss.or.kr/dsaf001/main.do?rcpNo=20...\n",
       "1  http://dart.fss.or.kr/dsaf001/main.do?rcpNo=20...\n",
       "2  http://dart.fss.or.kr/dsaf001/main.do?rcpNo=20...\n",
       "3  http://dart.fss.or.kr/dsaf001/main.do?rcpNo=20...\n",
       "4  http://dart.fss.or.kr/dsaf001/main.do?rcpNo=20...\n",
       "5  http://dart.fss.or.kr/dsaf001/main.do?rcpNo=20...\n",
       "6  http://dart.fss.or.kr/dsaf001/main.do?rcpNo=20..."
      ]
     },
     "execution_count": 40,
     "metadata": {},
     "output_type": "execute_result"
    }
   ],
   "source": []
  },
  {
   "cell_type": "code",
   "execution_count": 44,
   "id": "published-bruce",
   "metadata": {},
   "outputs": [],
   "source": [
    "tmp=pd.DataFrame(url_dict['000020'], columns=['url'])"
   ]
  },
  {
   "cell_type": "code",
   "execution_count": 68,
   "id": "excess-vacuum",
   "metadata": {},
   "outputs": [],
   "source": [
    "tmp_list=[]\n",
    "for i in name_list:\n",
    "    tmp=pd.DataFrame(url_dict[i], columns=['url'])\n",
    "    tmp['code']=i\n",
    "    tmp_list.append(tmp)"
   ]
  },
  {
   "cell_type": "code",
   "execution_count": 69,
   "id": "ceramic-colonial",
   "metadata": {},
   "outputs": [],
   "source": [
    "result=pd.concat(tmp_list)"
   ]
  },
  {
   "cell_type": "code",
   "execution_count": 74,
   "id": "severe-labor",
   "metadata": {},
   "outputs": [
    {
     "name": "stdout",
     "output_type": "stream",
     "text": [
      "/Users/yeonghwanchoi/Documents/git/crawling/dart\r\n"
     ]
    }
   ],
   "source": [
    "!pwd"
   ]
  },
  {
   "cell_type": "code",
   "execution_count": 75,
   "id": "choice-breach",
   "metadata": {},
   "outputs": [],
   "source": [
    "result.to_csv('/Users/yeonghwanchoi/Documents/git/crawling/dart/result.csv')"
   ]
  },
  {
   "cell_type": "code",
   "execution_count": 77,
   "id": "interior-journal",
   "metadata": {},
   "outputs": [
    {
     "data": {
      "text/html": [
       "<div>\n",
       "<style scoped>\n",
       "    .dataframe tbody tr th:only-of-type {\n",
       "        vertical-align: middle;\n",
       "    }\n",
       "\n",
       "    .dataframe tbody tr th {\n",
       "        vertical-align: top;\n",
       "    }\n",
       "\n",
       "    .dataframe thead th {\n",
       "        text-align: right;\n",
       "    }\n",
       "</style>\n",
       "<table border=\"1\" class=\"dataframe\">\n",
       "  <thead>\n",
       "    <tr style=\"text-align: right;\">\n",
       "      <th></th>\n",
       "      <th>Unnamed: 0</th>\n",
       "      <th>url</th>\n",
       "      <th>code</th>\n",
       "    </tr>\n",
       "  </thead>\n",
       "  <tbody>\n",
       "    <tr>\n",
       "      <th>0</th>\n",
       "      <td>0</td>\n",
       "      <td>http://dart.fss.or.kr/dsaf001/main.do?rcpNo=20...</td>\n",
       "      <td>20</td>\n",
       "    </tr>\n",
       "    <tr>\n",
       "      <th>1</th>\n",
       "      <td>1</td>\n",
       "      <td>http://dart.fss.or.kr/dsaf001/main.do?rcpNo=20...</td>\n",
       "      <td>20</td>\n",
       "    </tr>\n",
       "    <tr>\n",
       "      <th>2</th>\n",
       "      <td>2</td>\n",
       "      <td>http://dart.fss.or.kr/dsaf001/main.do?rcpNo=20...</td>\n",
       "      <td>20</td>\n",
       "    </tr>\n",
       "    <tr>\n",
       "      <th>3</th>\n",
       "      <td>3</td>\n",
       "      <td>http://dart.fss.or.kr/dsaf001/main.do?rcpNo=20...</td>\n",
       "      <td>20</td>\n",
       "    </tr>\n",
       "    <tr>\n",
       "      <th>4</th>\n",
       "      <td>4</td>\n",
       "      <td>http://dart.fss.or.kr/dsaf001/main.do?rcpNo=20...</td>\n",
       "      <td>20</td>\n",
       "    </tr>\n",
       "    <tr>\n",
       "      <th>...</th>\n",
       "      <td>...</td>\n",
       "      <td>...</td>\n",
       "      <td>...</td>\n",
       "    </tr>\n",
       "    <tr>\n",
       "      <th>13289</th>\n",
       "      <td>1</td>\n",
       "      <td>http://dart.fss.or.kr/dsaf001/main.do?rcpNo=20...</td>\n",
       "      <td>950160</td>\n",
       "    </tr>\n",
       "    <tr>\n",
       "      <th>13290</th>\n",
       "      <td>2</td>\n",
       "      <td>http://dart.fss.or.kr/dsaf001/main.do?rcpNo=20...</td>\n",
       "      <td>950160</td>\n",
       "    </tr>\n",
       "    <tr>\n",
       "      <th>13291</th>\n",
       "      <td>3</td>\n",
       "      <td>http://dart.fss.or.kr/dsaf001/main.do?rcpNo=20...</td>\n",
       "      <td>950160</td>\n",
       "    </tr>\n",
       "    <tr>\n",
       "      <th>13292</th>\n",
       "      <td>0</td>\n",
       "      <td>http://dart.fss.or.kr/dsaf001/main.do?rcpNo=20...</td>\n",
       "      <td>950190</td>\n",
       "    </tr>\n",
       "    <tr>\n",
       "      <th>13293</th>\n",
       "      <td>0</td>\n",
       "      <td>http://dart.fss.or.kr/dsaf001/main.do?rcpNo=20...</td>\n",
       "      <td>950200</td>\n",
       "    </tr>\n",
       "  </tbody>\n",
       "</table>\n",
       "<p>13294 rows × 3 columns</p>\n",
       "</div>"
      ],
      "text/plain": [
       "       Unnamed: 0                                                url    code\n",
       "0               0  http://dart.fss.or.kr/dsaf001/main.do?rcpNo=20...      20\n",
       "1               1  http://dart.fss.or.kr/dsaf001/main.do?rcpNo=20...      20\n",
       "2               2  http://dart.fss.or.kr/dsaf001/main.do?rcpNo=20...      20\n",
       "3               3  http://dart.fss.or.kr/dsaf001/main.do?rcpNo=20...      20\n",
       "4               4  http://dart.fss.or.kr/dsaf001/main.do?rcpNo=20...      20\n",
       "...           ...                                                ...     ...\n",
       "13289           1  http://dart.fss.or.kr/dsaf001/main.do?rcpNo=20...  950160\n",
       "13290           2  http://dart.fss.or.kr/dsaf001/main.do?rcpNo=20...  950160\n",
       "13291           3  http://dart.fss.or.kr/dsaf001/main.do?rcpNo=20...  950160\n",
       "13292           0  http://dart.fss.or.kr/dsaf001/main.do?rcpNo=20...  950190\n",
       "13293           0  http://dart.fss.or.kr/dsaf001/main.do?rcpNo=20...  950200\n",
       "\n",
       "[13294 rows x 3 columns]"
      ]
     },
     "execution_count": 77,
     "metadata": {},
     "output_type": "execute_result"
    }
   ],
   "source": [
    "pd.read_csv('result.csv')"
   ]
  },
  {
   "cell_type": "code",
   "execution_count": 55,
   "id": "optimum-piano",
   "metadata": {},
   "outputs": [
    {
     "data": {
      "text/html": [
       "<div>\n",
       "<style scoped>\n",
       "    .dataframe tbody tr th:only-of-type {\n",
       "        vertical-align: middle;\n",
       "    }\n",
       "\n",
       "    .dataframe tbody tr th {\n",
       "        vertical-align: top;\n",
       "    }\n",
       "\n",
       "    .dataframe thead th {\n",
       "        text-align: right;\n",
       "    }\n",
       "</style>\n",
       "<table border=\"1\" class=\"dataframe\">\n",
       "  <thead>\n",
       "    <tr style=\"text-align: right;\">\n",
       "      <th></th>\n",
       "      <th>url</th>\n",
       "      <th>code</th>\n",
       "    </tr>\n",
       "  </thead>\n",
       "  <tbody>\n",
       "    <tr>\n",
       "      <th>0</th>\n",
       "      <td>http://dart.fss.or.kr/dsaf001/main.do?rcpNo=20...</td>\n",
       "      <td>000020</td>\n",
       "    </tr>\n",
       "    <tr>\n",
       "      <th>1</th>\n",
       "      <td>http://dart.fss.or.kr/dsaf001/main.do?rcpNo=20...</td>\n",
       "      <td>000020</td>\n",
       "    </tr>\n",
       "    <tr>\n",
       "      <th>2</th>\n",
       "      <td>http://dart.fss.or.kr/dsaf001/main.do?rcpNo=20...</td>\n",
       "      <td>000020</td>\n",
       "    </tr>\n",
       "    <tr>\n",
       "      <th>3</th>\n",
       "      <td>http://dart.fss.or.kr/dsaf001/main.do?rcpNo=20...</td>\n",
       "      <td>000020</td>\n",
       "    </tr>\n",
       "    <tr>\n",
       "      <th>4</th>\n",
       "      <td>http://dart.fss.or.kr/dsaf001/main.do?rcpNo=20...</td>\n",
       "      <td>000020</td>\n",
       "    </tr>\n",
       "    <tr>\n",
       "      <th>5</th>\n",
       "      <td>http://dart.fss.or.kr/dsaf001/main.do?rcpNo=20...</td>\n",
       "      <td>000020</td>\n",
       "    </tr>\n",
       "    <tr>\n",
       "      <th>6</th>\n",
       "      <td>http://dart.fss.or.kr/dsaf001/main.do?rcpNo=20...</td>\n",
       "      <td>000020</td>\n",
       "    </tr>\n",
       "  </tbody>\n",
       "</table>\n",
       "</div>"
      ],
      "text/plain": [
       "                                                 url    code\n",
       "0  http://dart.fss.or.kr/dsaf001/main.do?rcpNo=20...  000020\n",
       "1  http://dart.fss.or.kr/dsaf001/main.do?rcpNo=20...  000020\n",
       "2  http://dart.fss.or.kr/dsaf001/main.do?rcpNo=20...  000020\n",
       "3  http://dart.fss.or.kr/dsaf001/main.do?rcpNo=20...  000020\n",
       "4  http://dart.fss.or.kr/dsaf001/main.do?rcpNo=20...  000020\n",
       "5  http://dart.fss.or.kr/dsaf001/main.do?rcpNo=20...  000020\n",
       "6  http://dart.fss.or.kr/dsaf001/main.do?rcpNo=20...  000020"
      ]
     },
     "execution_count": 55,
     "metadata": {},
     "output_type": "execute_result"
    }
   ],
   "source": [
    "tmp=pd.DataFrame(url_dict['000020'], columns=['url'])\n",
    "tmp['code']='000020'\n",
    "tmp"
   ]
  },
  {
   "cell_type": "code",
   "execution_count": 58,
   "id": "familiar-accounting",
   "metadata": {},
   "outputs": [],
   "source": [
    "result=pd.concat([tmp,tmp2])"
   ]
  },
  {
   "cell_type": "code",
   "execution_count": 59,
   "id": "synthetic-morris",
   "metadata": {},
   "outputs": [
    {
     "data": {
      "text/html": [
       "<div>\n",
       "<style scoped>\n",
       "    .dataframe tbody tr th:only-of-type {\n",
       "        vertical-align: middle;\n",
       "    }\n",
       "\n",
       "    .dataframe tbody tr th {\n",
       "        vertical-align: top;\n",
       "    }\n",
       "\n",
       "    .dataframe thead th {\n",
       "        text-align: right;\n",
       "    }\n",
       "</style>\n",
       "<table border=\"1\" class=\"dataframe\">\n",
       "  <thead>\n",
       "    <tr style=\"text-align: right;\">\n",
       "      <th></th>\n",
       "      <th>url</th>\n",
       "      <th>code</th>\n",
       "    </tr>\n",
       "  </thead>\n",
       "  <tbody>\n",
       "    <tr>\n",
       "      <th>0</th>\n",
       "      <td>http://dart.fss.or.kr/dsaf001/main.do?rcpNo=20...</td>\n",
       "      <td>000020</td>\n",
       "    </tr>\n",
       "    <tr>\n",
       "      <th>1</th>\n",
       "      <td>http://dart.fss.or.kr/dsaf001/main.do?rcpNo=20...</td>\n",
       "      <td>000020</td>\n",
       "    </tr>\n",
       "    <tr>\n",
       "      <th>2</th>\n",
       "      <td>http://dart.fss.or.kr/dsaf001/main.do?rcpNo=20...</td>\n",
       "      <td>000020</td>\n",
       "    </tr>\n",
       "    <tr>\n",
       "      <th>3</th>\n",
       "      <td>http://dart.fss.or.kr/dsaf001/main.do?rcpNo=20...</td>\n",
       "      <td>000020</td>\n",
       "    </tr>\n",
       "    <tr>\n",
       "      <th>4</th>\n",
       "      <td>http://dart.fss.or.kr/dsaf001/main.do?rcpNo=20...</td>\n",
       "      <td>000020</td>\n",
       "    </tr>\n",
       "    <tr>\n",
       "      <th>5</th>\n",
       "      <td>http://dart.fss.or.kr/dsaf001/main.do?rcpNo=20...</td>\n",
       "      <td>000020</td>\n",
       "    </tr>\n",
       "    <tr>\n",
       "      <th>6</th>\n",
       "      <td>http://dart.fss.or.kr/dsaf001/main.do?rcpNo=20...</td>\n",
       "      <td>000020</td>\n",
       "    </tr>\n",
       "    <tr>\n",
       "      <th>0</th>\n",
       "      <td>http://dart.fss.or.kr/dsaf001/main.do?rcpNo=20...</td>\n",
       "      <td>000040</td>\n",
       "    </tr>\n",
       "    <tr>\n",
       "      <th>1</th>\n",
       "      <td>http://dart.fss.or.kr/dsaf001/main.do?rcpNo=20...</td>\n",
       "      <td>000040</td>\n",
       "    </tr>\n",
       "    <tr>\n",
       "      <th>2</th>\n",
       "      <td>http://dart.fss.or.kr/dsaf001/main.do?rcpNo=20...</td>\n",
       "      <td>000040</td>\n",
       "    </tr>\n",
       "    <tr>\n",
       "      <th>3</th>\n",
       "      <td>http://dart.fss.or.kr/dsaf001/main.do?rcpNo=20...</td>\n",
       "      <td>000040</td>\n",
       "    </tr>\n",
       "    <tr>\n",
       "      <th>4</th>\n",
       "      <td>http://dart.fss.or.kr/dsaf001/main.do?rcpNo=20...</td>\n",
       "      <td>000040</td>\n",
       "    </tr>\n",
       "    <tr>\n",
       "      <th>5</th>\n",
       "      <td>http://dart.fss.or.kr/dsaf001/main.do?rcpNo=20...</td>\n",
       "      <td>000040</td>\n",
       "    </tr>\n",
       "    <tr>\n",
       "      <th>6</th>\n",
       "      <td>http://dart.fss.or.kr/dsaf001/main.do?rcpNo=20...</td>\n",
       "      <td>000040</td>\n",
       "    </tr>\n",
       "  </tbody>\n",
       "</table>\n",
       "</div>"
      ],
      "text/plain": [
       "                                                 url    code\n",
       "0  http://dart.fss.or.kr/dsaf001/main.do?rcpNo=20...  000020\n",
       "1  http://dart.fss.or.kr/dsaf001/main.do?rcpNo=20...  000020\n",
       "2  http://dart.fss.or.kr/dsaf001/main.do?rcpNo=20...  000020\n",
       "3  http://dart.fss.or.kr/dsaf001/main.do?rcpNo=20...  000020\n",
       "4  http://dart.fss.or.kr/dsaf001/main.do?rcpNo=20...  000020\n",
       "5  http://dart.fss.or.kr/dsaf001/main.do?rcpNo=20...  000020\n",
       "6  http://dart.fss.or.kr/dsaf001/main.do?rcpNo=20...  000020\n",
       "0  http://dart.fss.or.kr/dsaf001/main.do?rcpNo=20...  000040\n",
       "1  http://dart.fss.or.kr/dsaf001/main.do?rcpNo=20...  000040\n",
       "2  http://dart.fss.or.kr/dsaf001/main.do?rcpNo=20...  000040\n",
       "3  http://dart.fss.or.kr/dsaf001/main.do?rcpNo=20...  000040\n",
       "4  http://dart.fss.or.kr/dsaf001/main.do?rcpNo=20...  000040\n",
       "5  http://dart.fss.or.kr/dsaf001/main.do?rcpNo=20...  000040\n",
       "6  http://dart.fss.or.kr/dsaf001/main.do?rcpNo=20...  000040"
      ]
     },
     "execution_count": 59,
     "metadata": {},
     "output_type": "execute_result"
    }
   ],
   "source": [
    "result"
   ]
  },
  {
   "cell_type": "code",
   "execution_count": null,
   "id": "certified-family",
   "metadata": {},
   "outputs": [],
   "source": []
  }
 ],
 "metadata": {
  "kernelspec": {
   "display_name": "Python 3",
   "language": "python",
   "name": "python3"
  },
  "language_info": {
   "codemirror_mode": {
    "name": "ipython",
    "version": 3
   },
   "file_extension": ".py",
   "mimetype": "text/x-python",
   "name": "python",
   "nbconvert_exporter": "python",
   "pygments_lexer": "ipython3",
   "version": "3.8.5"
  },
  "toc": {
   "base_numbering": 1,
   "nav_menu": {},
   "number_sections": true,
   "sideBar": true,
   "skip_h1_title": false,
   "title_cell": "Table of Contents",
   "title_sidebar": "Contents",
   "toc_cell": false,
   "toc_position": {},
   "toc_section_display": true,
   "toc_window_display": false
  },
  "varInspector": {
   "cols": {
    "lenName": 16,
    "lenType": 16,
    "lenVar": 40
   },
   "kernels_config": {
    "python": {
     "delete_cmd_postfix": "",
     "delete_cmd_prefix": "del ",
     "library": "var_list.py",
     "varRefreshCmd": "print(var_dic_list())"
    },
    "r": {
     "delete_cmd_postfix": ") ",
     "delete_cmd_prefix": "rm(",
     "library": "var_list.r",
     "varRefreshCmd": "cat(var_dic_list()) "
    }
   },
   "types_to_exclude": [
    "module",
    "function",
    "builtin_function_or_method",
    "instance",
    "_Feature"
   ],
   "window_display": false
  }
 },
 "nbformat": 4,
 "nbformat_minor": 5
}
