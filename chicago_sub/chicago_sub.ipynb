{
 "cells": [
  {
   "cell_type": "code",
   "execution_count": 19,
   "metadata": {},
   "outputs": [],
   "source": [
    "#  https://www.chicagomag.com/Chicago-Magazine/November-2012/Best-Sandwiches-Chicago/\n",
    "\n",
    "from bs4 import BeautifulSoup\n",
    "from urllib.request import urlopen, Request \n",
    "import ssl\n",
    "\n",
    "context = ssl._create_unverified_context()"
   ]
  },
  {
   "cell_type": "code",
   "execution_count": 23,
   "metadata": {},
   "outputs": [],
   "source": [
    "url_base = 'http://www.chicagomag.com'\n",
    "url_sub ='/Chicago-Magazine/November-2012/Best-Sandwiches-Chicago/'\n",
    "url =url_base + url_sub"
   ]
  },
  {
   "cell_type": "code",
   "execution_count": 39,
   "metadata": {
    "tags": []
   },
   "outputs": [],
   "source": [
    "header = {'User-Agent': 'Mozilla/5.0'}\n",
    "\n",
    "req = Request(url, headers=header)\n",
    "page = urlopen(req)\n",
    "soup = BeautifulSoup(page, 'html.parser')\n"
   ]
  },
  {
   "cell_type": "code",
   "execution_count": 42,
   "metadata": {},
   "outputs": [
    {
     "output_type": "execute_result",
     "data": {
      "text/plain": [
       "hicagomag.com/Chicago-Magazine/November-2012/Best-Sandwiches-in-Chicago-City-Provisions-Smoked-Ham/\"><b>Smoked Ham</b><br/>\n",
       "City Provisions<br/>\n",
       "<em>Read more</em> </a></div>\n",
       "</div>\n",
       "<div class=\"sammy\" style=\"position: relative;\">\n",
       "<div class=\"sammyRank\">29</div>\n",
       "<div class=\"sammyListing\"><a href=\"http://www.chicagomag.com/Chicago-Magazine/November-2012/Best-Sandwiches-in-Chicago-Papas-Cache-Sabroso-Jibarito/\"><b>Jibarito</b><br/>\n",
       "Papa’s Cache Sabroso<br/>\n",
       "<em>Read more</em> </a></div>\n",
       "</div>\n",
       "<div class=\"sammy\" style=\"position: relative;\">\n",
       "<div class=\"sammyRank\">30</div>\n",
       "<div class=\"sammyListing\"><a href=\"http://www.chicagomag.com/Chicago-Magazine/November-2012/Best-Sandwiches-in-Chicago-Bavettes-Bar-and-Boeuf-Shaved-Prime-Rib/\"><b>Shaved Prime Rib</b><br/>\n",
       "Bavette’s Bar &amp; Boeuf<br/>\n",
       "<em>Read more</em> </a></div>\n",
       "</div>\n",
       "<div class=\"sammy\" style=\"position: relative;\">\n",
       "<div class=\"sammyRank\">31</div>\n",
       "<div class=\"sammyListing\"><a href=\"http://www.chicagomag.com/Chicago-Magazine/November-2012/Best-Sandwiches-in-Chicago-Hannahs-Bretzel-Serrano-Ham-and-Manchego-Cheese/\"><b>Serrano Ham and Manchego Cheese</b><br/>\n",
       "Hannah’s Bretzel<br/>\n",
       "<em>Read more</em> </a></div>\n",
       "</div>\n",
       "<div class=\"sammy\" style=\"position: relative;\">\n",
       "<div class=\"sammyRank\">32</div>\n",
       "<div class=\"sammyListing\"><a href=\"http://www.chicagomag.com/Chicago-Magazine/November-2012/Best-Sandwiches-in-Chicago-La-Fournette-Tuna-Salad/\"><b>Tuna Salad</b><br/>\n",
       "La Fournette<br/>\n",
       "<em>Read more</em> </a></div>\n",
       "</div>\n",
       "<div class=\"sammy\" style=\"position: relative;\">\n",
       "<div class=\"sammyRank\">33</div>\n",
       "<div class=\"sammyListing\"><a href=\"http://www.chicagomag.com/Chicago-Magazine/November-2012/Best-Sandwiches-in-Chicago-Paramount-Room-Paramount-Reuben/\"><b>Paramount Reuben</b><br/>\n",
       "Paramount Room<br/>\n",
       "<em>Read more</em> </a></div>\n",
       "</div>\n",
       "<div class=\"sammy\" style=\"position: relative;\">\n",
       "<div class=\"sammyRank\">34</div>\n",
       "<div class=\"sammyListing\"><a href=\"http://www.chicagomag.com/Chicago-Magazine/November-2012/Best-Sandwiches-in-Chicago-Melt-Sandwich-Shoppe-The-Istanbul/\"><b>The Istanbul</b><br/>\n",
       "Melt Sandwich Shoppe<br/>\n",
       "<em>Read more</em> </a></div>\n",
       "</div>\n",
       "<div class=\"sammy\" style=\"position: relative;\">\n",
       "<div class=\"sammyRank\">35</div>\n",
       "<div class=\"sammyListing\"><a href=\"http://www.chicagomag.com/Chicago-Magazine/November-2012/Best-Sandwiches-in-Chicago-Floriole-Cafe-and-Bakery-BAD/\"><b>B.A.D.</b><br/>\n",
       "Floriole Cafe &amp; Bakery<br/>\n",
       "<em>Read more</em> </a></div>\n",
       "</div>\n",
       "<div class=\"sammy\" style=\"position: relative;\">\n",
       "<div class=\"sammyRank\">36</div>\n",
       "<div class=\"sammyListing\"><a href=\"http://www.chicagomag.com/Chicago-Magazine/November-2012/Best-Sandwiches-in-Chicago-First-Slice-Pie-Cafe-Duck-Confit-and-Mozzarella/\"><b>Duck Confit and Mozzarella</b><br/>\n",
       "First Slice Pie Café<br/>\n",
       "<em>Read more</em> </a></div>\n",
       "</div>\n",
       "<div class=\"sammy\" style=\"position: relative;\">\n",
       "<div class=\"sammyRank\">37</div>\n",
       "<div class=\"sammyListing\"><a href=\"http://www.chicagomag.com/Chicago-Magazine/November-2012/Best-Sandwiches-in-Chicago-Troquet-Croque-Monsieur/\"><b>Croque Monsieur</b><br/>\n",
       "Troquet<br/>\n",
       "<em>Read more</em> </a></div>\n",
       "</div>\n",
       "<div class=\"sammy\" style=\"position: relative;\">\n",
       "<div class=\"sammyRank\">38</div>\n",
       "<div class=\"sammyListing\"><a href=\"http://www.chicagomag.com/Chicago-Magazine/November-2012/Best-Sandwiches-in-Chicago-Grahamwich-Green-Garbanzo/\"><b>Green Garbanzo</b><br/>\n",
       "Grahamwich<br/>\n",
       "<em>Read more</em> </a></div>\n",
       "</div>\n",
       "<div class=\"sammy\" style=\"position: relative;\">\n",
       "<div class=\"sammyRank\">39</div>\n",
       "<div class=\"sammyListing\"><a href=\"http://www.chicagomag.com/Chicago-Magazine/November-2012/Best-Sandwiches-in-Chicago-Saigon-Sisters-The-Hen-House/\"><b>The Hen House</b><br/>\n",
       "Saigon Sisters<br/>\n",
       "<em>Read more</em> </a></div>\n",
       "</div>\n",
       "<div class=\"sammy\" style=\"position: relative;\">\n",
       "<div class=\"sammyRank\">40</div>\n",
       "<div class=\"sammyListing\"><a href=\"http://www.chicagomag.com/Chicago-Magazine/November-2012/Best-Sandwiches-in-Chicago-Rosalias-Deli-Tuscan-Chicken/\"><b>Tuscan Chicken</b><br/>\n",
       "Rosalia’s Deli<br/>\n",
       "<em>Read more</em> </a></div>\n",
       "</div>\n",
       "<div class=\"sammy\" style=\"position: relative;\">\n",
       "<div class=\"sammyRank\">41</div>\n",
       "<div class=\"sammyListing\"><a href=\"http://www.chicagomag.com/Chicago-Magazine/November-2012/Best-Sandwiches-in-Chicago-Z-and-H-MarketCafe-The-Marty/\"><b>The Marty </b><br/>\n",
       "Z&amp;H MarketCafe<br/>\n",
       "<em>Read more</em> </a></div>\n",
       "</div>\n",
       "<div class=\"sammy\" style=\"position: relative;\">\n",
       "<div class=\"sammyRank\">42</div>\n",
       "<div class=\"sammyListing\"><a href=\"http://www.chicagomag.com/Chicago-Magazine/November-2012/Best-Sandwiches-in-Chicago-Market-House-on-the-Square-Whitefish/\"><b>Whitefish</b><br/>\n",
       "Market House on the Square<br/>\n",
       "<em>Read more</em> </a></div>\n",
       "</div>\n",
       "<div class=\"sammy\" style=\"position: relative;\">\n",
       "<div class=\"sammyRank\">43</div>\n",
       "<div class=\"sammyListing\"><a href=\"http://www.chicagomag.com/Chicago-Magazine/November-2012/Best-Sandwiches-in-Chicago-Elaines-Coffee-Call-Oat-Bread-Pecan-Butter-and-Fruit-Jam/\"><b>Oat Bread, Pecan Butter, and Fruit Jam</b><br/>\n",
       "Elaine’s Coffee Call<br/>\n",
       "<em>Read more</em> </a></div>\n",
       "</div>\n",
       "<div class=\"sammy\" style=\"position: relative;\">\n",
       "<div class=\"sammyRank\">44</div>\n",
       "<div class=\"sammyListing\"><a href=\"http://www.chicagomag.com/Chicago-Magazine/November-2012/Best-Sandwiches-in-Chicago-Marion-Street-Cheese-Market-Cauliflower-Melt/\"><b>Cauliflower Melt</b><br/>\n",
       "Marion Street Cheese Market<br/>\n",
       "<em>Read more</em> </a></div>\n",
       "</div>\n",
       "<div class=\"sammy\" style=\"position: relative;\">\n",
       "<div class=\"sammyRank\">45</div>\n",
       "<div class=\"sammyListing\"><a href=\"http://www.chicagomag.com/Chicago-Magazine/November-2012/Best-Sandwiches-in-Chicago-Cafecito-Cubano/\"><b>Cubana</b><br/>\n",
       "Cafecito<br/>\n",
       "<em>Read more</em> </a></div>\n",
       "</div>\n",
       "<div class=\"sammy\" style=\"position: relative;\">\n",
       "<div class=\"sammyRank\">46</div>\n",
       "<div class=\"sammyListing\"><a href=\"http://www.chicagomag.com/Chicago-Magazine/November-2012/Best-Sandwiches-in-Chicago-Chickpea-Kufta/\"><b>Kufta</b><br/>\n",
       "Chickpea<br/>\n",
       "<em>Read more</em> </a></div>\n",
       "</div>\n",
       "<div class=\"sammy\" style=\"position: relative;\">\n",
       "<div class=\"sammyRank\">47</div>\n",
       "<div class=\"sammyListing\"><a href=\"http://www.chicagomag.com/Chicago-Magazine/November-2012/Best-Sandwiches-in-Chicago-The-Goddess-and-Grocer-Debbies-Egg-Salad/\"><b>Debbie’s Egg Salad</b><br/>\n",
       "The Goddess and Grocer<br/>\n",
       "<em>Read more</em> </a></div>\n",
       "</div>\n",
       "<div class=\"sammy\" style=\"position: relative;\">\n",
       "<div class=\"sammyRank\">48</div>\n",
       "<div class=\"sammyListing\"><a href=\"http://www.chicagomag.com/Chicago-Magazine/November-2012/Best-Sandwiches-in-Chicago-Zenwich-Beef-Curry/\"><b>Beef Curry</b><br/>\n",
       "Zenwich<br/>\n",
       "<em>Read more</em> </a></div>\n",
       "</div>\n",
       "<div class=\"sammy\" style=\"position: relative;\">\n",
       "<div class=\"sammyRank\">49</div>\n",
       "<div class=\"sammyListing\"><a href=\"http://www.chicagomag.com/Chicago-Magazine/November-2012/Best-Sandwiches-in-Chicago-Toni-Patisserie-Le-Vegetarien/\"><b>Le Végétarien</b><br/>\n",
       "Toni Patisserie<br/>\n",
       "<em>Read more</em> </a></div>\n",
       "</div>\n",
       "<div class=\"sammy\" style=\"position: relative; border-bottom: 0\">\n",
       "<div class=\"sammyRank\">50</div>\n",
       "<div class=\"sammyListing\"><a href=\"http://www.chicagomag.com/Chicago-Magazine/November-2012/Best-Sandwiches-in-Chicago-Phoebes-Bakery-The-Gatsby/\"><b>The Gatsby</b><br/>\n",
       "Phoebe’s Bakery<br/>\n",
       "<em>Read more</em> </a></div>\n",
       "</div>\n",
       "<p><!-- /#sandwichFront --></p>\n",
       "<footer>Edited by Carly Boers, Penny Pollack, and Jeff Ruby; Contributors: Cassie Walker Burke, Elly Fishman, Peter Gianopulos, Noah Isackson, Maryanne Johnson, Esther Kang, Megan Lovejoy, Graham Meyer, Matt Schur, Lena Singer, Emmet Sullivan, Jennifer Tanaka, Joanne Trestrail</footer>\n",
       "</div>\n",
       "<div class=\"article-tags\">\n",
       "<p>Tags: <a href=\"https://www.chicagomag.com/tag/best-of-chicago/\" rel=\"tag\">Best of Chicago</a>, <a href=\"https://www.chicagomag.com/tag/dining-drinking/\" rel=\"tag\">Dining &amp; Drinking</a>, <a href=\"https://www.chicagomag.com/tag/print-specific-tags-cover-story/\" rel=\"tag\">Print-Specific Tags - Cover Story</a></p> </div>\n",
       "</div>\n",
       "<div class=\"article-side grid-6 tablet-grid-9 mobile-grid-100 most-pop\">\n",
       "<div class=\"ad-space\">\n",
       "<!-- GPT AdSlot 12 for Ad unit 'trb.chicagomag/hp' ### Size: [[300,250],[300,600]] -->\n",
       "<div class=\"hide-on-mobile\" id=\"div-gpt-ad-2789321-12\">\n",
       "<script>\n",
       "\t\t\t\t\tgoogletag.cmd.push(function() { googletag.display('div-gpt-ad-2789321-12'); });\n",
       "\t\t\t\t</script>\n",
       "</div>\n",
       "<!-- End AdSlot 12 -->\n",
       "<!-- GPT AdSlot 15 for Ad unit 'trb.chicagomag/hp' ### Size: [[300,250] -->\n",
       "<div class=\"hide-on-desktop hide-on-tablet\" id=\"div-gpt-ad-2789321-15\">\n",
       "<script>\n",
       "\t\t\t\t\tgoogletag.cmd.push(function() { googletag.display('div-gpt-ad-2789321-15'); });\n",
       "\t\t\t\t</script>\n",
       "</div>\n",
       "<!-- End AdSlot 15 -->\n",
       "<!-- GPT AdSlot 11 for Ad unit 'trb.chicagomag/hp' ### Size: [[300,250]] -->\n",
       "<div id=\"div-gpt-ad-2789321-11\">\n",
       "<script>\n",
       "\t\t\t\t\tgoogletag.cmd.push(function() { googletag.display('div-gpt-ad-2789321-11'); });\n",
       "\t\t\t\t</script>\n",
       "</div>\n",
       "<!-- End AdSlot 11 -->\n",
       "</div>\n",
       "</div>\n",
       "</div>\n",
       "<!-- end article wrap -->\n",
       "<!-- start ad -->\n",
       "<div class=\"grid-container grid-parent ad-space ad-space-leader hide-on-mobile mb-0\">\n",
       "<!-- GPT AdSlot 5 for Ad unit 'trb.chicagomag/hp' ### Size: [[728,90]] -->\n",
       "<div id=\"div-gpt-ad-2789321-5\">\n",
       "<script>\n",
       "\t\t\tgoogletag.cmd.push(function() { googletag.display('div-gpt-ad-2789321-5'); });\n",
       "\t\t</script>\n",
       "</div>\n",
       "<!-- End AdSlot 5 -->\n",
       "</div>\n",
       "<div class=\"grid-container grid-parent ad-space ad-space-leader hide-on-desktop hide-on-tablet\">\n",
       "<!-- GPT AdSlot 10 for Ad unit 'trb.chicagomag/hp' ### Size: [[320,50]] -->\n",
       "<div id=\"div-gpt-ad-2789321-10\">\n",
       "<script>\n",
       "\t\t\tgoogletag.cmd.push(function() { googletag.display('div-gpt-ad-2789321-10'); });\n",
       "\t\t</script>\n",
       "</div>\n",
       "<!-- End AdSlot 10 -->\n",
       "</div>\n",
       "<!-- end ad -->\n",
       "<div class=\"comments-area grid-container grid-parent\">\n",
       "<div class=\"grid-12 prefix-5 mobile-grid-100 mobile-prefix-0\">\n",
       "<div id=\"comments\">\n",
       "<div class=\"comment-respond\" id=\"respond\">\n",
       "<h3 class=\"comment-reply-title\" id=\"reply-title\">Leave a Comment <small><a href=\"/Chicago-Magazine/November-2012/Best-Sandwiches-Chicago/#respond\" id=\"cancel-comment-reply-link\" rel=\"nofollow\" style=\"display:none;\">Cancel reply</a></small></h3><form action=\"https://www.chicagomag.com/wp-comments-post.php?wpe-comment-post=chicagomag\" class=\"comment-form\" id=\"commentform\" method=\"post\" novalidate=\"\"><p class=\"comment-form-comment\"><label class=\"screen-reader-text\" for=\"comment\">Comment</label><textarea aria-required=\"true\" autocomplete=\"new-password\" cols=\"45\" id=\"c2cc66bfa4\" name=\"c2cc66bfa4\" required=\"\" rows=\"8\"></textarea><textarea aria-hidden=\"true\" autocomplete=\"new-password\" id=\"comment\" name=\"comment\" style=\"padding:0 !important;clip:rect(1px, 1px, 1px, 1px) !important;position:absolute !important;white-space:nowrap !important;height:1px !important;width:1px !important;overflow:hidden !important;\" tabindex=\"-1\"></textarea><script data-noptimize=\"\" type=\"text/javascript\">document.getElementById(\"comment\").setAttribute( \"id\", \"a4f813e3fe909b70a6e65d09aa777376\" );document.getElementById(\"c2cc66bfa4\").setAttribute( \"id\", \"comment\" );</script></p><label class=\"screen-reader-text\" for=\"author\">Name</label><input id=\"author\" name=\"author\" placeholder=\"Name *\" size=\"30\" type=\"text\" value=\"\">\n",
       "<label class=\"screen-reader-text\" for=\"email\">Email</label><input id=\"email\" name=\"email\" placeholder=\"Email *\" size=\"30\" type=\"email\" value=\"\">\n",
       "<label class=\"screen-reader-text\" for=\"url\">Website</label><input id=\"url\" name=\"url\" placeholder=\"Website\" size=\"30\" type=\"url\" value=\"\">\n",
       "<p class=\"comment-form-cookies-consent\"><input id=\"wp-comment-cookies-consent\" name=\"wp-comment-cookies-consent\" type=\"checkbox\" value=\"yes\"> <label for=\"wp-comment-cookies-consent\">Save my name, email, and website in this browser for the next time I comment.</label></input></p>\n",
       "<p class=\"form-submit\"><input class=\"submit\" id=\"submit\" name=\"submit\" type=\"submit\" value=\"Post Comment\"/> <input id=\"comment_post_ID\" name=\"comment_post_ID\" type=\"hidden\" value=\"11772\"/>\n",
       "<input id=\"comment_parent\" name=\"comment_parent\" type=\"hidden\" value=\"0\"/>\n",
       "</p></input></input></input></form> </div><!-- #respond -->\n",
       "</div><!-- #comments -->\n",
       "</div>\n",
       "</div>\n",
       "</main><!-- #main -->\n",
       "</div><!-- #primary -->\n",
       "</div><!-- #content -->\n",
       "</div><!-- #page -->\n",
       "<!-- start footer -->\n",
       "<div id=\"footer\">\n",
       "<div class=\"grid-container\">\n",
       "<div class=\"grid-5 suffix-1 mobile-grid-12 mobile-suffix-0 grid-parent-mobile left\">\n",
       "<div class=\"wrap\">\n",
       "<a href=\"https://cma.pcdfusion.com/pcd/Order?iKey=I**D7B\">Subscribe</a>\n",
       "<a href=\"https://cma.pcdfusion.com/pcd/CustomerSupport/Account/Login?ReturnUrl=%2fpcd%2fCustomerSupport%2fApp%2f3141\">Manage Subscription</a>\n",
       "<a href=\"https://www.chicagomag.com/issue-archive/\">Issue Archive</a>\n",
       "<a href=\"http://www.tronc.com/privacy-policy/\">Privacy Policy</a>\n",
       "<a href=\"http://www.tronc.com/central-terms-of-service/\">Terms of Service</a>\n",
       "</div>\n",
       "</div>\n",
       "<div class=\"grid-10 prefix-1 suffix-1 mobile-grid-100 mobile-prefix-0 grid-parent-mobile middle hide-on-mobile\">\n",
       "<div class=\"wrap\">\n",
       "<h2>Follow Us</h2>\n",
       "<div class=\"footer-social\">\n",
       "<a href=\"https://www.facebook.com/ChicagoMagazine\" target=\"_blank\"><i class=\"fab fa-facebook-f\"></i></a>\n",
       "<a href=\"http://www.twitter.com/chicagomag/\" target=\"_blank\"><i class=\"fab fa-twitter\"></i></a>\n",
       "<a href=\"http://instagram.com/chicagomag\" target=\"_blank\"><i class=\"fab fa-instagram\"></i></a>\n",
       "<a href=\"https://www.youtube.com/channel/UCOkRC6Y4LUyvglGmyC52KPw\" target=\"_blank\"><i class=\"fab fa-youtube\"></i></a>\n",
       "</div>\n",
       "<h2>Get Our Newsletters</h2>\n",
       "<p>Subscribe to one or more of our free e-mail newsletters to get instant updates on local news, events, and opportunities in Chicago.</p>\n",
       "<div class=\"footer-form\" style=\"display:flex; margin-top:60px;\">\n",
       "<table>\n",
       "<tr>\n",
       "<td><input type=\"text\"/></td>\n",
       "<td><button style=\"background:#d2232a; color:#fff;\">Sign Up</button></td>\n",
       "</tr>\n",
       "</table>\n",
       "</div>\n",
       "<div class=\"copyright\">©2020 Chicago magazine / A Chicago Tribune Media Group website</div>\n",
       "</div>\n",
       "</div>\n",
       "<div class=\"grid-5 prefix-1 mobile-grid-12 mobile-prefix-0 mobile-suffix-0 grid-parent-mobile right\">\n",
       "<div class=\"wrap\">\n",
       "<a href=\"https://www.chicagomag.com/about-the-magazine/\">About the Magazine</a>\n",
       "<a href=\"https://www.chicagomag.com/contact-us/\">Contact Us</a>\n",
       "<a href=\"https://www.chicagomag.com/advertise/\">Advertise</a>\n",
       "<a href=\"https://www.chicagomag.com/resource-guide/\">Resource Guide</a>\n",
       "<a href=\"https://www.chicagomag.com/events/\">Events</a>\n",
       "</div>\n",
       "</div>\n",
       "<div class=\"mobile-grid-100 mobile-prefix-0 mobile-suffix-1 grid-parent-mobile middle hide-on-desktop hide-on-tablet\">\n",
       "<div class=\"wrap\">\n",
       "<h2>Follow Us</h2>\n",
       "<div class=\"footer-social\">\n",
       "<a href=\"https://www.facebook.com/ChicagoMagazine\" target=\"_blank\"><i class=\"fab fa-facebook-f\"></i></a>\n",
       "<a href=\"http://www.twitter.com/chicagomag/\" target=\"_blank\"><i class=\"fab fa-twitter\"></i></a>\n",
       "<a href=\"http://instagram.com/chicagomag\" target=\"_blank\"><i class=\"fab fa-instagram\"></i></a>\n",
       "<a href=\"https://www.youtube.com/channel/UCOkRC6Y4LUyvglGmyC52KPw\" target=\"_blank\"><i class=\"fab fa-youtube\"></i></a>\n",
       "</div>\n",
       "<h2>Get Our Newsletters</h2>\n",
       "<p>Subscribe to one or more of our free e-mail newsletters to get instant updates on local news, events, and opportunities in Chicago.</p>\n",
       "<div class=\"footer-form\" style=\"display:flex; margin-top:60px;\">\n",
       "<input style=\"width:80%;\" type=\"text\"/>\n",
       "<button style=\"width:20%; background:#d2232a; color:#fff;\">Sign Up</button>\n",
       "</div>\n",
       "<div class=\"copyright\">©2020 Chicago magazine / A Chicago Tribune Media Group website</div>\n",
       "</div>\n",
       "</div>\n",
       "</div>\n",
       "</div>\n",
       "<!-- end footer -->\n",
       "<script src=\"https://ajax.googleapis.com/ajax/libs/jquery/3.4.1/jquery.min.js\"></script>\n",
       "<script>\n",
       "\n",
       "\tjQuery(document).ready(function($) {\n",
       "\n",
       "\t\t$(\".grid-toggle\").click(function(){\n",
       "\t\t\t$(\".grid-guide\").toggle();\n",
       "\t\t});\n",
       "\n",
       "\t\t$(\".nav2-toggle\").click(function(){\n",
       "\t\t\t$(\"#nav2-overlay\").toggle();\n",
       "\t\t\t$(\"#nav2-overlay-top\").toggle();\n",
       "\t\t\t$(\"#nav2-overlay-btm\").toggle();\n",
       "\t\t\t$(\"#nav2-inner-overlay\").toggle();\n",
       "\t\t\t$(\"#nav2-inner\").toggle();\n",
       "\t\t\t$(\"#nav2-open\").toggle();\n",
       "\t\t\t$(\"#nav2-close\").toggle();\n",
       "\t\t});\n",
       "\n",
       "\t\t$(\".search-open\").click(function(){\n",
       "\t\t\t$('#search-overlay').fadeIn().css('display', 'inline-block');\n",
       "\t\t\t$('.search-field').focus();\n",
       "\t\t\t//$('#search-close').fadeIn().css('display', 'block');\n",
       "\t\t});\n",
       "\n",
       "\t\t$(\".search-close-btn\").click(function(){\n",
       "\t\t\t$(\"#search-overlay\").fadeOut().toggle();\n",
       "\t\t\t$(\"#search-close\").fadeOut().toggle();\n",
       "\t\t});\n",
       "  \n",
       "\t});\n",
       "\n",
       "</script>\n",
       "<script>\n",
       "\n",
       "\tjQuery(document).ready(function($) {\n",
       "\n",
       "\t\t$(\".toggle-rock\").click(function(){\n",
       "\t\t\t$('.indie-rock').fadeOut().css('display', 'none');\n",
       "\t\t\t$('.new-music').fadeOut().css('display', 'none');\n",
       "\t\t\t$('.rock').fadeIn().css('display', 'block');\n",
       "\t\t});\n",
       "\n",
       "\t\t$(\".toggle-indie-rock\").click(function(){\n",
       "\t\t\t$('.rock').fadeOut().css('display', 'none');\n",
       "\t\t\t$('.new-music').fadeOut().css('display', 'none');\n",
       "\t\t\t$('.indie-rock').fadeIn().css('display', 'block');\n",
       "\t\t});\n",
       "\n",
       "\t\t$(\".toggle-new-music\").click(function(){\n",
       "\t\t\t$('.indie-rock').fadeOut().css('display', 'none');\n",
       "\t\t\t$('.rock').fadeOut().css('display', 'none');\n",
       "\t\t\t$('.new-music').fadeIn().css('display', 'block');\n",
       "\t\t});\n",
       "\n",
       "\t\t$(\".toggle-all-genre\").click(function(){\n",
       "\t\t\t$('.indie-rock').fadeIn().css('display', 'block');\n",
       "\t\t\t$('.rock').fadeIn().css('display', 'block');\n",
       "\t\t\t$('.new-music').fadeIn().css('display', 'block');\n",
       "\t\t});\n",
       "  \n",
       "\t});\n",
       "\n",
       "</script>\n",
       "<div class=\"site-footer\">\n",
       "<footer class=\"site-info\" itemscope=\"\" itemtype=\"https://schema.org/WPFooter\">\n",
       "<div class=\"inside-site-info grid-container grid-parent\">\n",
       "<div class=\"copyright-bar\">\n",
       "<span class=\"copyright\">© 2021 Chicago Magazine</span> • Built with <a href=\"https://generatepress.com\" itemprop=\"url\">GeneratePress</a> </div>\n",
       "</div>\n",
       "</footer>\n",
       "</div><!-- .site-footer -->\n",
       "<!--[if lte IE 11]>\n",
       "<script src='https://www.chicagomag.com/wp-content/themes/generatepress/assets/js/classList.min.js?ver=3.0.2' id='generate-classlist-js'></script>\n",
       "<![endif]-->\n",
       "<script id=\"generate-main-js-extra\">\n",
       "var generatepressMenu = {\"toggleOpenedSubMenus\":\"1\",\"openSubMenuLabel\":\"Open Sub-Menu\",\"closeSubMenuLabel\":\"Close Sub-Menu\"};\n",
       "</script>\n",
       "<script id=\"generate-main-js\" src=\"https://www.chicagomag.com/wp-content/themes/generatepress/assets/js/main.min.js?ver=3.0.2\"></script>\n",
       "<script id=\"comment-reply-js\" src=\"https://www.chicagomag.com/wp-includes/js/comment-reply.min.js?ver=5.6\"></script>\n",
       "<script id=\"heateor_sss_sharing_js-js-before\">\n",
       "function heateorSssLoadEvent(e) {var t=window.onload;if (typeof window.onload!=\"function\") {window.onload=e}else{window.onload=function() {t();e()}}};\tvar heateorSssSharingAjaxUrl = 'https://www.chicagomag.com/wp-admin/admin-ajax.php', heateorSssCloseIconPath = 'https://www.chicagomag.com/wp-content/plugins/sassy-social-share/public/../images/close.png', heateorSssPluginIconPath = 'https://www.chicagomag.com/wp-content/plugins/sassy-social-share/public/../images/logo.png', heateorSssHorizontalSharingCountEnable = 0, heateorSssVerticalSharingCountEnable = 0, heateorSssSharingOffset = -10; var heateorSssMobileStickySharingEnabled = 0;var heateorSssCopyLinkMessage = \"Link copied.\";var heateorSssUrlCountFetched = [], heateorSssSharesText = 'Shares', heateorSssShareText = 'Share';function heateorSssPopup(e) {window.open(e,\"popUpWindow\",\"height=400,width=600,left=400,top=100,resizable,scrollbars,toolbar=0,personalbar=0,menubar=no,location=no,directories=no,status\")};var heateorSssWhatsappShareAPI = \"web\";\n",
       "</script>\n",
       "<script id=\"heateor_sss_sharing_js-js\" src=\"https://www.chicagomag.com/wp-content/plugins/sassy-social-share/public/js/sassy-social-share-public.js?ver=3.3.16\"></script>\n",
       "<script id=\"__ytprefsfitvids__-js\" src=\"https://www.chicagomag.com/wp-content/plugins/youtube-embed-plus-pro/scripts/fitvids.min.js?ver=13.4.1.2\"></script>\n",
       "<script id=\"wp-embed-js\" src=\"https://www.chicagomag.com/wp-includes/js/wp-embed.min.js?ver=5.6\"></script>\n",
       "<script>\n",
       "// When the user scrolls down 20px from the top of the document, slide down the navbar\n",
       "window.onscroll = function() {scrollFunction()};\n",
       "\n",
       "function scrollFunction() {\n",
       "  if (document.body.scrollTop > 240 || document.documentElement.scrollTop > 240) {\n",
       "    document.getElementById(\"navbar\").style.top = \"0\";\n",
       "  } else {\n",
       "    document.getElementById(\"navbar\").style.top = \"-45px\";\n",
       "  }\n",
       "}\n",
       "</script>\n",
       "</body>\n",
       "</html>"
      ]
     },
     "metadata": {},
     "execution_count": 42
    }
   ],
   "source": [
    "soup"
   ]
  },
  {
   "cell_type": "code",
   "execution_count": 44,
   "metadata": {},
   "outputs": [
    {
     "output_type": "execute_result",
     "data": {
      "text/plain": [
       "<div class=\"sammy\" style=\"position: relative;\">\n",
       "<div class=\"sammyRank\">1</div>\n",
       "<div class=\"sammyListing\"><a href=\"/Chicago-Magazine/November-2012/Best-Sandwiches-in-Chicago-Old-Oak-Tap-BLT/\"><b>BLT</b><br/>\n",
       "Old Oak Tap<br/>\n",
       "<em>Read more</em> </a></div>\n",
       "</div>"
      ]
     },
     "metadata": {},
     "execution_count": 44
    }
   ],
   "source": [
    "#ranking\n",
    "tmp_one=soup.find_all('div','sammy')[0]\n",
    "tmp_one"
   ]
  },
  {
   "cell_type": "code",
   "execution_count": 31,
   "metadata": {},
   "outputs": [
    {
     "output_type": "execute_result",
     "data": {
      "text/plain": [
       "'1'"
      ]
     },
     "metadata": {},
     "execution_count": 31
    }
   ],
   "source": [
    "tmp_one.find(class_='sammyRank').text"
   ]
  },
  {
   "cell_type": "code",
   "execution_count": 35,
   "metadata": {},
   "outputs": [
    {
     "output_type": "execute_result",
     "data": {
      "text/plain": [
       "'/Chicago-Magazine/November-2012/Best-Sandwiches-in-Chicago-Old-Oak-Tap-BLT/'"
      ]
     },
     "metadata": {},
     "execution_count": 35
    }
   ],
   "source": [
    "#rastaurant name and address\n",
    "tmp_one.find(class_=\"sammyListing\").get_text()\n",
    "tmp_one.find('a')['href']"
   ]
  },
  {
   "cell_type": "code",
   "execution_count": 37,
   "metadata": {},
   "outputs": [
    {
     "output_type": "execute_result",
     "data": {
      "text/plain": [
       "['BLT', 'Old Oak Tap', 'Read more ']"
      ]
     },
     "metadata": {},
     "execution_count": 37
    }
   ],
   "source": [
    "import re\n",
    "tmp_string = tmp_string = tmp_one.find(class_='sammyListing').get_text()\n",
    "re.split(('\\n|\\r\\n'), tmp_string)"
   ]
  },
  {
   "cell_type": "code",
   "execution_count": 45,
   "metadata": {},
   "outputs": [
    {
     "output_type": "execute_result",
     "data": {
      "text/plain": [
       "'http://www.chicagomag.com/Chicago-Magazine/November-2012/Best-Sandwiches-in-Chicago-Old-Oak-Tap-BLT/'"
      ]
     },
     "metadata": {},
     "execution_count": 45
    }
   ],
   "source": [
    "from urllib.parse import urljoin\n",
    "urljoin(url_base, tmp_one.find('a')['href'])"
   ]
  },
  {
   "cell_type": "code",
   "execution_count": 46,
   "metadata": {},
   "outputs": [],
   "source": [
    "tmp_one = soup.find_all('div','sammy')[10].find('a')['href']"
   ]
  },
  {
   "cell_type": "code",
   "execution_count": 47,
   "metadata": {},
   "outputs": [
    {
     "output_type": "execute_result",
     "data": {
      "text/plain": [
       "'http://www.chicagomag.com/Chicago-Magazine/November-2012/Best-Sandwiches-in-Chicago-Lula-Cafe-Ham-and-Raclette-Panino/'"
      ]
     },
     "metadata": {},
     "execution_count": 47
    }
   ],
   "source": [
    "urljoin(url_base, tmp_one)"
   ]
  },
  {
   "cell_type": "code",
   "execution_count": 63,
   "metadata": {},
   "outputs": [],
   "source": [
    "rank=[]\n",
    "main_menu=[]\n",
    "cafe_name=[]\n",
    "url_add=[]\n",
    "for item in soup.find_all('div','sammy'):\n",
    "    rank.append(item.find(class_='sammyRank').get_text())\n",
    "    tmp_string = item.find(class_='sammyListing').get_text()\n",
    "    main_menu.append(re.split(('\\n|r\\n'),tmp_string)[0])\n",
    "    cafe_name.append(re.split(('\\n|r\\n'),tmp_string)[1])\n",
    "    url_add.append(urljoin(url_base,item.find('a')['href']))\n"
   ]
  },
  {
   "cell_type": "code",
   "execution_count": 64,
   "metadata": {},
   "outputs": [
    {
     "output_type": "execute_result",
     "data": {
      "text/plain": [
       "['BLT', 'Fried Bologna', 'Woodland Mushroom', 'Roast Beef', 'PB&L']"
      ]
     },
     "metadata": {},
     "execution_count": 64
    }
   ],
   "source": [
    "main_menu[:5]"
   ]
  },
  {
   "cell_type": "code",
   "execution_count": 65,
   "metadata": {},
   "outputs": [
    {
     "output_type": "execute_result",
     "data": {
      "text/plain": [
       "['Old Oak Tap', 'Au Cheval', 'Xoco', 'Al’s Deli', 'Publican Quality Meats']"
      ]
     },
     "metadata": {},
     "execution_count": 65
    }
   ],
   "source": [
    "cafe_name[:5]"
   ]
  },
  {
   "cell_type": "code",
   "execution_count": 69,
   "metadata": {},
   "outputs": [
    {
     "output_type": "execute_result",
     "data": {
      "text/plain": [
       "  rank               menu                    cafe  \\\n",
       "0    1                BLT             Old Oak Tap   \n",
       "1    2      Fried Bologna               Au Cheval   \n",
       "2    3  Woodland Mushroom                    Xoco   \n",
       "3    4         Roast Beef               Al’s Deli   \n",
       "4    5               PB&L  Publican Quality Meats   \n",
       "\n",
       "                                                 URL  \n",
       "0  http://www.chicagomag.com/Chicago-Magazine/Nov...  \n",
       "1  http://www.chicagomag.com/Chicago-Magazine/Nov...  \n",
       "2  http://www.chicagomag.com/Chicago-Magazine/Nov...  \n",
       "3  http://www.chicagomag.com/Chicago-Magazine/Nov...  \n",
       "4  http://www.chicagomag.com/Chicago-Magazine/Nov...  "
      ],
      "text/html": "<div>\n<style scoped>\n    .dataframe tbody tr th:only-of-type {\n        vertical-align: middle;\n    }\n\n    .dataframe tbody tr th {\n        vertical-align: top;\n    }\n\n    .dataframe thead th {\n        text-align: right;\n    }\n</style>\n<table border=\"1\" class=\"dataframe\">\n  <thead>\n    <tr style=\"text-align: right;\">\n      <th></th>\n      <th>rank</th>\n      <th>menu</th>\n      <th>cafe</th>\n      <th>URL</th>\n    </tr>\n  </thead>\n  <tbody>\n    <tr>\n      <th>0</th>\n      <td>1</td>\n      <td>BLT</td>\n      <td>Old Oak Tap</td>\n      <td>http://www.chicagomag.com/Chicago-Magazine/Nov...</td>\n    </tr>\n    <tr>\n      <th>1</th>\n      <td>2</td>\n      <td>Fried Bologna</td>\n      <td>Au Cheval</td>\n      <td>http://www.chicagomag.com/Chicago-Magazine/Nov...</td>\n    </tr>\n    <tr>\n      <th>2</th>\n      <td>3</td>\n      <td>Woodland Mushroom</td>\n      <td>Xoco</td>\n      <td>http://www.chicagomag.com/Chicago-Magazine/Nov...</td>\n    </tr>\n    <tr>\n      <th>3</th>\n      <td>4</td>\n      <td>Roast Beef</td>\n      <td>Al’s Deli</td>\n      <td>http://www.chicagomag.com/Chicago-Magazine/Nov...</td>\n    </tr>\n    <tr>\n      <th>4</th>\n      <td>5</td>\n      <td>PB&amp;L</td>\n      <td>Publican Quality Meats</td>\n      <td>http://www.chicagomag.com/Chicago-Magazine/Nov...</td>\n    </tr>\n  </tbody>\n</table>\n</div>"
     },
     "metadata": {},
     "execution_count": 69
    }
   ],
   "source": [
    "data={\"rank\":rank, 'menu':main_menu, 'cafe':cafe_name, 'URL':url_add}\n",
    "df=pd.DataFrame(data)\n",
    "df.head()"
   ]
  },
  {
   "cell_type": "code",
   "execution_count": 71,
   "metadata": {},
   "outputs": [
    {
     "output_type": "execute_result",
     "data": {
      "text/plain": [
       "'/Users/yeonghwanchoi/Documents/git/crawling'"
      ]
     },
     "metadata": {},
     "execution_count": 71
    }
   ],
   "source": [
    "pwd"
   ]
  },
  {
   "cell_type": "code",
   "execution_count": 72,
   "metadata": {},
   "outputs": [],
   "source": [
    "\n",
    "df.to_csv('data/chicago_best_sub.csv',sep=',',encoding='UTF-8')"
   ]
  },
  {
   "cell_type": "code",
   "execution_count": 77,
   "metadata": {},
   "outputs": [
    {
     "output_type": "execute_result",
     "data": {
      "text/plain": [
       "'chicago_best_sub.csv'"
      ]
     },
     "metadata": {},
     "execution_count": 77
    }
   ],
   "source": [
    "address=!ls data\n",
    "address[2]"
   ]
  },
  {
   "cell_type": "code",
   "execution_count": 81,
   "metadata": {},
   "outputs": [
    {
     "output_type": "execute_result",
     "data": {
      "text/plain": [
       "   rank               menu                    cafe  \\\n",
       "0     1                BLT             Old Oak Tap   \n",
       "1     2      Fried Bologna               Au Cheval   \n",
       "2     3  Woodland Mushroom                    Xoco   \n",
       "3     4         Roast Beef               Al’s Deli   \n",
       "4     5               PB&L  Publican Quality Meats   \n",
       "\n",
       "                                                 URL  \n",
       "0  http://www.chicagomag.com/Chicago-Magazine/Nov...  \n",
       "1  http://www.chicagomag.com/Chicago-Magazine/Nov...  \n",
       "2  http://www.chicagomag.com/Chicago-Magazine/Nov...  \n",
       "3  http://www.chicagomag.com/Chicago-Magazine/Nov...  \n",
       "4  http://www.chicagomag.com/Chicago-Magazine/Nov...  "
      ],
      "text/html": "<div>\n<style scoped>\n    .dataframe tbody tr th:only-of-type {\n        vertical-align: middle;\n    }\n\n    .dataframe tbody tr th {\n        vertical-align: top;\n    }\n\n    .dataframe thead th {\n        text-align: right;\n    }\n</style>\n<table border=\"1\" class=\"dataframe\">\n  <thead>\n    <tr style=\"text-align: right;\">\n      <th></th>\n      <th>rank</th>\n      <th>menu</th>\n      <th>cafe</th>\n      <th>URL</th>\n    </tr>\n  </thead>\n  <tbody>\n    <tr>\n      <th>0</th>\n      <td>1</td>\n      <td>BLT</td>\n      <td>Old Oak Tap</td>\n      <td>http://www.chicagomag.com/Chicago-Magazine/Nov...</td>\n    </tr>\n    <tr>\n      <th>1</th>\n      <td>2</td>\n      <td>Fried Bologna</td>\n      <td>Au Cheval</td>\n      <td>http://www.chicagomag.com/Chicago-Magazine/Nov...</td>\n    </tr>\n    <tr>\n      <th>2</th>\n      <td>3</td>\n      <td>Woodland Mushroom</td>\n      <td>Xoco</td>\n      <td>http://www.chicagomag.com/Chicago-Magazine/Nov...</td>\n    </tr>\n    <tr>\n      <th>3</th>\n      <td>4</td>\n      <td>Roast Beef</td>\n      <td>Al’s Deli</td>\n      <td>http://www.chicagomag.com/Chicago-Magazine/Nov...</td>\n    </tr>\n    <tr>\n      <th>4</th>\n      <td>5</td>\n      <td>PB&amp;L</td>\n      <td>Publican Quality Meats</td>\n      <td>http://www.chicagomag.com/Chicago-Magazine/Nov...</td>\n    </tr>\n  </tbody>\n</table>\n</div>"
     },
     "metadata": {},
     "execution_count": 81
    }
   ],
   "source": [
    "df=pd.read_csv('data/'+address[2],index_col=0)\n",
    "df.head()"
   ]
  },
  {
   "cell_type": "code",
   "execution_count": 84,
   "metadata": {},
   "outputs": [],
   "source": [
    "req=Request(df['URL'][0],headers=header)\n",
    "html = urlopen(req)\n",
    "soup_tmp = BeautifulSoup(html,\"html.parser\")\n"
   ]
  },
  {
   "cell_type": "code",
   "execution_count": 88,
   "metadata": {},
   "outputs": [],
   "source": [
    "price_tmp=soup_tmp.find('p','addy').get_text()"
   ]
  },
  {
   "cell_type": "code",
   "execution_count": 89,
   "metadata": {},
   "outputs": [
    {
     "output_type": "execute_result",
     "data": {
      "text/plain": [
       "'\\n$10. 2109 W. Chicago Ave'"
      ]
     },
     "metadata": {},
     "execution_count": 89
    }
   ],
   "source": [
    "price_tmp=re.split('.,',price_tmp)[0]\n",
    "price_tmp"
   ]
  },
  {
   "cell_type": "code",
   "execution_count": 91,
   "metadata": {},
   "outputs": [
    {
     "output_type": "error",
     "ename": "AttributeError",
     "evalue": "module 're' has no attribute 'serch'",
     "traceback": [
      "\u001b[0;31m---------------------------------------------------------------------------\u001b[0m",
      "\u001b[0;31mAttributeError\u001b[0m                            Traceback (most recent call last)",
      "\u001b[0;32m<ipython-input-91-d61cf513dbab>\u001b[0m in \u001b[0;36m<module>\u001b[0;34m\u001b[0m\n\u001b[0;32m----> 1\u001b[0;31m \u001b[0mre\u001b[0m\u001b[0;34m.\u001b[0m\u001b[0mserch\u001b[0m\u001b[0;34m(\u001b[0m\u001b[0;34m'\\$\\d+\\.(\\d+)?'\u001b[0m\u001b[0;34m,\u001b[0m\u001b[0mprice_tmp\u001b[0m\u001b[0;34m)\u001b[0m\u001b[0;34m.\u001b[0m\u001b[0mgroup\u001b[0m\u001b[0;34m(\u001b[0m\u001b[0;34m)\u001b[0m\u001b[0;34m\u001b[0m\u001b[0;34m\u001b[0m\u001b[0m\n\u001b[0m",
      "\u001b[0;31mAttributeError\u001b[0m: module 're' has no attribute 'serch'"
     ]
    }
   ],
   "source": [
    "re.serch('\\$\\d+\\.(\\d+)?',price_tmp).group()"
   ]
  },
  {
   "cell_type": "code",
   "execution_count": null,
   "metadata": {},
   "outputs": [],
   "source": []
  }
 ],
 "metadata": {
  "kernelspec": {
   "display_name": "Python 3",
   "language": "python",
   "name": "python3"
  },
  "language_info": {
   "codemirror_mode": {
    "name": "ipython",
    "version": 3
   },
   "file_extension": ".py",
   "mimetype": "text/x-python",
   "name": "python",
   "nbconvert_exporter": "python",
   "pygments_lexer": "ipython3",
   "version": "3.8.5-final"
  }
 },
 "nbformat": 4,
 "nbformat_minor": 2
}