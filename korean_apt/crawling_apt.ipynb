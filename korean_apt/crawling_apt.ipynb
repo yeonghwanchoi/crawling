{
 "cells": [
  {
   "cell_type": "code",
   "execution_count": 1,
   "metadata": {
    "scrolled": true
   },
   "outputs": [],
   "source": [
    "import geohash2\n",
    "import pandas as pd\n",
    "import requests\n",
    "class crawling_apt:\n",
    "\n",
    "    def __init__(self, addr):\n",
    "        self.addr = addr\n",
    "        self.apt_data = None\n",
    "\n",
    "    def get_addr(self):\n",
    "        \n",
    "        url=\"https://apis.zigbang.com/v2/search?q={}&serviceType=아파트\".format(self.addr)\n",
    "        response = requests.get(url)\n",
    "        data=response.json()\n",
    "        lat_lng_list=[(data[\"items\"][i][\"lat\"],data[\"items\"][i][\"lng\"]) for i in range(len(data[\"items\"]))]\n",
    "        geohash_list= list(set([geohash2.encode(i[0],i[1],5) for i in lat_lng_list]))\n",
    "        apt_data=[]\n",
    "        for geo in geohash_list:\n",
    "            url_=\"https://apis.zigbang.com/property/apartments/location/v3?e=&geohash={}\\\n",
    "&markerType=large&n=&q=type%3Dsales%2Cprice%3D0~-1%2CfloorArea%3D0~-1&s=&serviceType%5B0%5D=apt&serviceType%5B1%5D=offer&w=\".format(geo)\n",
    "            response = requests.get(url_)\n",
    "            datas = response.json()\n",
    "            for data in datas[\"filtered\"]:\n",
    "                apt_data.append(data)\n",
    "        self.apt_data = apt_data\n",
    "        return self.apt_data\n",
    "        \n",
    "    \n",
    "        \n",
    "\n",
    "    def datafame(self):\n",
    "        apt_data = self.apt_data\n",
    "        df=pd.DataFrame(apt_data)[[\"name\",\"sido\",\"gugun\",\"dong\",\"households\",\"buildDate\",\"item_count\",\"price\",'floorArea']]\n",
    "        df=df[df[\"gugun\"]==self.addr]\n",
    "        df[\"rent_avg\"]=df[\"price\"].apply(lambda x : x[\"rent\"][\"avg\"])\n",
    "        df[\"rent_per\"]=df[\"price\"].apply(lambda x : x[\"rent\"][\"perArea\"])\n",
    "        df[\"sale_avg\"]=df[\"price\"].apply(lambda x : x[\"sales\"][\"avg\"])\n",
    "        df[\"slae_per\"]=df[\"price\"].apply(lambda x : x[\"sales\"][\"perArea\"])\n",
    "        df[\"item_count\"]=df[\"item_count\"].apply(lambda x : x[\"register\"])\n",
    "        df[\"floorArea\"]=df[\"floorArea\"].apply(lambda x : x[\"p\"])\n",
    "        df[\"buildDate\"]=df[\"buildDate\"].fillna(\"0000\").apply(lambda x : int(str(x)[0:4]))\n",
    "        df=df.drop(\"price\",axis=1).fillna(0)\n",
    "        return df\n",
    "        self.datafame()"
   ]
  }
 ],
 "metadata": {
  "kernelspec": {
   "display_name": "Python 3",
   "language": "python",
   "name": "python3"
  },
  "language_info": {
   "codemirror_mode": {
    "name": "ipython",
    "version": 3
   },
   "file_extension": ".py",
   "mimetype": "text/x-python",
   "name": "python",
   "nbconvert_exporter": "python",
   "pygments_lexer": "ipython3",
   "version": "3.8.5"
  },
  "toc": {
   "base_numbering": 1,
   "nav_menu": {},
   "number_sections": true,
   "sideBar": true,
   "skip_h1_title": false,
   "title_cell": "Table of Contents",
   "title_sidebar": "Contents",
   "toc_cell": false,
   "toc_position": {},
   "toc_section_display": true,
   "toc_window_display": false
  },
  "varInspector": {
   "cols": {
    "lenName": 16,
    "lenType": 16,
    "lenVar": 40
   },
   "kernels_config": {
    "python": {
     "delete_cmd_postfix": "",
     "delete_cmd_prefix": "del ",
     "library": "var_list.py",
     "varRefreshCmd": "print(var_dic_list())"
    },
    "r": {
     "delete_cmd_postfix": ") ",
     "delete_cmd_prefix": "rm(",
     "library": "var_list.r",
     "varRefreshCmd": "cat(var_dic_list()) "
    }
   },
   "types_to_exclude": [
    "module",
    "function",
    "builtin_function_or_method",
    "instance",
    "_Feature"
   ],
   "window_display": false
  }
 },
 "nbformat": 4,
 "nbformat_minor": 4
}