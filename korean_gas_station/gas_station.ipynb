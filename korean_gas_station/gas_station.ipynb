{
 "metadata": {
  "language_info": {
   "codemirror_mode": {
    "name": "ipython",
    "version": 3
   },
   "file_extension": ".py",
   "mimetype": "text/x-python",
   "name": "python",
   "nbconvert_exporter": "python",
   "pygments_lexer": "ipython3",
   "version": "3.8.5-final"
  },
  "orig_nbformat": 2,
  "kernelspec": {
   "name": "python3",
   "display_name": "Python 3.8.5 64-bit ('base': conda)",
   "metadata": {
    "interpreter": {
     "hash": "abbcdc40a72994c21b914574aca001e1b372c6409f4c3f4cb601e2e31780f04d"
    }
   }
  }
 },
 "nbformat": 4,
 "nbformat_minor": 2,
 "cells": [
  {
   "cell_type": "code",
   "execution_count": 163,
   "metadata": {},
   "outputs": [
    {
     "output_type": "execute_result",
     "data": {
      "text/plain": [
       "'송파구'"
      ]
     },
     "metadata": {},
     "execution_count": 163
    }
   ],
   "source": [
    "from selenium import webdriver\n",
    "from bs4 import BeautifulSoup\n",
    "import time\n",
    "def get_page_source():\n",
    "    driver = webdriver.Chrome('./chromedriver')\n",
    "    driver.get(\"https://www.opinet.co.kr\")\n",
    "    time.sleep(2)\n",
    "    driver.get(\"https://www.opinet.co.kr/searRgSelect.do\")\n",
    "\n",
    "\n",
    "    html =driver.page_source\n",
    "    soup = BeautifulSoup(html,'html.parser')\n",
    "\n",
    "    return soup"
   ]
  },
  {
   "cell_type": "code",
   "execution_count": 164,
   "metadata": {},
   "outputs": [],
   "source": [
    "gu_list_raw.send_keys(gu_name[17])"
   ]
  },
  {
   "cell_type": "code",
   "execution_count": 165,
   "metadata": {},
   "outputs": [],
   "source": []
  },
  {
   "cell_type": "code",
   "execution_count": 221,
   "metadata": {},
   "outputs": [],
   "source": [
    "# soup.find_all('tbody')[0]"
   ]
  },
  {
   "cell_type": "code",
   "execution_count": 167,
   "metadata": {},
   "outputs": [
    {
     "output_type": "execute_result",
     "data": {
      "text/plain": [
       "32"
      ]
     },
     "metadata": {},
     "execution_count": 167
    }
   ],
   "source": [
    "df=soup.find_all('tbody')[0]\n",
    "df_page=df.find_all('td','rlist')\n",
    "len(df_page)"
   ]
  },
  {
   "cell_type": "code",
   "execution_count": 168,
   "metadata": {},
   "outputs": [
    {
     "output_type": "execute_result",
     "data": {
      "text/plain": [
       "'현대오일뱅크'"
      ]
     },
     "metadata": {},
     "execution_count": 168
    }
   ],
   "source": [
    "#brand\n",
    "df_page[0].img['alt']"
   ]
  },
  {
   "cell_type": "code",
   "execution_count": 169,
   "metadata": {},
   "outputs": [
    {
     "output_type": "execute_result",
     "data": {
      "text/plain": [
       "<td class=\"rlist\">\n",
       "<img alt=\"GS칼텍스\" src=\"/images/user/com/ico_logo_gs.gif\"/>\n",
       "<a href=\"javascript:fn_osPop('','1615','1473','1274','99999','','2021-02-22 14:55:38','2021-02-22 14:59:00','2021-02-22 14:59:34',' ','','318944.74530','545335.84770','','','','','',' ','Y','Y','GSC','삼화주유소','GS칼텍스','02-2203-2280','서울 송파구 백제고분로 125','N','N','N','','N','A0010167','2190663386','N','N','Y');\">\n",
       "\t\t\t\t\t\t\t\t\t\t\t\t\t\t\t\t\n",
       "\t\t\t\t\t\t\t\t\t\t\t\t\t\t\t\t\t\t\t\t\t\t\t\t\t\t\t\t\t\t\t\n",
       "\t\t\t\t\t\t\t\t\t\t\t\t\t\t\t\t\n",
       "\t\t\t\t\t\t\t\t\t\t\t\t\t\t\t\t\t\n",
       "\t\t\t\t\t\t\t\t\t\t\t\t\t\t\t\t\t삼화주유소\n",
       "\t\t\t\t\t\t\t\t\t\t\t\t\t\t\t\t</a>\n",
       "<span class=\"ic ico_self\"><span class=\"ico\">셀프</span></span>\n",
       "<span class=\"ic3 ico_kdp\"><span class=\"ico\">전산</span></span>\n",
       "</td>"
      ]
     },
     "metadata": {},
     "execution_count": 169
    }
   ],
   "source": [
    "df_page[1]"
   ]
  },
  {
   "cell_type": "code",
   "execution_count": 170,
   "metadata": {},
   "outputs": [
    {
     "output_type": "execute_result",
     "data": {
      "text/plain": [
       "'셀프'"
      ]
     },
     "metadata": {},
     "execution_count": 170
    }
   ],
   "source": [
    "\n",
    "df_page[0].span.string"
   ]
  },
  {
   "cell_type": "code",
   "execution_count": 171,
   "metadata": {},
   "outputs": [
    {
     "output_type": "execute_result",
     "data": {
      "text/plain": [
       "'셀프'"
      ]
     },
     "metadata": {},
     "execution_count": 171
    }
   ],
   "source": [
    "df_page[3].span.string"
   ]
  },
  {
   "cell_type": "code",
   "execution_count": 172,
   "metadata": {},
   "outputs": [
    {
     "output_type": "execute_result",
     "data": {
      "text/plain": [
       "'\\n\\t\\t\\t\\t\\t\\t\\t\\t\\t\\t\\t\\t\\t\\t\\t\\t\\n\\t\\t\\t\\t\\t\\t\\t\\t\\t\\t\\t\\t\\t\\t\\t\\t\\t\\t\\t\\t\\t\\t\\t\\t\\t\\t\\t\\t\\t\\t\\t\\n\\t\\t\\t\\t\\t\\t\\t\\t\\t\\t\\t\\t\\t\\t\\t\\t\\n\\t\\t\\t\\t\\t\\t\\t\\t\\t\\t\\t\\t\\t\\t\\t\\t\\t지에스이앤알 직영...\\n\\t\\t\\t\\t\\t\\t\\t\\t\\t\\t\\t\\t\\t\\t\\t\\t\\t\\n\\t\\t\\t\\t\\t\\t\\t\\t\\t\\t\\t\\t\\t\\t\\t\\t'"
      ]
     },
     "metadata": {},
     "execution_count": 172
    }
   ],
   "source": [
    "df_page[0].a.string"
   ]
  },
  {
   "cell_type": "code",
   "execution_count": 222,
   "metadata": {},
   "outputs": [],
   "source": [
    "df_price = df.find_all('td','price')"
   ]
  },
  {
   "cell_type": "code",
   "execution_count": 174,
   "metadata": {},
   "outputs": [
    {
     "output_type": "execute_result",
     "data": {
      "text/plain": [
       "['현대오일뱅크',\n",
       " 'GS칼텍스',\n",
       " 'SK에너지',\n",
       " 'GS칼텍스',\n",
       " '현대오일뱅크',\n",
       " 'SK에너지',\n",
       " 'SK에너지',\n",
       " 'GS칼텍스',\n",
       " 'SK에너지',\n",
       " 'SK에너지',\n",
       " 'SK에너지',\n",
       " 'S-OIL',\n",
       " '현대오일뱅크',\n",
       " 'GS칼텍스',\n",
       " 'S-OIL',\n",
       " '현대오일뱅크',\n",
       " '현대오일뱅크',\n",
       " '현대오일뱅크',\n",
       " 'GS칼텍스',\n",
       " 'SK에너지',\n",
       " 'GS칼텍스',\n",
       " '현대오일뱅크',\n",
       " '현대오일뱅크',\n",
       " 'SK에너지',\n",
       " '현대오일뱅크',\n",
       " 'GS칼텍스',\n",
       " 'S-OIL',\n",
       " 'SK에너지',\n",
       " 'GS칼텍스',\n",
       " 'GS칼텍스',\n",
       " 'S-OIL',\n",
       " 'SK에너지']"
      ]
     },
     "metadata": {},
     "execution_count": 174
    }
   ],
   "source": [
    "#brand name\n",
    "df=soup.find_all('tbody')[0]\n",
    "df_page=df.find_all('td','rlist')\n",
    "[each.img['alt'] for each in df_page]"
   ]
  },
  {
   "cell_type": "code",
   "execution_count": 175,
   "metadata": {},
   "outputs": [],
   "source": [
    "def get_brand(df):\n",
    "    return [each.img['alt'] for each in df_page]"
   ]
  },
  {
   "cell_type": "code",
   "execution_count": 176,
   "metadata": {},
   "outputs": [
    {
     "output_type": "execute_result",
     "data": {
      "text/plain": [
       "['셀프',\n",
       " '셀프',\n",
       " '셀프',\n",
       " '셀프',\n",
       " '셀프',\n",
       " '전산',\n",
       " '',\n",
       " '전산',\n",
       " '셀프',\n",
       " '셀프',\n",
       " '셀프',\n",
       " '셀프',\n",
       " '셀프',\n",
       " '셀프',\n",
       " '셀프',\n",
       " '',\n",
       " '셀프',\n",
       " '셀프',\n",
       " '전산',\n",
       " '',\n",
       " '셀프',\n",
       " '셀프',\n",
       " '',\n",
       " '셀프',\n",
       " '전산',\n",
       " '',\n",
       " '',\n",
       " '셀프',\n",
       " '셀프',\n",
       " '',\n",
       " '',\n",
       " '']"
      ]
     },
     "metadata": {},
     "execution_count": 176
    }
   ],
   "source": [
    "tmp=[]\n",
    "for each in df_page:\n",
    "    if each.span is None:\n",
    "        tmp.append('')\n",
    "    else:\n",
    "        tmp.append(each.span.string)\n",
    "tmp"
   ]
  },
  {
   "cell_type": "code",
   "execution_count": 177,
   "metadata": {},
   "outputs": [],
   "source": [
    "def get_isself(df):\n",
    "    tmp=[]\n",
    "    for each in df:\n",
    "        if each.span is None:\n",
    "            tmp.append('N')\n",
    "        else:\n",
    "            tmp.append('Y')\n",
    "    return tmp"
   ]
  },
  {
   "cell_type": "code",
   "execution_count": 178,
   "metadata": {},
   "outputs": [
    {
     "output_type": "execute_result",
     "data": {
      "text/plain": [
       "['Y',\n",
       " 'Y',\n",
       " 'Y',\n",
       " 'Y',\n",
       " 'Y',\n",
       " 'Y',\n",
       " 'N',\n",
       " 'Y',\n",
       " 'Y',\n",
       " 'Y',\n",
       " 'Y',\n",
       " 'Y',\n",
       " 'Y',\n",
       " 'Y',\n",
       " 'Y',\n",
       " 'N',\n",
       " 'Y',\n",
       " 'Y',\n",
       " 'Y',\n",
       " 'N',\n",
       " 'Y',\n",
       " 'Y',\n",
       " 'N',\n",
       " 'Y',\n",
       " 'Y',\n",
       " 'N',\n",
       " 'N',\n",
       " 'Y',\n",
       " 'Y',\n",
       " 'N',\n",
       " 'N',\n",
       " 'N']"
      ]
     },
     "metadata": {},
     "execution_count": 178
    }
   ],
   "source": [
    "get_isself(df_page)\n"
   ]
  },
  {
   "cell_type": "code",
   "execution_count": 179,
   "metadata": {},
   "outputs": [
    {
     "output_type": "execute_result",
     "data": {
      "text/plain": [
       "['지에스이앤알 직영',\n",
       " '삼화주유소',\n",
       " '삼전셀프주유소',\n",
       " '아시아주유소',\n",
       " '상아주유소',\n",
       " '방이주유소',\n",
       " '대성주유소',\n",
       " '지에스칼텍스(주)',\n",
       " '완불주유소',\n",
       " '남성대주유소',\n",
       " '백제고분로주유소',\n",
       " '위례제일주유소',\n",
       " '현대오일뱅크㈜직영',\n",
       " '지에스칼텍스(주)',\n",
       " '(주)잠실에너지',\n",
       " '제트라인DM주유소',\n",
       " '(주)정직한주유소',\n",
       " '현대오일뱅크㈜직영',\n",
       " '(주)삼표에너지 ',\n",
       " '(주)유진주유소',\n",
       " '지에스칼텍스(주)',\n",
       " '현대오일뱅크㈜직영',\n",
       " '(주)뉴명성산업 ',\n",
       " '한강에너지(주)퍼',\n",
       " '현대오일뱅크㈜직영',\n",
       " '대성석유(주)석촌',\n",
       " '(주)퍼스트오일서',\n",
       " '(주)신화에너지 ',\n",
       " '송파주유소',\n",
       " '(주)남경석유 세',\n",
       " '송파알찬주유소',\n",
       " '대신석유(주)진양']"
      ]
     },
     "metadata": {},
     "execution_count": 179
    }
   ],
   "source": [
    "name=[]\n",
    "for each in df_page:\n",
    "    candi = each.a.string\n",
    "    candi = candi.replace('\\n','')\n",
    "    candi = candi.replace('\\t','')\n",
    "    candi = candi.replace('.','')\n",
    "    name.append(candi)\n",
    "name"
   ]
  },
  {
   "cell_type": "code",
   "execution_count": 180,
   "metadata": {},
   "outputs": [
    {
     "output_type": "stream",
     "name": "stdout",
     "text": [
      "\n\t\t\t\t\t\t\t\t\t\t\t\t\t\t\t\t\n\t\t\t\t\t\t\t\t\t\t\t\t\t\t\t\t1470\n\t\t\t\t\t\t\t\t\t\t\t\t\t\t\t\nNone\n\n\t\t\t\t\t\t\t\t\t\t\t\t\t\t\t\t\n\t\t\t\t\t\t\t\t\t\t\t\t\t\t\t\t1473\n\t\t\t\t\t\t\t\t\t\t\t\t\t\t\t\nNone\n\n\t\t\t\t\t\t\t\t\t\t\t\t\t\t\t\t\n\t\t\t\t\t\t\t\t\t\t\t\t\t\t\t\t1473\n\t\t\t\t\t\t\t\t\t\t\t\t\t\t\t\nNone\n\n\t\t\t\t\t\t\t\t\t\t\t\t\t\t\t\t\n\t\t\t\t\t\t\t\t\t\t\t\t\t\t\t\t1473\n\t\t\t\t\t\t\t\t\t\t\t\t\t\t\t\nNone\n\n\t\t\t\t\t\t\t\t\t\t\t\t\t\t\t\t\n\t\t\t\t\t\t\t\t\t\t\t\t\t\t\t\t1483\n\t\t\t\t\t\t\t\t\t\t\t\t\t\t\t\nNone\n\n\t\t\t\t\t\t\t\t\t\t\t\t\t\t\t\t\n\t\t\t\t\t\t\t\t\t\t\t\t\t\t\t\t1487\n\t\t\t\t\t\t\t\t\t\t\t\t\t\t\t\nNone\n\n\t\t\t\t\t\t\t\t\t\t\t\t\t\t\t\t\n\t\t\t\t\t\t\t\t\t\t\t\t\t\t\t\t1488\n\t\t\t\t\t\t\t\t\t\t\t\t\t\t\t\nNone\n\n\t\t\t\t\t\t\t\t\t\t\t\t\t\t\t\t\n\t\t\t\t\t\t\t\t\t\t\t\t\t\t\t\t1489\n\t\t\t\t\t\t\t\t\t\t\t\t\t\t\t\nNone\n\n\t\t\t\t\t\t\t\t\t\t\t\t\t\t\t\t\n\t\t\t\t\t\t\t\t\t\t\t\t\t\t\t\t1493\n\t\t\t\t\t\t\t\t\t\t\t\t\t\t\t\nNone\n\n\t\t\t\t\t\t\t\t\t\t\t\t\t\t\t\t\n\t\t\t\t\t\t\t\t\t\t\t\t\t\t\t\t1493\n\t\t\t\t\t\t\t\t\t\t\t\t\t\t\t\nNone\n\n\t\t\t\t\t\t\t\t\t\t\t\t\t\t\t\t\n\t\t\t\t\t\t\t\t\t\t\t\t\t\t\t\t1493\n\t\t\t\t\t\t\t\t\t\t\t\t\t\t\t\nNone\n\n\t\t\t\t\t\t\t\t\t\t\t\t\t\t\t\t\n\t\t\t\t\t\t\t\t\t\t\t\t\t\t\t\t1493\n\t\t\t\t\t\t\t\t\t\t\t\t\t\t\t\nNone\n\n\t\t\t\t\t\t\t\t\t\t\t\t\t\t\t\t\n\t\t\t\t\t\t\t\t\t\t\t\t\t\t\t\t1494\n\t\t\t\t\t\t\t\t\t\t\t\t\t\t\t\nNone\n\n\t\t\t\t\t\t\t\t\t\t\t\t\t\t\t\t\n\t\t\t\t\t\t\t\t\t\t\t\t\t\t\t\t1495\n\t\t\t\t\t\t\t\t\t\t\t\t\t\t\t\nNone\n\n\t\t\t\t\t\t\t\t\t\t\t\t\t\t\t\t\n\t\t\t\t\t\t\t\t\t\t\t\t\t\t\t\t1497\n\t\t\t\t\t\t\t\t\t\t\t\t\t\t\t\nNone\n\n\t\t\t\t\t\t\t\t\t\t\t\t\t\t\t\t\n\t\t\t\t\t\t\t\t\t\t\t\t\t\t\t\t1497\n\t\t\t\t\t\t\t\t\t\t\t\t\t\t\t\nNone\n\n\t\t\t\t\t\t\t\t\t\t\t\t\t\t\t\t\n\t\t\t\t\t\t\t\t\t\t\t\t\t\t\t\t1498\n\t\t\t\t\t\t\t\t\t\t\t\t\t\t\t\nNone\n\n\t\t\t\t\t\t\t\t\t\t\t\t\t\t\t\t\n\t\t\t\t\t\t\t\t\t\t\t\t\t\t\t\t1498\n\t\t\t\t\t\t\t\t\t\t\t\t\t\t\t\nNone\n\n\t\t\t\t\t\t\t\t\t\t\t\t\t\t\t\t\n\t\t\t\t\t\t\t\t\t\t\t\t\t\t\t\t1498\n\t\t\t\t\t\t\t\t\t\t\t\t\t\t\t\nNone\n\n\t\t\t\t\t\t\t\t\t\t\t\t\t\t\t\t\n\t\t\t\t\t\t\t\t\t\t\t\t\t\t\t\t1498\n\t\t\t\t\t\t\t\t\t\t\t\t\t\t\t\nNone\n\n\t\t\t\t\t\t\t\t\t\t\t\t\t\t\t\t\n\t\t\t\t\t\t\t\t\t\t\t\t\t\t\t\t1499\n\t\t\t\t\t\t\t\t\t\t\t\t\t\t\t\nNone\n\n\t\t\t\t\t\t\t\t\t\t\t\t\t\t\t\t\n\t\t\t\t\t\t\t\t\t\t\t\t\t\t\t\t1508\n\t\t\t\t\t\t\t\t\t\t\t\t\t\t\t\nNone\n\n\t\t\t\t\t\t\t\t\t\t\t\t\t\t\t\t\n\t\t\t\t\t\t\t\t\t\t\t\t\t\t\t\t1509\n\t\t\t\t\t\t\t\t\t\t\t\t\t\t\t\nNone\n\n\t\t\t\t\t\t\t\t\t\t\t\t\t\t\t\t\n\t\t\t\t\t\t\t\t\t\t\t\t\t\t\t\t1515\n\t\t\t\t\t\t\t\t\t\t\t\t\t\t\t\nNone\n\n\t\t\t\t\t\t\t\t\t\t\t\t\t\t\t\t\n\t\t\t\t\t\t\t\t\t\t\t\t\t\t\t\t1517\n\t\t\t\t\t\t\t\t\t\t\t\t\t\t\t\nNone\n\n\t\t\t\t\t\t\t\t\t\t\t\t\t\t\t\t\n\t\t\t\t\t\t\t\t\t\t\t\t\t\t\t\t1518\n\t\t\t\t\t\t\t\t\t\t\t\t\t\t\t\nNone\n\n\t\t\t\t\t\t\t\t\t\t\t\t\t\t\t\t\n\t\t\t\t\t\t\t\t\t\t\t\t\t\t\t\t1518\n\t\t\t\t\t\t\t\t\t\t\t\t\t\t\t\nNone\n\n\t\t\t\t\t\t\t\t\t\t\t\t\t\t\t\t\n\t\t\t\t\t\t\t\t\t\t\t\t\t\t\t\t1519\n\t\t\t\t\t\t\t\t\t\t\t\t\t\t\t\nNone\n\n\t\t\t\t\t\t\t\t\t\t\t\t\t\t\t\t\n\t\t\t\t\t\t\t\t\t\t\t\t\t\t\t\t1523\n\t\t\t\t\t\t\t\t\t\t\t\t\t\t\t\nNone\n\n\t\t\t\t\t\t\t\t\t\t\t\t\t\t\t\t\n\t\t\t\t\t\t\t\t\t\t\t\t\t\t\t\t1529\n\t\t\t\t\t\t\t\t\t\t\t\t\t\t\t\nNone\n\n\t\t\t\t\t\t\t\t\t\t\t\t\t\t\t\t\n\t\t\t\t\t\t\t\t\t\t\t\t\t\t\t\t1698\n\t\t\t\t\t\t\t\t\t\t\t\t\t\t\t\nNone\n\n\t\t\t\t\t\t\t\t\t\t\t\t\t\t\t\t\n\t\t\t\t\t\t\t\t\t\t\t\t\t\t\t\t1728\n\t\t\t\t\t\t\t\t\t\t\t\t\t\t\t\nNone\n"
     ]
    }
   ],
   "source": [
    "df_price = df.find_all('td','price')\n",
    "price = []\n",
    "for each in df_price:\n",
    "    print(each.string)"
   ]
  },
  {
   "cell_type": "code",
   "execution_count": 181,
   "metadata": {},
   "outputs": [
    {
     "output_type": "execute_result",
     "data": {
      "text/plain": [
       "['1470',\n",
       " '1473',\n",
       " '1473',\n",
       " '1473',\n",
       " '1483',\n",
       " '1487',\n",
       " '1488',\n",
       " '1489',\n",
       " '1493',\n",
       " '1493',\n",
       " '1493',\n",
       " '1493',\n",
       " '1494',\n",
       " '1495',\n",
       " '1497',\n",
       " '1497',\n",
       " '1498',\n",
       " '1498',\n",
       " '1498',\n",
       " '1498',\n",
       " '1499',\n",
       " '1508',\n",
       " '1509',\n",
       " '1515',\n",
       " '1517',\n",
       " '1518',\n",
       " '1518',\n",
       " '1519',\n",
       " '1523',\n",
       " '1529',\n",
       " '1698',\n",
       " '1728']"
      ]
     },
     "metadata": {},
     "execution_count": 181
    }
   ],
   "source": [
    "price=[]\n",
    "for each in df_price:\n",
    "    if each.string is not None:\n",
    "        tmp=each.string\n",
    "        tmp = tmp.replace('\\n','')\n",
    "        tmp = tmp.replace('\\t','')\n",
    "        price.append(tmp)\n",
    "price"
   ]
  },
  {
   "cell_type": "code",
   "execution_count": null,
   "metadata": {},
   "outputs": [],
   "source": [
    "from selenium import webdriver\n",
    "from bs4 import BeautifulSoup\n",
    "import time\n",
    "\n",
    "class find_gas_station:\n",
    "def get_page_source():\n",
    "    driver = webdriver.Chrome('./chromedriver')\n",
    "    driver.get(\"https://www.opinet.co.kr\")\n",
    "    time.sleep(2)\n",
    "    driver.get(\"https://www.opinet.co.kr/searRgSelect.do\")\n",
    "\n",
    "\n",
    "    html =driver.page_source\n",
    "    soup = BeautifulSoup(html,'html.parser')\n",
    "\n",
    "    return soup"
   ]
  },
  {
   "cell_type": "code",
   "execution_count": 21,
   "metadata": {},
   "outputs": [],
   "source": [
    "from selenium import webdriver\n",
    "from bs4 import BeautifulSoup\n",
    "import time\n",
    "class find_gas_station:\n",
    "\n",
    "    def __init__(self,city_name='서울시'):\n",
    "        self.city_name=city_name\n",
    "        \n",
    "    def get_page_source_by_city(self):\n",
    "        driver = webdriver.Chrome('./chromedriver')\n",
    "        driver.get(\"https://www.opinet.co.kr\")\n",
    "        time.sleep(2)\n",
    "        driver.get(\"https://www.opinet.co.kr/searRgSelect.do\")\n",
    "\n",
    "    \n",
    "        sido_list_raw = driver.find_element_by_id(\"SIDO_NM0\")\n",
    "    # sido_list = sido_list_raw.find_elements_by_tag_name('option')\n",
    "\n",
    "    # sido_name=[option.get_attribute('value') for option in sido_list_raw.find_elements_by_tag_name('option')]          \n",
    "    # sido_name.remove('')# all cities \n",
    "        sido_list_raw.send_keys(self.city_name)\n",
    "    \n",
    "        gu_list_raw = driver.find_element_by_id(\"SIGUNGU_NM0\")\n",
    "\n",
    "        gu_name=[option.get_attribute('value') for option in gu_list_raw.find_elements_by_tag_name('option')]\n",
    "        gu_name.remove('')\n",
    "        return gu_name"
   ]
  },
  {
   "cell_type": "code",
   "execution_count": null,
   "metadata": {},
   "outputs": [],
   "source": [
    "def select_city(city_name='서울시'):\n",
    "    ido_list_raw = driver.find_element_by_id(\"SIDO_NM0\")\n",
    "   \n",
    "    # sido_name=[option.get_attribute('value') for option in sido_list_raw.find_elements_by_tag_name('option')]          \n",
    "    # sido_name.remove('')# all cities \n",
    "    sido_list_raw.send_keys(city_name)"
   ]
  },
  {
   "cell_type": "code",
   "execution_count": null,
   "metadata": {},
   "outputs": [],
   "source": [
    "driver = webdriver.Chrome('./chromedriver')\n",
    "driver.get(\"https://www.opinet.co.kr\")\n",
    "time.sleep(2)\n",
    "driver.get(\"https://www.opinet.co.kr/searRgSelect.do\")\n",
    "\n",
    "\n",
    "html =driver.page_source\n",
    "soup = BeautifulSoup(html,'html.parser')\n",
    "\n",
    "sido_list_raw = driver.find_element_by_id(\"SIDO_NM0\")\n",
    "sido_name=[option.get_attribute('value') for option in sido_list_raw.find_elements_by_tag_name('option')]\n",
    "sido_name.remove('')\n",
    "sido_list_raw.send_keys(sido_name[0])\n",
    "\n",
    "gu_list_raw = driver.find_element_by_id(\"SIGUNGU_NM0\")\n",
    "gu_name=[option.get_attribute('value') for option in gu_list_raw.find_elements_by_tag_name('option')]\n",
    "gu_name.remove(\"\")\n",
    "gu_list_raw.send_keys(gu_name[17])\n"
   ]
  },
  {
   "cell_type": "code",
   "execution_count": 52,
   "metadata": {},
   "outputs": [],
   "source": [
    "def select_town(city_name):\n",
    "    \n",
    "    driver = webdriver.Chrome('./chromedriver')\n",
    "    driver.get(\"https://www.opinet.co.kr\")\n",
    "    time.sleep(2)\n",
    "    driver.get(\"https://www.opinet.co.kr/searRgSelect.do\")\n",
    "    \n",
    "    sido_list_raw = driver.find_element_by_id(\"SIDO_NM0\")\n",
    "    sido_name=[option.get_attribute('value') for option in sido_list_raw.find_elements_by_tag_name('option')]\n",
    "    sido_name.remove('')\n",
    "    sido_list_raw.send_keys(city_name)\n",
    "    time.sleep(2)\n",
    "\n",
    "    gu_list_raw = driver.find_element_by_id(\"SIGUNGU_NM0\")\n",
    "    gu_name=[option.get_attribute('value') for option in gu_list_raw.find_elements_by_tag_name('option')]\n",
    "    gu_name.remove('')\n",
    "    \n",
    "    return gu_name"
   ]
  },
  {
   "cell_type": "code",
   "execution_count": null,
   "metadata": {},
   "outputs": [],
   "source": [
    "def get_info_from_target_page(gu_name):\n",
    "    gu_name=name_list\n",
    "    for ls in name_list:    \n",
    "        gu_list_raw.send_keys(ls)\n",
    "        time.sleep()\n",
    "        html =driver.page_source\n",
    "        soup =BeautifulSoup(html,'html.parser')\n",
    "\n",
    "        df_source = soup.find_all('tbody')[0]\n",
    "        df_page = df_source.find_all('td','rlist')\n",
    "        df_price= df_source.find_all('td','price')\n",
    "\n",
    "        brand= get_brand(df_page)\n",
    "        isself= get_isself(df_page)\n",
    "        name=get_name(df_page)\n",
    "        price=get_price(df_price)\n",
    "        return pd.DataFrame({'brand':brand,'method':isself,'name':name,'price':price})"
   ]
  },
  {
   "cell_type": "code",
   "execution_count": 53,
   "metadata": {},
   "outputs": [
    {
     "output_type": "execute_result",
     "data": {
      "text/plain": [
       "['강서구',\n",
       " '금정구',\n",
       " '기장군',\n",
       " '남구',\n",
       " '동구',\n",
       " '동래구',\n",
       " '부산진구',\n",
       " '북구',\n",
       " '사상구',\n",
       " '사하구',\n",
       " '서구',\n",
       " '수영구',\n",
       " '연제구',\n",
       " '영도구',\n",
       " '중구',\n",
       " '해운대구']"
      ]
     },
     "metadata": {},
     "execution_count": 53
    }
   ],
   "source": [
    "# select_town('부산시')\n",
    "select_town('부산')"
   ]
  },
  {
   "cell_type": "code",
   "execution_count": 182,
   "metadata": {},
   "outputs": [],
   "source": [
    "def get_brand(df):\n",
    "    return [each.img['alt'] for each in df]\n",
    "    \n",
    "def get_isself(df):\n",
    "    tmp=[]\n",
    "    for each in df:\n",
    "        if each.span is None:\n",
    "            tmp.append('N')\n",
    "        else:\n",
    "            tmp.append('Y')\n",
    "    return tmp\n",
    "\n",
    "def get_name(df):\n",
    "    name=[]\n",
    "    for each in df:\n",
    "        candi = each.a.string\n",
    "        candi = candi.replace('\\n','')\n",
    "        candi = candi.replace('\\t','')\n",
    "        candi = candi.replace('.','')\n",
    "        name.append(candi)\n",
    "    return name\n",
    "    \n",
    "def get_price(df):\n",
    "    price=[]\n",
    "    for each in df:\n",
    "        if each.string is not None:\n",
    "            tmp=each.string\n",
    "            tmp = tmp.replace('\\n','')\n",
    "            tmp = tmp.replace('\\t','')\n",
    "            price.append(tmp)\n",
    "    return price\n",
    "\n",
    "def get_info_from_target_page(soup):\n",
    "        \n",
    "        gu_list_raw.send_keys(city_name)\n",
    "\n",
    "        html =driver.page_source\n",
    "        soup =BeautifulSoup(html,'html.parser')\n",
    "\n",
    "        df_source = soup.find_all('tbody')[0]\n",
    "        df_page = df_source.find_all('td','rlist')\n",
    "        df_price= df_source.find_all('td','price')\n",
    "\n",
    "        brand= get_brand(df_page)\n",
    "        isself= get_isself(df_page)\n",
    "        name=get_name(df_page)\n",
    "        price=get_price(df_price)\n",
    "        return pd.DataFrame({'brand':brand,'method':isself,'name':name,'price':price})"
   ]
  },
  {
   "cell_type": "code",
   "execution_count": 186,
   "metadata": {},
   "outputs": [
    {
     "output_type": "execute_result",
     "data": {
      "text/plain": [
       "     brand method       name price\n",
       "0   현대오일뱅크      Y  지에스이앤알 직영  1470\n",
       "1    GS칼텍스      Y      삼화주유소  1473\n",
       "2    SK에너지      Y    삼전셀프주유소  1473\n",
       "3    GS칼텍스      Y     아시아주유소  1473\n",
       "4   현대오일뱅크      Y      상아주유소  1483\n",
       "5    SK에너지      Y      방이주유소  1487\n",
       "6    SK에너지      N      대성주유소  1488\n",
       "7    GS칼텍스      Y  지에스칼텍스(주)  1489\n",
       "8    SK에너지      Y      완불주유소  1493\n",
       "9    SK에너지      Y     남성대주유소  1493\n",
       "10   SK에너지      Y   백제고분로주유소  1493\n",
       "11   S-OIL      Y    위례제일주유소  1493\n",
       "12  현대오일뱅크      Y  현대오일뱅크㈜직영  1494\n",
       "13   GS칼텍스      Y  지에스칼텍스(주)  1495\n",
       "14   S-OIL      Y   (주)잠실에너지  1497\n",
       "15  현대오일뱅크      N  제트라인DM주유소  1497\n",
       "16  현대오일뱅크      Y  (주)정직한주유소  1498\n",
       "17  현대오일뱅크      Y  현대오일뱅크㈜직영  1498\n",
       "18   GS칼텍스      Y  (주)삼표에너지   1498\n",
       "19   SK에너지      N   (주)유진주유소  1498\n",
       "20   GS칼텍스      Y  지에스칼텍스(주)  1499\n",
       "21  현대오일뱅크      Y  현대오일뱅크㈜직영  1508\n",
       "22  현대오일뱅크      N  (주)뉴명성산업   1509\n",
       "23   SK에너지      Y  한강에너지(주)퍼  1515\n",
       "24  현대오일뱅크      Y  현대오일뱅크㈜직영  1517\n",
       "25   GS칼텍스      N  대성석유(주)석촌  1518\n",
       "26   S-OIL      N  (주)퍼스트오일서  1518\n",
       "27   SK에너지      Y  (주)신화에너지   1519\n",
       "28   GS칼텍스      Y      송파주유소  1523\n",
       "29   GS칼텍스      N  (주)남경석유 세  1529\n",
       "30   S-OIL      N    송파알찬주유소  1698\n",
       "31   SK에너지      N  대신석유(주)진양  1728"
      ],
      "text/html": "<div>\n<style scoped>\n    .dataframe tbody tr th:only-of-type {\n        vertical-align: middle;\n    }\n\n    .dataframe tbody tr th {\n        vertical-align: top;\n    }\n\n    .dataframe thead th {\n        text-align: right;\n    }\n</style>\n<table border=\"1\" class=\"dataframe\">\n  <thead>\n    <tr style=\"text-align: right;\">\n      <th></th>\n      <th>brand</th>\n      <th>method</th>\n      <th>name</th>\n      <th>price</th>\n    </tr>\n  </thead>\n  <tbody>\n    <tr>\n      <th>0</th>\n      <td>현대오일뱅크</td>\n      <td>Y</td>\n      <td>지에스이앤알 직영</td>\n      <td>1470</td>\n    </tr>\n    <tr>\n      <th>1</th>\n      <td>GS칼텍스</td>\n      <td>Y</td>\n      <td>삼화주유소</td>\n      <td>1473</td>\n    </tr>\n    <tr>\n      <th>2</th>\n      <td>SK에너지</td>\n      <td>Y</td>\n      <td>삼전셀프주유소</td>\n      <td>1473</td>\n    </tr>\n    <tr>\n      <th>3</th>\n      <td>GS칼텍스</td>\n      <td>Y</td>\n      <td>아시아주유소</td>\n      <td>1473</td>\n    </tr>\n    <tr>\n      <th>4</th>\n      <td>현대오일뱅크</td>\n      <td>Y</td>\n      <td>상아주유소</td>\n      <td>1483</td>\n    </tr>\n    <tr>\n      <th>5</th>\n      <td>SK에너지</td>\n      <td>Y</td>\n      <td>방이주유소</td>\n      <td>1487</td>\n    </tr>\n    <tr>\n      <th>6</th>\n      <td>SK에너지</td>\n      <td>N</td>\n      <td>대성주유소</td>\n      <td>1488</td>\n    </tr>\n    <tr>\n      <th>7</th>\n      <td>GS칼텍스</td>\n      <td>Y</td>\n      <td>지에스칼텍스(주)</td>\n      <td>1489</td>\n    </tr>\n    <tr>\n      <th>8</th>\n      <td>SK에너지</td>\n      <td>Y</td>\n      <td>완불주유소</td>\n      <td>1493</td>\n    </tr>\n    <tr>\n      <th>9</th>\n      <td>SK에너지</td>\n      <td>Y</td>\n      <td>남성대주유소</td>\n      <td>1493</td>\n    </tr>\n    <tr>\n      <th>10</th>\n      <td>SK에너지</td>\n      <td>Y</td>\n      <td>백제고분로주유소</td>\n      <td>1493</td>\n    </tr>\n    <tr>\n      <th>11</th>\n      <td>S-OIL</td>\n      <td>Y</td>\n      <td>위례제일주유소</td>\n      <td>1493</td>\n    </tr>\n    <tr>\n      <th>12</th>\n      <td>현대오일뱅크</td>\n      <td>Y</td>\n      <td>현대오일뱅크㈜직영</td>\n      <td>1494</td>\n    </tr>\n    <tr>\n      <th>13</th>\n      <td>GS칼텍스</td>\n      <td>Y</td>\n      <td>지에스칼텍스(주)</td>\n      <td>1495</td>\n    </tr>\n    <tr>\n      <th>14</th>\n      <td>S-OIL</td>\n      <td>Y</td>\n      <td>(주)잠실에너지</td>\n      <td>1497</td>\n    </tr>\n    <tr>\n      <th>15</th>\n      <td>현대오일뱅크</td>\n      <td>N</td>\n      <td>제트라인DM주유소</td>\n      <td>1497</td>\n    </tr>\n    <tr>\n      <th>16</th>\n      <td>현대오일뱅크</td>\n      <td>Y</td>\n      <td>(주)정직한주유소</td>\n      <td>1498</td>\n    </tr>\n    <tr>\n      <th>17</th>\n      <td>현대오일뱅크</td>\n      <td>Y</td>\n      <td>현대오일뱅크㈜직영</td>\n      <td>1498</td>\n    </tr>\n    <tr>\n      <th>18</th>\n      <td>GS칼텍스</td>\n      <td>Y</td>\n      <td>(주)삼표에너지</td>\n      <td>1498</td>\n    </tr>\n    <tr>\n      <th>19</th>\n      <td>SK에너지</td>\n      <td>N</td>\n      <td>(주)유진주유소</td>\n      <td>1498</td>\n    </tr>\n    <tr>\n      <th>20</th>\n      <td>GS칼텍스</td>\n      <td>Y</td>\n      <td>지에스칼텍스(주)</td>\n      <td>1499</td>\n    </tr>\n    <tr>\n      <th>21</th>\n      <td>현대오일뱅크</td>\n      <td>Y</td>\n      <td>현대오일뱅크㈜직영</td>\n      <td>1508</td>\n    </tr>\n    <tr>\n      <th>22</th>\n      <td>현대오일뱅크</td>\n      <td>N</td>\n      <td>(주)뉴명성산업</td>\n      <td>1509</td>\n    </tr>\n    <tr>\n      <th>23</th>\n      <td>SK에너지</td>\n      <td>Y</td>\n      <td>한강에너지(주)퍼</td>\n      <td>1515</td>\n    </tr>\n    <tr>\n      <th>24</th>\n      <td>현대오일뱅크</td>\n      <td>Y</td>\n      <td>현대오일뱅크㈜직영</td>\n      <td>1517</td>\n    </tr>\n    <tr>\n      <th>25</th>\n      <td>GS칼텍스</td>\n      <td>N</td>\n      <td>대성석유(주)석촌</td>\n      <td>1518</td>\n    </tr>\n    <tr>\n      <th>26</th>\n      <td>S-OIL</td>\n      <td>N</td>\n      <td>(주)퍼스트오일서</td>\n      <td>1518</td>\n    </tr>\n    <tr>\n      <th>27</th>\n      <td>SK에너지</td>\n      <td>Y</td>\n      <td>(주)신화에너지</td>\n      <td>1519</td>\n    </tr>\n    <tr>\n      <th>28</th>\n      <td>GS칼텍스</td>\n      <td>Y</td>\n      <td>송파주유소</td>\n      <td>1523</td>\n    </tr>\n    <tr>\n      <th>29</th>\n      <td>GS칼텍스</td>\n      <td>N</td>\n      <td>(주)남경석유 세</td>\n      <td>1529</td>\n    </tr>\n    <tr>\n      <th>30</th>\n      <td>S-OIL</td>\n      <td>N</td>\n      <td>송파알찬주유소</td>\n      <td>1698</td>\n    </tr>\n    <tr>\n      <th>31</th>\n      <td>SK에너지</td>\n      <td>N</td>\n      <td>대신석유(주)진양</td>\n      <td>1728</td>\n    </tr>\n  </tbody>\n</table>\n</div>"
     },
     "metadata": {},
     "execution_count": 186
    }
   ],
   "source": [
    "soup"
   ]
  },
  {
   "cell_type": "code",
   "execution_count": null,
   "metadata": {},
   "outputs": [],
   "source": []
  },
  {
   "cell_type": "code",
   "execution_count": 34,
   "metadata": {},
   "outputs": [],
   "source": [
    "driver = webdriver.Chrome('./chromedriver')\n",
    "driver.get(\"https://www.opinet.co.kr\")\n",
    "time.sleep(2)\n",
    "driver.get(\"https://www.opinet.co.kr/searRgSelect.do\")\n",
    "\n",
    "\n",
    "html =driver.page_source\n",
    "soup = BeautifulSoup(html,'html.parser')\n",
    "\n",
    "sido_list_raw = driver.find_element_by_id(\"SIDO_NM0\")\n",
    "sido_name=[option.get_attribute('value') for option in sido_list_raw.find_elements_by_tag_name('option')]\n",
    "sido_name.remove('')\n",
    "sido_list_raw.send_keys(sido_name[0])\n",
    "\n",
    "gu_list_raw = driver.find_element_by_id(\"SIGUNGU_NM0\")\n",
    "gu_name=[option.get_attribute('value') for option in gu_list_raw.find_elements_by_tag_name('option')]\n",
    "gu_name.remove(\"\")\n",
    "gu_list_raw.send_keys(gu_name[17])\n"
   ]
  },
  {
   "cell_type": "code",
   "execution_count": 199,
   "metadata": {},
   "outputs": [
    {
     "output_type": "error",
     "ename": "KeyboardInterrupt",
     "evalue": "",
     "traceback": [
      "\u001b[0;31m---------------------------------------------------------------------------\u001b[0m",
      "\u001b[0;31mKeyboardInterrupt\u001b[0m                         Traceback (most recent call last)",
      "\u001b[0;32m<ipython-input-199-05378d8e1d34>\u001b[0m in \u001b[0;36m<module>\u001b[0;34m\u001b[0m\n\u001b[1;32m      4\u001b[0m     \u001b[0mtime\u001b[0m\u001b[0;34m.\u001b[0m\u001b[0msleep\u001b[0m\u001b[0;34m(\u001b[0m\u001b[0;36m2\u001b[0m\u001b[0;34m)\u001b[0m\u001b[0;34m\u001b[0m\u001b[0;34m\u001b[0m\u001b[0m\n\u001b[1;32m      5\u001b[0m     \u001b[0melement\u001b[0m \u001b[0;34m=\u001b[0m \u001b[0mdriver\u001b[0m\u001b[0;34m.\u001b[0m\u001b[0mfind_element_by_id\u001b[0m\u001b[0;34m(\u001b[0m\u001b[0;34m\"SIGUNGU_NM0\"\u001b[0m\u001b[0;34m)\u001b[0m\u001b[0;34m\u001b[0m\u001b[0;34m\u001b[0m\u001b[0m\n\u001b[0;32m----> 6\u001b[0;31m     \u001b[0melement\u001b[0m\u001b[0;34m.\u001b[0m\u001b[0msend_keys\u001b[0m\u001b[0;34m(\u001b[0m\u001b[0mgu_name\u001b[0m\u001b[0;34m)\u001b[0m\u001b[0;34m\u001b[0m\u001b[0;34m\u001b[0m\u001b[0m\n\u001b[0m\u001b[1;32m      7\u001b[0m     \u001b[0mtime\u001b[0m\u001b[0;34m.\u001b[0m\u001b[0msleep\u001b[0m\u001b[0;34m(\u001b[0m\u001b[0;36m2\u001b[0m\u001b[0;34m)\u001b[0m\u001b[0;34m\u001b[0m\u001b[0;34m\u001b[0m\u001b[0m\n\u001b[1;32m      8\u001b[0m     \u001b[0mresult\u001b[0m\u001b[0;34m.\u001b[0m\u001b[0mappend\u001b[0m\u001b[0;34m(\u001b[0m\u001b[0melement\u001b[0m\u001b[0;34m)\u001b[0m\u001b[0;34m\u001b[0m\u001b[0;34m\u001b[0m\u001b[0m\n",
      "\u001b[0;32m~/opt/anaconda3/lib/python3.8/site-packages/selenium/webdriver/remote/webelement.py\u001b[0m in \u001b[0;36msend_keys\u001b[0;34m(self, *value)\u001b[0m\n\u001b[1;32m    475\u001b[0m                 \u001b[0mvalue\u001b[0m \u001b[0;34m=\u001b[0m \u001b[0mself\u001b[0m\u001b[0;34m.\u001b[0m\u001b[0m_upload\u001b[0m\u001b[0;34m(\u001b[0m\u001b[0mlocal_file\u001b[0m\u001b[0;34m)\u001b[0m\u001b[0;34m\u001b[0m\u001b[0;34m\u001b[0m\u001b[0m\n\u001b[1;32m    476\u001b[0m \u001b[0;34m\u001b[0m\u001b[0m\n\u001b[0;32m--> 477\u001b[0;31m         self._execute(Command.SEND_KEYS_TO_ELEMENT,\n\u001b[0m\u001b[1;32m    478\u001b[0m                       {'text': \"\".join(keys_to_typing(value)),\n\u001b[1;32m    479\u001b[0m                        'value': keys_to_typing(value)})\n",
      "\u001b[0;32m~/opt/anaconda3/lib/python3.8/site-packages/selenium/webdriver/remote/webelement.py\u001b[0m in \u001b[0;36m_execute\u001b[0;34m(self, command, params)\u001b[0m\n\u001b[1;32m    631\u001b[0m             \u001b[0mparams\u001b[0m \u001b[0;34m=\u001b[0m \u001b[0;34m{\u001b[0m\u001b[0;34m}\u001b[0m\u001b[0;34m\u001b[0m\u001b[0;34m\u001b[0m\u001b[0m\n\u001b[1;32m    632\u001b[0m         \u001b[0mparams\u001b[0m\u001b[0;34m[\u001b[0m\u001b[0;34m'id'\u001b[0m\u001b[0;34m]\u001b[0m \u001b[0;34m=\u001b[0m \u001b[0mself\u001b[0m\u001b[0;34m.\u001b[0m\u001b[0m_id\u001b[0m\u001b[0;34m\u001b[0m\u001b[0;34m\u001b[0m\u001b[0m\n\u001b[0;32m--> 633\u001b[0;31m         \u001b[0;32mreturn\u001b[0m \u001b[0mself\u001b[0m\u001b[0;34m.\u001b[0m\u001b[0m_parent\u001b[0m\u001b[0;34m.\u001b[0m\u001b[0mexecute\u001b[0m\u001b[0;34m(\u001b[0m\u001b[0mcommand\u001b[0m\u001b[0;34m,\u001b[0m \u001b[0mparams\u001b[0m\u001b[0;34m)\u001b[0m\u001b[0;34m\u001b[0m\u001b[0;34m\u001b[0m\u001b[0m\n\u001b[0m\u001b[1;32m    634\u001b[0m \u001b[0;34m\u001b[0m\u001b[0m\n\u001b[1;32m    635\u001b[0m     \u001b[0;32mdef\u001b[0m \u001b[0mfind_element\u001b[0m\u001b[0;34m(\u001b[0m\u001b[0mself\u001b[0m\u001b[0;34m,\u001b[0m \u001b[0mby\u001b[0m\u001b[0;34m=\u001b[0m\u001b[0mBy\u001b[0m\u001b[0;34m.\u001b[0m\u001b[0mID\u001b[0m\u001b[0;34m,\u001b[0m \u001b[0mvalue\u001b[0m\u001b[0;34m=\u001b[0m\u001b[0;32mNone\u001b[0m\u001b[0;34m)\u001b[0m\u001b[0;34m:\u001b[0m\u001b[0;34m\u001b[0m\u001b[0;34m\u001b[0m\u001b[0m\n",
      "\u001b[0;32m~/opt/anaconda3/lib/python3.8/site-packages/selenium/webdriver/remote/webdriver.py\u001b[0m in \u001b[0;36mexecute\u001b[0;34m(self, driver_command, params)\u001b[0m\n\u001b[1;32m    317\u001b[0m \u001b[0;34m\u001b[0m\u001b[0m\n\u001b[1;32m    318\u001b[0m         \u001b[0mparams\u001b[0m \u001b[0;34m=\u001b[0m \u001b[0mself\u001b[0m\u001b[0;34m.\u001b[0m\u001b[0m_wrap_value\u001b[0m\u001b[0;34m(\u001b[0m\u001b[0mparams\u001b[0m\u001b[0;34m)\u001b[0m\u001b[0;34m\u001b[0m\u001b[0;34m\u001b[0m\u001b[0m\n\u001b[0;32m--> 319\u001b[0;31m         \u001b[0mresponse\u001b[0m \u001b[0;34m=\u001b[0m \u001b[0mself\u001b[0m\u001b[0;34m.\u001b[0m\u001b[0mcommand_executor\u001b[0m\u001b[0;34m.\u001b[0m\u001b[0mexecute\u001b[0m\u001b[0;34m(\u001b[0m\u001b[0mdriver_command\u001b[0m\u001b[0;34m,\u001b[0m \u001b[0mparams\u001b[0m\u001b[0;34m)\u001b[0m\u001b[0;34m\u001b[0m\u001b[0;34m\u001b[0m\u001b[0m\n\u001b[0m\u001b[1;32m    320\u001b[0m         \u001b[0;32mif\u001b[0m \u001b[0mresponse\u001b[0m\u001b[0;34m:\u001b[0m\u001b[0;34m\u001b[0m\u001b[0;34m\u001b[0m\u001b[0m\n\u001b[1;32m    321\u001b[0m             \u001b[0mself\u001b[0m\u001b[0;34m.\u001b[0m\u001b[0merror_handler\u001b[0m\u001b[0;34m.\u001b[0m\u001b[0mcheck_response\u001b[0m\u001b[0;34m(\u001b[0m\u001b[0mresponse\u001b[0m\u001b[0;34m)\u001b[0m\u001b[0;34m\u001b[0m\u001b[0;34m\u001b[0m\u001b[0m\n",
      "\u001b[0;32m~/opt/anaconda3/lib/python3.8/site-packages/selenium/webdriver/remote/remote_connection.py\u001b[0m in \u001b[0;36mexecute\u001b[0;34m(self, command, params)\u001b[0m\n\u001b[1;32m    372\u001b[0m         \u001b[0mdata\u001b[0m \u001b[0;34m=\u001b[0m \u001b[0mutils\u001b[0m\u001b[0;34m.\u001b[0m\u001b[0mdump_json\u001b[0m\u001b[0;34m(\u001b[0m\u001b[0mparams\u001b[0m\u001b[0;34m)\u001b[0m\u001b[0;34m\u001b[0m\u001b[0;34m\u001b[0m\u001b[0m\n\u001b[1;32m    373\u001b[0m         \u001b[0murl\u001b[0m \u001b[0;34m=\u001b[0m \u001b[0;34m'%s%s'\u001b[0m \u001b[0;34m%\u001b[0m \u001b[0;34m(\u001b[0m\u001b[0mself\u001b[0m\u001b[0;34m.\u001b[0m\u001b[0m_url\u001b[0m\u001b[0;34m,\u001b[0m \u001b[0mpath\u001b[0m\u001b[0;34m)\u001b[0m\u001b[0;34m\u001b[0m\u001b[0;34m\u001b[0m\u001b[0m\n\u001b[0;32m--> 374\u001b[0;31m         \u001b[0;32mreturn\u001b[0m \u001b[0mself\u001b[0m\u001b[0;34m.\u001b[0m\u001b[0m_request\u001b[0m\u001b[0;34m(\u001b[0m\u001b[0mcommand_info\u001b[0m\u001b[0;34m[\u001b[0m\u001b[0;36m0\u001b[0m\u001b[0;34m]\u001b[0m\u001b[0;34m,\u001b[0m \u001b[0murl\u001b[0m\u001b[0;34m,\u001b[0m \u001b[0mbody\u001b[0m\u001b[0;34m=\u001b[0m\u001b[0mdata\u001b[0m\u001b[0;34m)\u001b[0m\u001b[0;34m\u001b[0m\u001b[0;34m\u001b[0m\u001b[0m\n\u001b[0m\u001b[1;32m    375\u001b[0m \u001b[0;34m\u001b[0m\u001b[0m\n\u001b[1;32m    376\u001b[0m     \u001b[0;32mdef\u001b[0m \u001b[0m_request\u001b[0m\u001b[0;34m(\u001b[0m\u001b[0mself\u001b[0m\u001b[0;34m,\u001b[0m \u001b[0mmethod\u001b[0m\u001b[0;34m,\u001b[0m \u001b[0murl\u001b[0m\u001b[0;34m,\u001b[0m \u001b[0mbody\u001b[0m\u001b[0;34m=\u001b[0m\u001b[0;32mNone\u001b[0m\u001b[0;34m)\u001b[0m\u001b[0;34m:\u001b[0m\u001b[0;34m\u001b[0m\u001b[0;34m\u001b[0m\u001b[0m\n",
      "\u001b[0;32m~/opt/anaconda3/lib/python3.8/site-packages/selenium/webdriver/remote/remote_connection.py\u001b[0m in \u001b[0;36m_request\u001b[0;34m(self, method, url, body)\u001b[0m\n\u001b[1;32m    395\u001b[0m \u001b[0;34m\u001b[0m\u001b[0m\n\u001b[1;32m    396\u001b[0m         \u001b[0;32mif\u001b[0m \u001b[0mself\u001b[0m\u001b[0;34m.\u001b[0m\u001b[0mkeep_alive\u001b[0m\u001b[0;34m:\u001b[0m\u001b[0;34m\u001b[0m\u001b[0;34m\u001b[0m\u001b[0m\n\u001b[0;32m--> 397\u001b[0;31m             \u001b[0mresp\u001b[0m \u001b[0;34m=\u001b[0m \u001b[0mself\u001b[0m\u001b[0;34m.\u001b[0m\u001b[0m_conn\u001b[0m\u001b[0;34m.\u001b[0m\u001b[0mrequest\u001b[0m\u001b[0;34m(\u001b[0m\u001b[0mmethod\u001b[0m\u001b[0;34m,\u001b[0m \u001b[0murl\u001b[0m\u001b[0;34m,\u001b[0m \u001b[0mbody\u001b[0m\u001b[0;34m=\u001b[0m\u001b[0mbody\u001b[0m\u001b[0;34m,\u001b[0m \u001b[0mheaders\u001b[0m\u001b[0;34m=\u001b[0m\u001b[0mheaders\u001b[0m\u001b[0;34m)\u001b[0m\u001b[0;34m\u001b[0m\u001b[0;34m\u001b[0m\u001b[0m\n\u001b[0m\u001b[1;32m    398\u001b[0m \u001b[0;34m\u001b[0m\u001b[0m\n\u001b[1;32m    399\u001b[0m             \u001b[0mstatuscode\u001b[0m \u001b[0;34m=\u001b[0m \u001b[0mresp\u001b[0m\u001b[0;34m.\u001b[0m\u001b[0mstatus\u001b[0m\u001b[0;34m\u001b[0m\u001b[0;34m\u001b[0m\u001b[0m\n",
      "\u001b[0;32m~/opt/anaconda3/lib/python3.8/site-packages/urllib3/request.py\u001b[0m in \u001b[0;36mrequest\u001b[0;34m(self, method, url, fields, headers, **urlopen_kw)\u001b[0m\n\u001b[1;32m     77\u001b[0m             )\n\u001b[1;32m     78\u001b[0m         \u001b[0;32melse\u001b[0m\u001b[0;34m:\u001b[0m\u001b[0;34m\u001b[0m\u001b[0;34m\u001b[0m\u001b[0m\n\u001b[0;32m---> 79\u001b[0;31m             return self.request_encode_body(\n\u001b[0m\u001b[1;32m     80\u001b[0m                 \u001b[0mmethod\u001b[0m\u001b[0;34m,\u001b[0m \u001b[0murl\u001b[0m\u001b[0;34m,\u001b[0m \u001b[0mfields\u001b[0m\u001b[0;34m=\u001b[0m\u001b[0mfields\u001b[0m\u001b[0;34m,\u001b[0m \u001b[0mheaders\u001b[0m\u001b[0;34m=\u001b[0m\u001b[0mheaders\u001b[0m\u001b[0;34m,\u001b[0m \u001b[0;34m**\u001b[0m\u001b[0murlopen_kw\u001b[0m\u001b[0;34m\u001b[0m\u001b[0;34m\u001b[0m\u001b[0m\n\u001b[1;32m     81\u001b[0m             )\n",
      "\u001b[0;32m~/opt/anaconda3/lib/python3.8/site-packages/urllib3/request.py\u001b[0m in \u001b[0;36mrequest_encode_body\u001b[0;34m(self, method, url, fields, headers, encode_multipart, multipart_boundary, **urlopen_kw)\u001b[0m\n\u001b[1;32m    169\u001b[0m         \u001b[0mextra_kw\u001b[0m\u001b[0;34m.\u001b[0m\u001b[0mupdate\u001b[0m\u001b[0;34m(\u001b[0m\u001b[0murlopen_kw\u001b[0m\u001b[0;34m)\u001b[0m\u001b[0;34m\u001b[0m\u001b[0;34m\u001b[0m\u001b[0m\n\u001b[1;32m    170\u001b[0m \u001b[0;34m\u001b[0m\u001b[0m\n\u001b[0;32m--> 171\u001b[0;31m         \u001b[0;32mreturn\u001b[0m \u001b[0mself\u001b[0m\u001b[0;34m.\u001b[0m\u001b[0murlopen\u001b[0m\u001b[0;34m(\u001b[0m\u001b[0mmethod\u001b[0m\u001b[0;34m,\u001b[0m \u001b[0murl\u001b[0m\u001b[0;34m,\u001b[0m \u001b[0;34m**\u001b[0m\u001b[0mextra_kw\u001b[0m\u001b[0;34m)\u001b[0m\u001b[0;34m\u001b[0m\u001b[0;34m\u001b[0m\u001b[0m\n\u001b[0m",
      "\u001b[0;32m~/opt/anaconda3/lib/python3.8/site-packages/urllib3/poolmanager.py\u001b[0m in \u001b[0;36murlopen\u001b[0;34m(self, method, url, redirect, **kw)\u001b[0m\n\u001b[1;32m    334\u001b[0m             \u001b[0mresponse\u001b[0m \u001b[0;34m=\u001b[0m \u001b[0mconn\u001b[0m\u001b[0;34m.\u001b[0m\u001b[0murlopen\u001b[0m\u001b[0;34m(\u001b[0m\u001b[0mmethod\u001b[0m\u001b[0;34m,\u001b[0m \u001b[0murl\u001b[0m\u001b[0;34m,\u001b[0m \u001b[0;34m**\u001b[0m\u001b[0mkw\u001b[0m\u001b[0;34m)\u001b[0m\u001b[0;34m\u001b[0m\u001b[0;34m\u001b[0m\u001b[0m\n\u001b[1;32m    335\u001b[0m         \u001b[0;32melse\u001b[0m\u001b[0;34m:\u001b[0m\u001b[0;34m\u001b[0m\u001b[0;34m\u001b[0m\u001b[0m\n\u001b[0;32m--> 336\u001b[0;31m             \u001b[0mresponse\u001b[0m \u001b[0;34m=\u001b[0m \u001b[0mconn\u001b[0m\u001b[0;34m.\u001b[0m\u001b[0murlopen\u001b[0m\u001b[0;34m(\u001b[0m\u001b[0mmethod\u001b[0m\u001b[0;34m,\u001b[0m \u001b[0mu\u001b[0m\u001b[0;34m.\u001b[0m\u001b[0mrequest_uri\u001b[0m\u001b[0;34m,\u001b[0m \u001b[0;34m**\u001b[0m\u001b[0mkw\u001b[0m\u001b[0;34m)\u001b[0m\u001b[0;34m\u001b[0m\u001b[0;34m\u001b[0m\u001b[0m\n\u001b[0m\u001b[1;32m    337\u001b[0m \u001b[0;34m\u001b[0m\u001b[0m\n\u001b[1;32m    338\u001b[0m         \u001b[0mredirect_location\u001b[0m \u001b[0;34m=\u001b[0m \u001b[0mredirect\u001b[0m \u001b[0;32mand\u001b[0m \u001b[0mresponse\u001b[0m\u001b[0;34m.\u001b[0m\u001b[0mget_redirect_location\u001b[0m\u001b[0;34m(\u001b[0m\u001b[0;34m)\u001b[0m\u001b[0;34m\u001b[0m\u001b[0;34m\u001b[0m\u001b[0m\n",
      "\u001b[0;32m~/opt/anaconda3/lib/python3.8/site-packages/urllib3/connectionpool.py\u001b[0m in \u001b[0;36murlopen\u001b[0;34m(self, method, url, body, headers, retries, redirect, assert_same_host, timeout, pool_timeout, release_conn, chunked, body_pos, **response_kw)\u001b[0m\n\u001b[1;32m    668\u001b[0m \u001b[0;34m\u001b[0m\u001b[0m\n\u001b[1;32m    669\u001b[0m             \u001b[0;31m# Make the request on the httplib connection object.\u001b[0m\u001b[0;34m\u001b[0m\u001b[0;34m\u001b[0m\u001b[0;34m\u001b[0m\u001b[0m\n\u001b[0;32m--> 670\u001b[0;31m             httplib_response = self._make_request(\n\u001b[0m\u001b[1;32m    671\u001b[0m                 \u001b[0mconn\u001b[0m\u001b[0;34m,\u001b[0m\u001b[0;34m\u001b[0m\u001b[0;34m\u001b[0m\u001b[0m\n\u001b[1;32m    672\u001b[0m                 \u001b[0mmethod\u001b[0m\u001b[0;34m,\u001b[0m\u001b[0;34m\u001b[0m\u001b[0;34m\u001b[0m\u001b[0m\n",
      "\u001b[0;32m~/opt/anaconda3/lib/python3.8/site-packages/urllib3/connectionpool.py\u001b[0m in \u001b[0;36m_make_request\u001b[0;34m(self, conn, method, url, timeout, chunked, **httplib_request_kw)\u001b[0m\n\u001b[1;32m    424\u001b[0m                     \u001b[0;31m# Python 3 (including for exceptions like SystemExit).\u001b[0m\u001b[0;34m\u001b[0m\u001b[0;34m\u001b[0m\u001b[0;34m\u001b[0m\u001b[0m\n\u001b[1;32m    425\u001b[0m                     \u001b[0;31m# Otherwise it looks like a bug in the code.\u001b[0m\u001b[0;34m\u001b[0m\u001b[0;34m\u001b[0m\u001b[0;34m\u001b[0m\u001b[0m\n\u001b[0;32m--> 426\u001b[0;31m                     \u001b[0msix\u001b[0m\u001b[0;34m.\u001b[0m\u001b[0mraise_from\u001b[0m\u001b[0;34m(\u001b[0m\u001b[0me\u001b[0m\u001b[0;34m,\u001b[0m \u001b[0;32mNone\u001b[0m\u001b[0;34m)\u001b[0m\u001b[0;34m\u001b[0m\u001b[0;34m\u001b[0m\u001b[0m\n\u001b[0m\u001b[1;32m    427\u001b[0m         \u001b[0;32mexcept\u001b[0m \u001b[0;34m(\u001b[0m\u001b[0mSocketTimeout\u001b[0m\u001b[0;34m,\u001b[0m \u001b[0mBaseSSLError\u001b[0m\u001b[0;34m,\u001b[0m \u001b[0mSocketError\u001b[0m\u001b[0;34m)\u001b[0m \u001b[0;32mas\u001b[0m \u001b[0me\u001b[0m\u001b[0;34m:\u001b[0m\u001b[0;34m\u001b[0m\u001b[0;34m\u001b[0m\u001b[0m\n\u001b[1;32m    428\u001b[0m             \u001b[0mself\u001b[0m\u001b[0;34m.\u001b[0m\u001b[0m_raise_timeout\u001b[0m\u001b[0;34m(\u001b[0m\u001b[0merr\u001b[0m\u001b[0;34m=\u001b[0m\u001b[0me\u001b[0m\u001b[0;34m,\u001b[0m \u001b[0murl\u001b[0m\u001b[0;34m=\u001b[0m\u001b[0murl\u001b[0m\u001b[0;34m,\u001b[0m \u001b[0mtimeout_value\u001b[0m\u001b[0;34m=\u001b[0m\u001b[0mread_timeout\u001b[0m\u001b[0;34m)\u001b[0m\u001b[0;34m\u001b[0m\u001b[0;34m\u001b[0m\u001b[0m\n",
      "\u001b[0;32m~/opt/anaconda3/lib/python3.8/site-packages/urllib3/packages/six.py\u001b[0m in \u001b[0;36mraise_from\u001b[0;34m(value, from_value)\u001b[0m\n",
      "\u001b[0;32m~/opt/anaconda3/lib/python3.8/site-packages/urllib3/connectionpool.py\u001b[0m in \u001b[0;36m_make_request\u001b[0;34m(self, conn, method, url, timeout, chunked, **httplib_request_kw)\u001b[0m\n\u001b[1;32m    419\u001b[0m                 \u001b[0;31m# Python 3\u001b[0m\u001b[0;34m\u001b[0m\u001b[0;34m\u001b[0m\u001b[0;34m\u001b[0m\u001b[0m\n\u001b[1;32m    420\u001b[0m                 \u001b[0;32mtry\u001b[0m\u001b[0;34m:\u001b[0m\u001b[0;34m\u001b[0m\u001b[0;34m\u001b[0m\u001b[0m\n\u001b[0;32m--> 421\u001b[0;31m                     \u001b[0mhttplib_response\u001b[0m \u001b[0;34m=\u001b[0m \u001b[0mconn\u001b[0m\u001b[0;34m.\u001b[0m\u001b[0mgetresponse\u001b[0m\u001b[0;34m(\u001b[0m\u001b[0;34m)\u001b[0m\u001b[0;34m\u001b[0m\u001b[0;34m\u001b[0m\u001b[0m\n\u001b[0m\u001b[1;32m    422\u001b[0m                 \u001b[0;32mexcept\u001b[0m \u001b[0mBaseException\u001b[0m \u001b[0;32mas\u001b[0m \u001b[0me\u001b[0m\u001b[0;34m:\u001b[0m\u001b[0;34m\u001b[0m\u001b[0;34m\u001b[0m\u001b[0m\n\u001b[1;32m    423\u001b[0m                     \u001b[0;31m# Remove the TypeError from the exception chain in\u001b[0m\u001b[0;34m\u001b[0m\u001b[0;34m\u001b[0m\u001b[0;34m\u001b[0m\u001b[0m\n",
      "\u001b[0;32m~/opt/anaconda3/lib/python3.8/http/client.py\u001b[0m in \u001b[0;36mgetresponse\u001b[0;34m(self)\u001b[0m\n\u001b[1;32m   1345\u001b[0m         \u001b[0;32mtry\u001b[0m\u001b[0;34m:\u001b[0m\u001b[0;34m\u001b[0m\u001b[0;34m\u001b[0m\u001b[0m\n\u001b[1;32m   1346\u001b[0m             \u001b[0;32mtry\u001b[0m\u001b[0;34m:\u001b[0m\u001b[0;34m\u001b[0m\u001b[0;34m\u001b[0m\u001b[0m\n\u001b[0;32m-> 1347\u001b[0;31m                 \u001b[0mresponse\u001b[0m\u001b[0;34m.\u001b[0m\u001b[0mbegin\u001b[0m\u001b[0;34m(\u001b[0m\u001b[0;34m)\u001b[0m\u001b[0;34m\u001b[0m\u001b[0;34m\u001b[0m\u001b[0m\n\u001b[0m\u001b[1;32m   1348\u001b[0m             \u001b[0;32mexcept\u001b[0m \u001b[0mConnectionError\u001b[0m\u001b[0;34m:\u001b[0m\u001b[0;34m\u001b[0m\u001b[0;34m\u001b[0m\u001b[0m\n\u001b[1;32m   1349\u001b[0m                 \u001b[0mself\u001b[0m\u001b[0;34m.\u001b[0m\u001b[0mclose\u001b[0m\u001b[0;34m(\u001b[0m\u001b[0;34m)\u001b[0m\u001b[0;34m\u001b[0m\u001b[0;34m\u001b[0m\u001b[0m\n",
      "\u001b[0;32m~/opt/anaconda3/lib/python3.8/http/client.py\u001b[0m in \u001b[0;36mbegin\u001b[0;34m(self)\u001b[0m\n\u001b[1;32m    305\u001b[0m         \u001b[0;31m# read until we get a non-100 response\u001b[0m\u001b[0;34m\u001b[0m\u001b[0;34m\u001b[0m\u001b[0;34m\u001b[0m\u001b[0m\n\u001b[1;32m    306\u001b[0m         \u001b[0;32mwhile\u001b[0m \u001b[0;32mTrue\u001b[0m\u001b[0;34m:\u001b[0m\u001b[0;34m\u001b[0m\u001b[0;34m\u001b[0m\u001b[0m\n\u001b[0;32m--> 307\u001b[0;31m             \u001b[0mversion\u001b[0m\u001b[0;34m,\u001b[0m \u001b[0mstatus\u001b[0m\u001b[0;34m,\u001b[0m \u001b[0mreason\u001b[0m \u001b[0;34m=\u001b[0m \u001b[0mself\u001b[0m\u001b[0;34m.\u001b[0m\u001b[0m_read_status\u001b[0m\u001b[0;34m(\u001b[0m\u001b[0;34m)\u001b[0m\u001b[0;34m\u001b[0m\u001b[0;34m\u001b[0m\u001b[0m\n\u001b[0m\u001b[1;32m    308\u001b[0m             \u001b[0;32mif\u001b[0m \u001b[0mstatus\u001b[0m \u001b[0;34m!=\u001b[0m \u001b[0mCONTINUE\u001b[0m\u001b[0;34m:\u001b[0m\u001b[0;34m\u001b[0m\u001b[0;34m\u001b[0m\u001b[0m\n\u001b[1;32m    309\u001b[0m                 \u001b[0;32mbreak\u001b[0m\u001b[0;34m\u001b[0m\u001b[0;34m\u001b[0m\u001b[0m\n",
      "\u001b[0;32m~/opt/anaconda3/lib/python3.8/http/client.py\u001b[0m in \u001b[0;36m_read_status\u001b[0;34m(self)\u001b[0m\n\u001b[1;32m    266\u001b[0m \u001b[0;34m\u001b[0m\u001b[0m\n\u001b[1;32m    267\u001b[0m     \u001b[0;32mdef\u001b[0m \u001b[0m_read_status\u001b[0m\u001b[0;34m(\u001b[0m\u001b[0mself\u001b[0m\u001b[0;34m)\u001b[0m\u001b[0;34m:\u001b[0m\u001b[0;34m\u001b[0m\u001b[0;34m\u001b[0m\u001b[0m\n\u001b[0;32m--> 268\u001b[0;31m         \u001b[0mline\u001b[0m \u001b[0;34m=\u001b[0m \u001b[0mstr\u001b[0m\u001b[0;34m(\u001b[0m\u001b[0mself\u001b[0m\u001b[0;34m.\u001b[0m\u001b[0mfp\u001b[0m\u001b[0;34m.\u001b[0m\u001b[0mreadline\u001b[0m\u001b[0;34m(\u001b[0m\u001b[0m_MAXLINE\u001b[0m \u001b[0;34m+\u001b[0m \u001b[0;36m1\u001b[0m\u001b[0;34m)\u001b[0m\u001b[0;34m,\u001b[0m \u001b[0;34m\"iso-8859-1\"\u001b[0m\u001b[0;34m)\u001b[0m\u001b[0;34m\u001b[0m\u001b[0;34m\u001b[0m\u001b[0m\n\u001b[0m\u001b[1;32m    269\u001b[0m         \u001b[0;32mif\u001b[0m \u001b[0mlen\u001b[0m\u001b[0;34m(\u001b[0m\u001b[0mline\u001b[0m\u001b[0;34m)\u001b[0m \u001b[0;34m>\u001b[0m \u001b[0m_MAXLINE\u001b[0m\u001b[0;34m:\u001b[0m\u001b[0;34m\u001b[0m\u001b[0;34m\u001b[0m\u001b[0m\n\u001b[1;32m    270\u001b[0m             \u001b[0;32mraise\u001b[0m \u001b[0mLineTooLong\u001b[0m\u001b[0;34m(\u001b[0m\u001b[0;34m\"status line\"\u001b[0m\u001b[0;34m)\u001b[0m\u001b[0;34m\u001b[0m\u001b[0;34m\u001b[0m\u001b[0m\n",
      "\u001b[0;32m~/opt/anaconda3/lib/python3.8/socket.py\u001b[0m in \u001b[0;36mreadinto\u001b[0;34m(self, b)\u001b[0m\n\u001b[1;32m    667\u001b[0m         \u001b[0;32mwhile\u001b[0m \u001b[0;32mTrue\u001b[0m\u001b[0;34m:\u001b[0m\u001b[0;34m\u001b[0m\u001b[0;34m\u001b[0m\u001b[0m\n\u001b[1;32m    668\u001b[0m             \u001b[0;32mtry\u001b[0m\u001b[0;34m:\u001b[0m\u001b[0;34m\u001b[0m\u001b[0;34m\u001b[0m\u001b[0m\n\u001b[0;32m--> 669\u001b[0;31m                 \u001b[0;32mreturn\u001b[0m \u001b[0mself\u001b[0m\u001b[0;34m.\u001b[0m\u001b[0m_sock\u001b[0m\u001b[0;34m.\u001b[0m\u001b[0mrecv_into\u001b[0m\u001b[0;34m(\u001b[0m\u001b[0mb\u001b[0m\u001b[0;34m)\u001b[0m\u001b[0;34m\u001b[0m\u001b[0;34m\u001b[0m\u001b[0m\n\u001b[0m\u001b[1;32m    670\u001b[0m             \u001b[0;32mexcept\u001b[0m \u001b[0mtimeout\u001b[0m\u001b[0;34m:\u001b[0m\u001b[0;34m\u001b[0m\u001b[0;34m\u001b[0m\u001b[0m\n\u001b[1;32m    671\u001b[0m                 \u001b[0mself\u001b[0m\u001b[0;34m.\u001b[0m\u001b[0m_timeout_occurred\u001b[0m \u001b[0;34m=\u001b[0m \u001b[0;32mTrue\u001b[0m\u001b[0;34m\u001b[0m\u001b[0;34m\u001b[0m\u001b[0m\n",
      "\u001b[0;31mKeyboardInterrupt\u001b[0m: "
     ]
    }
   ],
   "source": [
    "import time\n",
    "result=[]\n",
    "for gu in gu_name:\n",
    "    time.sleep(2)\n",
    "    element = driver.find_element_by_id(\"SIGUNGU_NM0\")\n",
    "    element.send_keys(gu_name)\n",
    "    time.sleep(2)\n",
    "    result.append(element)\n"
   ]
  },
  {
   "cell_type": "code",
   "execution_count": 196,
   "metadata": {},
   "outputs": [
    {
     "output_type": "execute_result",
     "data": {
      "text/plain": [
       "[]"
      ]
     },
     "metadata": {},
     "execution_count": 196
    }
   ],
   "source": [
    "result"
   ]
  },
  {
   "cell_type": "code",
   "execution_count": 191,
   "metadata": {},
   "outputs": [
    {
     "output_type": "error",
     "ename": "TypeError",
     "evalue": "get_info_from_target_page() takes 1 positional argument but 2 were given",
     "traceback": [
      "\u001b[0;31m---------------------------------------------------------------------------\u001b[0m",
      "\u001b[0;31mTypeError\u001b[0m                                 Traceback (most recent call last)",
      "\u001b[0;32m<ipython-input-191-2aaeb26b9c6b>\u001b[0m in \u001b[0;36m<module>\u001b[0;34m\u001b[0m\n\u001b[1;32m      7\u001b[0m     \u001b[0melement\u001b[0m\u001b[0;34m.\u001b[0m\u001b[0msend_keys\u001b[0m\u001b[0;34m(\u001b[0m\u001b[0mgu_name\u001b[0m\u001b[0;34m)\u001b[0m\u001b[0;34m\u001b[0m\u001b[0;34m\u001b[0m\u001b[0m\n\u001b[1;32m      8\u001b[0m     \u001b[0mtime\u001b[0m\u001b[0;34m.\u001b[0m\u001b[0msleep\u001b[0m\u001b[0;34m(\u001b[0m\u001b[0;36m2\u001b[0m\u001b[0;34m)\u001b[0m\u001b[0;34m\u001b[0m\u001b[0;34m\u001b[0m\u001b[0m\n\u001b[0;32m----> 9\u001b[0;31m     \u001b[0mresult\u001b[0m\u001b[0;34m.\u001b[0m\u001b[0mappend\u001b[0m\u001b[0;34m(\u001b[0m\u001b[0mget_info_from_target_page\u001b[0m\u001b[0;34m(\u001b[0m\u001b[0mdriver\u001b[0m\u001b[0;34m,\u001b[0m\u001b[0mgu\u001b[0m\u001b[0;34m)\u001b[0m\u001b[0;34m)\u001b[0m\u001b[0;34m\u001b[0m\u001b[0;34m\u001b[0m\u001b[0m\n\u001b[0m\u001b[1;32m     10\u001b[0m \u001b[0mraw_data\u001b[0m\u001b[0;34m=\u001b[0m\u001b[0mpd\u001b[0m\u001b[0;34m.\u001b[0m\u001b[0mconcat\u001b[0m\u001b[0;34m(\u001b[0m\u001b[0mresult\u001b[0m\u001b[0;34m)\u001b[0m\u001b[0;34m\u001b[0m\u001b[0;34m\u001b[0m\u001b[0m\n\u001b[1;32m     11\u001b[0m \u001b[0mraw_data\u001b[0m\u001b[0;34m.\u001b[0m\u001b[0mreset_index\u001b[0m\u001b[0;34m(\u001b[0m\u001b[0mdrop\u001b[0m\u001b[0;34m=\u001b[0m\u001b[0;32mTrue\u001b[0m\u001b[0;34m,\u001b[0m\u001b[0minplace\u001b[0m\u001b[0;34m=\u001b[0m\u001b[0;32mTrue\u001b[0m\u001b[0;34m)\u001b[0m\u001b[0;34m\u001b[0m\u001b[0;34m\u001b[0m\u001b[0m\n",
      "\u001b[0;31mTypeError\u001b[0m: get_info_from_target_page() takes 1 positional argument but 2 were given"
     ]
    }
   ],
   "source": [
    "import time\n",
    "result=[]\n",
    "\n",
    "for gu in gu_name:\n",
    "    time.sleep(2)\n",
    "    element = driver.find_element_by_id(\"SIGUNGU_NM0\")\n",
    "    element.send_keys(gu_name)\n",
    "    time.sleep(2)\n",
    "    result.append(get_info_from_target_page(driver,gu))\n",
    "raw_data=pd.concat(result)\n",
    "raw_data.reset_index(drop=True,inplace=True)\n",
    "raw_data"
   ]
  },
  {
   "cell_type": "code",
   "execution_count": 89,
   "metadata": {},
   "outputs": [
    {
     "output_type": "execute_result",
     "data": {
      "text/plain": [
       "<selenium.webdriver.remote.webelement.WebElement (session=\"6dd0f39a66313b16360780e36a4b0b15\", element=\"95c0502f-dbd6-4e4d-92db-4f0076fed297\")>"
      ]
     },
     "metadata": {},
     "execution_count": 89
    }
   ],
   "source": [
    "driver.find_element_by_id(\"SIGUNGU_NM0\")"
   ]
  },
  {
   "cell_type": "code",
   "execution_count": 103,
   "metadata": {},
   "outputs": [],
   "source": []
  },
  {
   "cell_type": "code",
   "execution_count": 112,
   "metadata": {},
   "outputs": [],
   "source": []
  },
  {
   "cell_type": "code",
   "execution_count": 137,
   "metadata": {},
   "outputs": [
    {
     "output_type": "error",
     "ename": "NoSuchElementException",
     "evalue": "Message: no such element: Unable to locate element: {\"method\":\"css selector\",\"selector\":\"[id=\"SIGUNGU_MN0\"]\"}\n  (Session info: chrome=88.0.4324.182)\n",
     "traceback": [
      "\u001b[0;31m---------------------------------------------------------------------------\u001b[0m",
      "\u001b[0;31mNoSuchElementException\u001b[0m                    Traceback (most recent call last)",
      "\u001b[0;32m<ipython-input-137-272989ac113f>\u001b[0m in \u001b[0;36m<module>\u001b[0;34m\u001b[0m\n\u001b[0;32m----> 1\u001b[0;31m \u001b[0melement\u001b[0m \u001b[0;34m=\u001b[0m \u001b[0mdriver\u001b[0m\u001b[0;34m.\u001b[0m\u001b[0mfind_element_by_id\u001b[0m\u001b[0;34m(\u001b[0m\u001b[0;34m\"SIGUNGU_MN0\"\u001b[0m\u001b[0;34m)\u001b[0m\u001b[0;34m\u001b[0m\u001b[0;34m\u001b[0m\u001b[0m\n\u001b[0m",
      "\u001b[0;32m~/opt/anaconda3/lib/python3.8/site-packages/selenium/webdriver/remote/webdriver.py\u001b[0m in \u001b[0;36mfind_element_by_id\u001b[0;34m(self, id_)\u001b[0m\n\u001b[1;32m    358\u001b[0m             \u001b[0melement\u001b[0m \u001b[0;34m=\u001b[0m \u001b[0mdriver\u001b[0m\u001b[0;34m.\u001b[0m\u001b[0mfind_element_by_id\u001b[0m\u001b[0;34m(\u001b[0m\u001b[0;34m'foo'\u001b[0m\u001b[0;34m)\u001b[0m\u001b[0;34m\u001b[0m\u001b[0;34m\u001b[0m\u001b[0m\n\u001b[1;32m    359\u001b[0m         \"\"\"\n\u001b[0;32m--> 360\u001b[0;31m         \u001b[0;32mreturn\u001b[0m \u001b[0mself\u001b[0m\u001b[0;34m.\u001b[0m\u001b[0mfind_element\u001b[0m\u001b[0;34m(\u001b[0m\u001b[0mby\u001b[0m\u001b[0;34m=\u001b[0m\u001b[0mBy\u001b[0m\u001b[0;34m.\u001b[0m\u001b[0mID\u001b[0m\u001b[0;34m,\u001b[0m \u001b[0mvalue\u001b[0m\u001b[0;34m=\u001b[0m\u001b[0mid_\u001b[0m\u001b[0;34m)\u001b[0m\u001b[0;34m\u001b[0m\u001b[0;34m\u001b[0m\u001b[0m\n\u001b[0m\u001b[1;32m    361\u001b[0m \u001b[0;34m\u001b[0m\u001b[0m\n\u001b[1;32m    362\u001b[0m     \u001b[0;32mdef\u001b[0m \u001b[0mfind_elements_by_id\u001b[0m\u001b[0;34m(\u001b[0m\u001b[0mself\u001b[0m\u001b[0;34m,\u001b[0m \u001b[0mid_\u001b[0m\u001b[0;34m)\u001b[0m\u001b[0;34m:\u001b[0m\u001b[0;34m\u001b[0m\u001b[0;34m\u001b[0m\u001b[0m\n",
      "\u001b[0;32m~/opt/anaconda3/lib/python3.8/site-packages/selenium/webdriver/remote/webdriver.py\u001b[0m in \u001b[0;36mfind_element\u001b[0;34m(self, by, value)\u001b[0m\n\u001b[1;32m    974\u001b[0m                 \u001b[0mby\u001b[0m \u001b[0;34m=\u001b[0m \u001b[0mBy\u001b[0m\u001b[0;34m.\u001b[0m\u001b[0mCSS_SELECTOR\u001b[0m\u001b[0;34m\u001b[0m\u001b[0;34m\u001b[0m\u001b[0m\n\u001b[1;32m    975\u001b[0m                 \u001b[0mvalue\u001b[0m \u001b[0;34m=\u001b[0m \u001b[0;34m'[name=\"%s\"]'\u001b[0m \u001b[0;34m%\u001b[0m \u001b[0mvalue\u001b[0m\u001b[0;34m\u001b[0m\u001b[0;34m\u001b[0m\u001b[0m\n\u001b[0;32m--> 976\u001b[0;31m         return self.execute(Command.FIND_ELEMENT, {\n\u001b[0m\u001b[1;32m    977\u001b[0m             \u001b[0;34m'using'\u001b[0m\u001b[0;34m:\u001b[0m \u001b[0mby\u001b[0m\u001b[0;34m,\u001b[0m\u001b[0;34m\u001b[0m\u001b[0;34m\u001b[0m\u001b[0m\n\u001b[1;32m    978\u001b[0m             'value': value})['value']\n",
      "\u001b[0;32m~/opt/anaconda3/lib/python3.8/site-packages/selenium/webdriver/remote/webdriver.py\u001b[0m in \u001b[0;36mexecute\u001b[0;34m(self, driver_command, params)\u001b[0m\n\u001b[1;32m    319\u001b[0m         \u001b[0mresponse\u001b[0m \u001b[0;34m=\u001b[0m \u001b[0mself\u001b[0m\u001b[0;34m.\u001b[0m\u001b[0mcommand_executor\u001b[0m\u001b[0;34m.\u001b[0m\u001b[0mexecute\u001b[0m\u001b[0;34m(\u001b[0m\u001b[0mdriver_command\u001b[0m\u001b[0;34m,\u001b[0m \u001b[0mparams\u001b[0m\u001b[0;34m)\u001b[0m\u001b[0;34m\u001b[0m\u001b[0;34m\u001b[0m\u001b[0m\n\u001b[1;32m    320\u001b[0m         \u001b[0;32mif\u001b[0m \u001b[0mresponse\u001b[0m\u001b[0;34m:\u001b[0m\u001b[0;34m\u001b[0m\u001b[0;34m\u001b[0m\u001b[0m\n\u001b[0;32m--> 321\u001b[0;31m             \u001b[0mself\u001b[0m\u001b[0;34m.\u001b[0m\u001b[0merror_handler\u001b[0m\u001b[0;34m.\u001b[0m\u001b[0mcheck_response\u001b[0m\u001b[0;34m(\u001b[0m\u001b[0mresponse\u001b[0m\u001b[0;34m)\u001b[0m\u001b[0;34m\u001b[0m\u001b[0;34m\u001b[0m\u001b[0m\n\u001b[0m\u001b[1;32m    322\u001b[0m             response['value'] = self._unwrap_value(\n\u001b[1;32m    323\u001b[0m                 response.get('value', None))\n",
      "\u001b[0;32m~/opt/anaconda3/lib/python3.8/site-packages/selenium/webdriver/remote/errorhandler.py\u001b[0m in \u001b[0;36mcheck_response\u001b[0;34m(self, response)\u001b[0m\n\u001b[1;32m    240\u001b[0m                 \u001b[0malert_text\u001b[0m \u001b[0;34m=\u001b[0m \u001b[0mvalue\u001b[0m\u001b[0;34m[\u001b[0m\u001b[0;34m'alert'\u001b[0m\u001b[0;34m]\u001b[0m\u001b[0;34m.\u001b[0m\u001b[0mget\u001b[0m\u001b[0;34m(\u001b[0m\u001b[0;34m'text'\u001b[0m\u001b[0;34m)\u001b[0m\u001b[0;34m\u001b[0m\u001b[0;34m\u001b[0m\u001b[0m\n\u001b[1;32m    241\u001b[0m             \u001b[0;32mraise\u001b[0m \u001b[0mexception_class\u001b[0m\u001b[0;34m(\u001b[0m\u001b[0mmessage\u001b[0m\u001b[0;34m,\u001b[0m \u001b[0mscreen\u001b[0m\u001b[0;34m,\u001b[0m \u001b[0mstacktrace\u001b[0m\u001b[0;34m,\u001b[0m \u001b[0malert_text\u001b[0m\u001b[0;34m)\u001b[0m\u001b[0;34m\u001b[0m\u001b[0;34m\u001b[0m\u001b[0m\n\u001b[0;32m--> 242\u001b[0;31m         \u001b[0;32mraise\u001b[0m \u001b[0mexception_class\u001b[0m\u001b[0;34m(\u001b[0m\u001b[0mmessage\u001b[0m\u001b[0;34m,\u001b[0m \u001b[0mscreen\u001b[0m\u001b[0;34m,\u001b[0m \u001b[0mstacktrace\u001b[0m\u001b[0;34m)\u001b[0m\u001b[0;34m\u001b[0m\u001b[0;34m\u001b[0m\u001b[0m\n\u001b[0m\u001b[1;32m    243\u001b[0m \u001b[0;34m\u001b[0m\u001b[0m\n\u001b[1;32m    244\u001b[0m     \u001b[0;32mdef\u001b[0m \u001b[0m_value_or_default\u001b[0m\u001b[0;34m(\u001b[0m\u001b[0mself\u001b[0m\u001b[0;34m,\u001b[0m \u001b[0mobj\u001b[0m\u001b[0;34m,\u001b[0m \u001b[0mkey\u001b[0m\u001b[0;34m,\u001b[0m \u001b[0mdefault\u001b[0m\u001b[0;34m)\u001b[0m\u001b[0;34m:\u001b[0m\u001b[0;34m\u001b[0m\u001b[0;34m\u001b[0m\u001b[0m\n",
      "\u001b[0;31mNoSuchElementException\u001b[0m: Message: no such element: Unable to locate element: {\"method\":\"css selector\",\"selector\":\"[id=\"SIGUNGU_MN0\"]\"}\n  (Session info: chrome=88.0.4324.182)\n"
     ]
    }
   ],
   "source": [
    "\n"
   ]
  },
  {
   "cell_type": "code",
   "execution_count": null,
   "metadata": {},
   "outputs": [],
   "source": []
  }
 ]
}